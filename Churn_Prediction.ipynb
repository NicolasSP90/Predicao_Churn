{
 "cells": [
  {
   "cell_type": "markdown",
   "metadata": {},
   "source": [
    "<h1 style=\"color:cornflowerblue\">Objectives</h1>\n",
    "<p>The current project must check the Churn Rate (% of cliens that may leave the company) and classify them. To do that he study must check the data in a database with clients that already left the company, a historic database. In the end, the clients must be classied in \"churn\" (will leave) and \"not churn\" (will stay)."
   ]
  },
  {
   "cell_type": "markdown",
   "metadata": {},
   "source": [
    "<h1 style=\"color:cornflowerblue\">Importing Libraries</h1>"
   ]
  },
  {
   "cell_type": "code",
   "execution_count": 1,
   "metadata": {},
   "outputs": [],
   "source": [
    "# Basic Visualization\n",
    "import pandas as pd\n",
    "import numpy as np\n",
    "import matplotlib.pyplot as plt\n",
    "import seaborn as sns\n",
    "\n",
    "# Data Processing\n",
    "from sklearn.preprocessing import OneHotEncoder\n",
    "from sklearn.model_selection import train_test_split\n",
    "from sklearn.preprocessing import StandardScaler\n",
    "\n",
    "# Models\n",
    "from sklearn.model_selection import cross_val_score\n",
    "from sklearn.linear_model import LogisticRegression\n",
    "from sklearn.ensemble import RandomForestClassifier\n",
    "import xgboost as xgb\n",
    "import lightgbm as lgbm\n",
    "from sklearn.ensemble import HistGradientBoostingClassifier as hgbc\n",
    "from sklearn.impute import KNNImputer\n",
    "\n",
    "\n",
    "\n",
    "# Metrics\n",
    "from sklearn.metrics import accuracy_score\n",
    "from sklearn.metrics import precision_score\n",
    "from sklearn.metrics import recall_score\n",
    "from sklearn.metrics import make_scorer\n",
    "from sklearn.metrics import f1_score\n",
    "# from sklearn.metrics import confusion_matrix\n"
   ]
  },
  {
   "cell_type": "code",
   "execution_count": 2,
   "metadata": {},
   "outputs": [],
   "source": [
    "# Configuring Pandas\n",
    "pd.set_option(\"display.max_rows\", None)\n",
    "pd.set_option(\"display.max_columns\", None)\n",
    "\n",
    "\n",
    "# Configuring pandas no to to show cientific notation\n",
    "pd.set_option(\"display.float_format\", lambda x: \"%.2f\" % x)\n",
    "\n",
    "# Setting Seabotn palette\n",
    "sns.set_palette(\"dark\")\n",
    "# Setting Seaborn Plot Styles\n",
    "sns.set_style(\"darkgrid\")"
   ]
  },
  {
   "cell_type": "markdown",
   "metadata": {},
   "source": [
    "<h1 style=\"color:cornflowerblue\">Dataframe</h1>"
   ]
  },
  {
   "cell_type": "code",
   "execution_count": 3,
   "metadata": {},
   "outputs": [
    {
     "data": {
      "text/html": [
       "<div>\n",
       "<style scoped>\n",
       "    .dataframe tbody tr th:only-of-type {\n",
       "        vertical-align: middle;\n",
       "    }\n",
       "\n",
       "    .dataframe tbody tr th {\n",
       "        vertical-align: top;\n",
       "    }\n",
       "\n",
       "    .dataframe thead th {\n",
       "        text-align: right;\n",
       "    }\n",
       "</style>\n",
       "<table border=\"1\" class=\"dataframe\">\n",
       "  <thead>\n",
       "    <tr style=\"text-align: right;\">\n",
       "      <th></th>\n",
       "      <th>id</th>\n",
       "      <th>gender</th>\n",
       "      <th>SeniorCitizen</th>\n",
       "      <th>Partner</th>\n",
       "      <th>Dependents</th>\n",
       "      <th>tenure</th>\n",
       "      <th>PhoneService</th>\n",
       "      <th>MultipleLines</th>\n",
       "      <th>InternetService</th>\n",
       "      <th>OnlineSecurity</th>\n",
       "      <th>OnlineBackup</th>\n",
       "      <th>DeviceProtection</th>\n",
       "      <th>TechSupport</th>\n",
       "      <th>StreamingTV</th>\n",
       "      <th>StreamingMovies</th>\n",
       "      <th>Contract</th>\n",
       "      <th>PaperlessBilling</th>\n",
       "      <th>PaymentMethod</th>\n",
       "      <th>MonthlyCharges</th>\n",
       "      <th>TotalCharges</th>\n",
       "      <th>Churn</th>\n",
       "    </tr>\n",
       "  </thead>\n",
       "  <tbody>\n",
       "    <tr>\n",
       "      <th>0</th>\n",
       "      <td>4030</td>\n",
       "      <td>Female</td>\n",
       "      <td>0</td>\n",
       "      <td>No</td>\n",
       "      <td>No</td>\n",
       "      <td>56.00</td>\n",
       "      <td>No</td>\n",
       "      <td>No phone service</td>\n",
       "      <td>DSL</td>\n",
       "      <td>Yes</td>\n",
       "      <td>Yes</td>\n",
       "      <td>Yes</td>\n",
       "      <td>Yes</td>\n",
       "      <td>No</td>\n",
       "      <td>No</td>\n",
       "      <td>Two year</td>\n",
       "      <td>No</td>\n",
       "      <td>NaN</td>\n",
       "      <td>45.05</td>\n",
       "      <td>2560.1</td>\n",
       "      <td>0</td>\n",
       "    </tr>\n",
       "    <tr>\n",
       "      <th>1</th>\n",
       "      <td>6731</td>\n",
       "      <td>Male</td>\n",
       "      <td>0</td>\n",
       "      <td>Yes</td>\n",
       "      <td>Yes</td>\n",
       "      <td>NaN</td>\n",
       "      <td>Yes</td>\n",
       "      <td>No</td>\n",
       "      <td>No</td>\n",
       "      <td>No internet service</td>\n",
       "      <td>No internet service</td>\n",
       "      <td>No internet service</td>\n",
       "      <td>No internet service</td>\n",
       "      <td>No internet service</td>\n",
       "      <td>No internet service</td>\n",
       "      <td>One year</td>\n",
       "      <td>No</td>\n",
       "      <td>Mailed check</td>\n",
       "      <td>19.65</td>\n",
       "      <td>332.65</td>\n",
       "      <td>0</td>\n",
       "    </tr>\n",
       "    <tr>\n",
       "      <th>2</th>\n",
       "      <td>6479</td>\n",
       "      <td>Female</td>\n",
       "      <td>0</td>\n",
       "      <td>Yes</td>\n",
       "      <td>No</td>\n",
       "      <td>60.00</td>\n",
       "      <td>Yes</td>\n",
       "      <td>Yes</td>\n",
       "      <td>Fiber optic</td>\n",
       "      <td>No</td>\n",
       "      <td>Yes</td>\n",
       "      <td>Yes</td>\n",
       "      <td>Yes</td>\n",
       "      <td>Yes</td>\n",
       "      <td>Yes</td>\n",
       "      <td>Two year</td>\n",
       "      <td>Yes</td>\n",
       "      <td>Credit card (automatic)</td>\n",
       "      <td>110.80</td>\n",
       "      <td>6640.7</td>\n",
       "      <td>0</td>\n",
       "    </tr>\n",
       "    <tr>\n",
       "      <th>3</th>\n",
       "      <td>6861</td>\n",
       "      <td>Female</td>\n",
       "      <td>0</td>\n",
       "      <td>No</td>\n",
       "      <td>No</td>\n",
       "      <td>37.00</td>\n",
       "      <td>Yes</td>\n",
       "      <td>Yes</td>\n",
       "      <td>Fiber optic</td>\n",
       "      <td>No</td>\n",
       "      <td>Yes</td>\n",
       "      <td>Yes</td>\n",
       "      <td>No</td>\n",
       "      <td>Yes</td>\n",
       "      <td>Yes</td>\n",
       "      <td>Month-to-month</td>\n",
       "      <td>Yes</td>\n",
       "      <td>Bank transfer (automatic)</td>\n",
       "      <td>101.90</td>\n",
       "      <td>3545.35</td>\n",
       "      <td>1</td>\n",
       "    </tr>\n",
       "    <tr>\n",
       "      <th>4</th>\n",
       "      <td>3266</td>\n",
       "      <td>Male</td>\n",
       "      <td>0</td>\n",
       "      <td>Yes</td>\n",
       "      <td>Yes</td>\n",
       "      <td>29.00</td>\n",
       "      <td>Yes</td>\n",
       "      <td>No</td>\n",
       "      <td>Fiber optic</td>\n",
       "      <td>No</td>\n",
       "      <td>No</td>\n",
       "      <td>No</td>\n",
       "      <td>No</td>\n",
       "      <td>No</td>\n",
       "      <td>No</td>\n",
       "      <td>Month-to-month</td>\n",
       "      <td>Yes</td>\n",
       "      <td>Electronic check</td>\n",
       "      <td>70.75</td>\n",
       "      <td>1974.8</td>\n",
       "      <td>1</td>\n",
       "    </tr>\n",
       "  </tbody>\n",
       "</table>\n",
       "</div>"
      ],
      "text/plain": [
       "     id  gender  SeniorCitizen Partner Dependents  tenure PhoneService  \\\n",
       "0  4030  Female              0      No         No   56.00           No   \n",
       "1  6731    Male              0     Yes        Yes     NaN          Yes   \n",
       "2  6479  Female              0     Yes         No   60.00          Yes   \n",
       "3  6861  Female              0      No         No   37.00          Yes   \n",
       "4  3266    Male              0     Yes        Yes   29.00          Yes   \n",
       "\n",
       "      MultipleLines InternetService       OnlineSecurity         OnlineBackup  \\\n",
       "0  No phone service             DSL                  Yes                  Yes   \n",
       "1                No              No  No internet service  No internet service   \n",
       "2               Yes     Fiber optic                   No                  Yes   \n",
       "3               Yes     Fiber optic                   No                  Yes   \n",
       "4                No     Fiber optic                   No                   No   \n",
       "\n",
       "      DeviceProtection          TechSupport          StreamingTV  \\\n",
       "0                  Yes                  Yes                   No   \n",
       "1  No internet service  No internet service  No internet service   \n",
       "2                  Yes                  Yes                  Yes   \n",
       "3                  Yes                   No                  Yes   \n",
       "4                   No                   No                   No   \n",
       "\n",
       "       StreamingMovies        Contract PaperlessBilling  \\\n",
       "0                   No        Two year               No   \n",
       "1  No internet service        One year               No   \n",
       "2                  Yes        Two year              Yes   \n",
       "3                  Yes  Month-to-month              Yes   \n",
       "4                   No  Month-to-month              Yes   \n",
       "\n",
       "               PaymentMethod  MonthlyCharges TotalCharges  Churn  \n",
       "0                        NaN           45.05       2560.1      0  \n",
       "1               Mailed check           19.65       332.65      0  \n",
       "2    Credit card (automatic)          110.80       6640.7      0  \n",
       "3  Bank transfer (automatic)          101.90      3545.35      1  \n",
       "4           Electronic check           70.75       1974.8      1  "
      ]
     },
     "execution_count": 3,
     "metadata": {},
     "output_type": "execute_result"
    }
   ],
   "source": [
    "# Importing Dataframe\n",
    "\n",
    "df_clients = pd.read_csv(\"./data/train.csv\")\n",
    "df_clients.head()"
   ]
  },
  {
   "cell_type": "code",
   "execution_count": 4,
   "metadata": {},
   "outputs": [
    {
     "data": {
      "text/plain": [
       "Index(['id', 'gender', 'SeniorCitizen', 'Partner', 'Dependents', 'tenure',\n",
       "       'PhoneService', 'MultipleLines', 'InternetService', 'OnlineSecurity',\n",
       "       'OnlineBackup', 'DeviceProtection', 'TechSupport', 'StreamingTV',\n",
       "       'StreamingMovies', 'Contract', 'PaperlessBilling', 'PaymentMethod',\n",
       "       'MonthlyCharges', 'TotalCharges', 'Churn'],\n",
       "      dtype='object')"
      ]
     },
     "execution_count": 4,
     "metadata": {},
     "output_type": "execute_result"
    }
   ],
   "source": [
    "# Checking the column names\n",
    "\n",
    "df_clients.columns"
   ]
  },
  {
   "cell_type": "code",
   "execution_count": 5,
   "metadata": {},
   "outputs": [
    {
     "data": {
      "text/plain": [
       "True"
      ]
     },
     "execution_count": 5,
     "metadata": {},
     "output_type": "execute_result"
    }
   ],
   "source": [
    "# Checking if the id columns is has only unique values\n",
    "\n",
    "df_clients[\"id\"].is_unique"
   ]
  },
  {
   "cell_type": "markdown",
   "metadata": {},
   "source": [
    "<h2 style=\"color:cornflowerblue\">First Impression</h2>\n",
    "<p>No duplicated clientes are inputed. The structure of the dataframe contains:\n",
    "    <ul type=disc>\n",
    "    <li>id - clients identification\n",
    "    <li>gender - clients gender\n",
    "    <li>SeniorCitizen - shows if the client is elderly\n",
    "    <li>Partner - shows if the client has a partner\n",
    "    <li>Dependents - shows if the client has dependents\n",
    "    <li>tenure - shows for how long is a client\n",
    "    <li>PhoneService - indicate if the client has a phone service\n",
    "    <li>MultipleLines - indicate if the client has multiple phone services\n",
    "    <li>InternetService - indicate if the client has internet service\n",
    "    <li>OnlineSecurity - indicate if the client has a internet security service\n",
    "    <li>OnlineBackup - indicate if the client has a backup service\n",
    "    <li>DeviceProtection - indicate if the client has a device protection service\n",
    "    <li>TechSupport - indicate if the client has technical support service\n",
    "    <li>StreamingTV - indicate if the client has a TV streaming service\n",
    "    <li>StreamingMovies - indicate if the client has a Streaming service\n",
    "    <li>Contract - indicate the type of contract of the client\n",
    "    <li>PaperlessBilling - indicate if the client has a paper billing or not (electronic)\n",
    "    <li>PaymentMethod - indicate payment method\n",
    "    <li>MonthlyCharges - indicate monthly value of the service\n",
    "    <li>TotalCharges - indicate the total value of the contract\n",
    "    <li>Churn - indicate if left the company or not"
   ]
  },
  {
   "cell_type": "code",
   "execution_count": 6,
   "metadata": {},
   "outputs": [
    {
     "data": {
      "text/html": [
       "<div>\n",
       "<style scoped>\n",
       "    .dataframe tbody tr th:only-of-type {\n",
       "        vertical-align: middle;\n",
       "    }\n",
       "\n",
       "    .dataframe tbody tr th {\n",
       "        vertical-align: top;\n",
       "    }\n",
       "\n",
       "    .dataframe thead th {\n",
       "        text-align: right;\n",
       "    }\n",
       "</style>\n",
       "<table border=\"1\" class=\"dataframe\">\n",
       "  <thead>\n",
       "    <tr style=\"text-align: right;\">\n",
       "      <th></th>\n",
       "      <th>Gender</th>\n",
       "      <th>Seniorcitizen</th>\n",
       "      <th>Partner</th>\n",
       "      <th>Dependents</th>\n",
       "      <th>Tenure</th>\n",
       "      <th>Phoneservice</th>\n",
       "      <th>Multiplelines</th>\n",
       "      <th>Internetservice</th>\n",
       "      <th>Onlinesecurity</th>\n",
       "      <th>Onlinebackup</th>\n",
       "      <th>Deviceprotection</th>\n",
       "      <th>Techsupport</th>\n",
       "      <th>Streamingtv</th>\n",
       "      <th>Streamingmovies</th>\n",
       "      <th>Contract</th>\n",
       "      <th>Paperlessbilling</th>\n",
       "      <th>Paymentmethod</th>\n",
       "      <th>Monthlycharges</th>\n",
       "      <th>Totalcharges</th>\n",
       "      <th>Churn</th>\n",
       "    </tr>\n",
       "    <tr>\n",
       "      <th>id</th>\n",
       "      <th></th>\n",
       "      <th></th>\n",
       "      <th></th>\n",
       "      <th></th>\n",
       "      <th></th>\n",
       "      <th></th>\n",
       "      <th></th>\n",
       "      <th></th>\n",
       "      <th></th>\n",
       "      <th></th>\n",
       "      <th></th>\n",
       "      <th></th>\n",
       "      <th></th>\n",
       "      <th></th>\n",
       "      <th></th>\n",
       "      <th></th>\n",
       "      <th></th>\n",
       "      <th></th>\n",
       "      <th></th>\n",
       "      <th></th>\n",
       "    </tr>\n",
       "  </thead>\n",
       "  <tbody>\n",
       "    <tr>\n",
       "      <th>4030</th>\n",
       "      <td>Female</td>\n",
       "      <td>0</td>\n",
       "      <td>No</td>\n",
       "      <td>No</td>\n",
       "      <td>56.00</td>\n",
       "      <td>No</td>\n",
       "      <td>No phone service</td>\n",
       "      <td>DSL</td>\n",
       "      <td>Yes</td>\n",
       "      <td>Yes</td>\n",
       "      <td>Yes</td>\n",
       "      <td>Yes</td>\n",
       "      <td>No</td>\n",
       "      <td>No</td>\n",
       "      <td>Two year</td>\n",
       "      <td>No</td>\n",
       "      <td>NaN</td>\n",
       "      <td>45.05</td>\n",
       "      <td>2560.1</td>\n",
       "      <td>0</td>\n",
       "    </tr>\n",
       "    <tr>\n",
       "      <th>6731</th>\n",
       "      <td>Male</td>\n",
       "      <td>0</td>\n",
       "      <td>Yes</td>\n",
       "      <td>Yes</td>\n",
       "      <td>NaN</td>\n",
       "      <td>Yes</td>\n",
       "      <td>No</td>\n",
       "      <td>No</td>\n",
       "      <td>No internet service</td>\n",
       "      <td>No internet service</td>\n",
       "      <td>No internet service</td>\n",
       "      <td>No internet service</td>\n",
       "      <td>No internet service</td>\n",
       "      <td>No internet service</td>\n",
       "      <td>One year</td>\n",
       "      <td>No</td>\n",
       "      <td>Mailed check</td>\n",
       "      <td>19.65</td>\n",
       "      <td>332.65</td>\n",
       "      <td>0</td>\n",
       "    </tr>\n",
       "    <tr>\n",
       "      <th>6479</th>\n",
       "      <td>Female</td>\n",
       "      <td>0</td>\n",
       "      <td>Yes</td>\n",
       "      <td>No</td>\n",
       "      <td>60.00</td>\n",
       "      <td>Yes</td>\n",
       "      <td>Yes</td>\n",
       "      <td>Fiber optic</td>\n",
       "      <td>No</td>\n",
       "      <td>Yes</td>\n",
       "      <td>Yes</td>\n",
       "      <td>Yes</td>\n",
       "      <td>Yes</td>\n",
       "      <td>Yes</td>\n",
       "      <td>Two year</td>\n",
       "      <td>Yes</td>\n",
       "      <td>Credit card (automatic)</td>\n",
       "      <td>110.80</td>\n",
       "      <td>6640.7</td>\n",
       "      <td>0</td>\n",
       "    </tr>\n",
       "    <tr>\n",
       "      <th>6861</th>\n",
       "      <td>Female</td>\n",
       "      <td>0</td>\n",
       "      <td>No</td>\n",
       "      <td>No</td>\n",
       "      <td>37.00</td>\n",
       "      <td>Yes</td>\n",
       "      <td>Yes</td>\n",
       "      <td>Fiber optic</td>\n",
       "      <td>No</td>\n",
       "      <td>Yes</td>\n",
       "      <td>Yes</td>\n",
       "      <td>No</td>\n",
       "      <td>Yes</td>\n",
       "      <td>Yes</td>\n",
       "      <td>Month-to-month</td>\n",
       "      <td>Yes</td>\n",
       "      <td>Bank transfer (automatic)</td>\n",
       "      <td>101.90</td>\n",
       "      <td>3545.35</td>\n",
       "      <td>1</td>\n",
       "    </tr>\n",
       "    <tr>\n",
       "      <th>3266</th>\n",
       "      <td>Male</td>\n",
       "      <td>0</td>\n",
       "      <td>Yes</td>\n",
       "      <td>Yes</td>\n",
       "      <td>29.00</td>\n",
       "      <td>Yes</td>\n",
       "      <td>No</td>\n",
       "      <td>Fiber optic</td>\n",
       "      <td>No</td>\n",
       "      <td>No</td>\n",
       "      <td>No</td>\n",
       "      <td>No</td>\n",
       "      <td>No</td>\n",
       "      <td>No</td>\n",
       "      <td>Month-to-month</td>\n",
       "      <td>Yes</td>\n",
       "      <td>Electronic check</td>\n",
       "      <td>70.75</td>\n",
       "      <td>1974.8</td>\n",
       "      <td>1</td>\n",
       "    </tr>\n",
       "  </tbody>\n",
       "</table>\n",
       "</div>"
      ],
      "text/plain": [
       "      Gender  Seniorcitizen Partner Dependents  Tenure Phoneservice  \\\n",
       "id                                                                    \n",
       "4030  Female              0      No         No   56.00           No   \n",
       "6731    Male              0     Yes        Yes     NaN          Yes   \n",
       "6479  Female              0     Yes         No   60.00          Yes   \n",
       "6861  Female              0      No         No   37.00          Yes   \n",
       "3266    Male              0     Yes        Yes   29.00          Yes   \n",
       "\n",
       "         Multiplelines Internetservice       Onlinesecurity  \\\n",
       "id                                                            \n",
       "4030  No phone service             DSL                  Yes   \n",
       "6731                No              No  No internet service   \n",
       "6479               Yes     Fiber optic                   No   \n",
       "6861               Yes     Fiber optic                   No   \n",
       "3266                No     Fiber optic                   No   \n",
       "\n",
       "             Onlinebackup     Deviceprotection          Techsupport  \\\n",
       "id                                                                    \n",
       "4030                  Yes                  Yes                  Yes   \n",
       "6731  No internet service  No internet service  No internet service   \n",
       "6479                  Yes                  Yes                  Yes   \n",
       "6861                  Yes                  Yes                   No   \n",
       "3266                   No                   No                   No   \n",
       "\n",
       "              Streamingtv      Streamingmovies        Contract  \\\n",
       "id                                                               \n",
       "4030                   No                   No        Two year   \n",
       "6731  No internet service  No internet service        One year   \n",
       "6479                  Yes                  Yes        Two year   \n",
       "6861                  Yes                  Yes  Month-to-month   \n",
       "3266                   No                   No  Month-to-month   \n",
       "\n",
       "     Paperlessbilling              Paymentmethod  Monthlycharges Totalcharges  \\\n",
       "id                                                                              \n",
       "4030               No                        NaN           45.05       2560.1   \n",
       "6731               No               Mailed check           19.65       332.65   \n",
       "6479              Yes    Credit card (automatic)          110.80       6640.7   \n",
       "6861              Yes  Bank transfer (automatic)          101.90      3545.35   \n",
       "3266              Yes           Electronic check           70.75       1974.8   \n",
       "\n",
       "      Churn  \n",
       "id           \n",
       "4030      0  \n",
       "6731      0  \n",
       "6479      0  \n",
       "6861      1  \n",
       "3266      1  "
      ]
     },
     "execution_count": 6,
     "metadata": {},
     "output_type": "execute_result"
    }
   ],
   "source": [
    "# Making the client ID the index\n",
    "\n",
    "df_clients = df_clients.set_index(\"id\")\n",
    "\n",
    "\n",
    "# Making all columns start with a capital letter\n",
    "df_clients.columns = [columns.capitalize() for columns in df_clients.columns.tolist()]\n",
    "\n",
    "df_clients.head()"
   ]
  },
  {
   "cell_type": "code",
   "execution_count": 7,
   "metadata": {},
   "outputs": [
    {
     "data": {
      "text/plain": [
       "(5634, 20)"
      ]
     },
     "execution_count": 7,
     "metadata": {},
     "output_type": "execute_result"
    }
   ],
   "source": [
    "# Checking the Dataframe Shape\n",
    "\n",
    "df_clients.shape"
   ]
  },
  {
   "cell_type": "code",
   "execution_count": 8,
   "metadata": {},
   "outputs": [
    {
     "name": "stdout",
     "output_type": "stream",
     "text": [
      "<class 'pandas.core.frame.DataFrame'>\n",
      "Index: 5634 entries, 4030 to 103\n",
      "Data columns (total 20 columns):\n",
      " #   Column            Non-Null Count  Dtype  \n",
      "---  ------            --------------  -----  \n",
      " 0   Gender            5634 non-null   object \n",
      " 1   Seniorcitizen     5634 non-null   int64  \n",
      " 2   Partner           5634 non-null   object \n",
      " 3   Dependents        5416 non-null   object \n",
      " 4   Tenure            5173 non-null   float64\n",
      " 5   Phoneservice      5634 non-null   object \n",
      " 6   Multiplelines     5634 non-null   object \n",
      " 7   Internetservice   5634 non-null   object \n",
      " 8   Onlinesecurity    5634 non-null   object \n",
      " 9   Onlinebackup      5634 non-null   object \n",
      " 10  Deviceprotection  5634 non-null   object \n",
      " 11  Techsupport       5634 non-null   object \n",
      " 12  Streamingtv       5634 non-null   object \n",
      " 13  Streamingmovies   5634 non-null   object \n",
      " 14  Contract          5634 non-null   object \n",
      " 15  Paperlessbilling  5634 non-null   object \n",
      " 16  Paymentmethod     5535 non-null   object \n",
      " 17  Monthlycharges    5634 non-null   float64\n",
      " 18  Totalcharges      5634 non-null   object \n",
      " 19  Churn             5634 non-null   int64  \n",
      "dtypes: float64(2), int64(2), object(16)\n",
      "memory usage: 924.3+ KB\n"
     ]
    }
   ],
   "source": [
    "# Checking Data Types and null values\n",
    "\n",
    "df_clients.info()"
   ]
  },
  {
   "cell_type": "code",
   "execution_count": 9,
   "metadata": {},
   "outputs": [
    {
     "name": "stdout",
     "output_type": "stream",
     "text": [
      "Index: 6755 -- Value:  \n",
      "Index: 5219 -- Value:  \n",
      "Index: 6671 -- Value:  \n",
      "Index: 937 -- Value:  \n",
      "Index: 3827 -- Value:  \n",
      "Index: 1083 -- Value:  \n",
      "Index: 3332 -- Value:  \n",
      "Index: 1341 -- Value:  \n",
      "Number of NaN: 8\n"
     ]
    }
   ],
   "source": [
    "# TotalCharges columns shouldn't have object data type. Checking values and quantities\n",
    "\n",
    "x = 0\n",
    "for i in df_clients.index:\n",
    "    try:\n",
    "        float(df_clients.loc[i, \"Totalcharges\"])\n",
    "    except:\n",
    "        print(f\"Index: {i} -- Value: {df_clients.loc[i, 'Totalcharges']}\")\n",
    "        x += 1\n",
    "print(f\"Number of NaN: {x}\")"
   ]
  },
  {
   "cell_type": "code",
   "execution_count": 10,
   "metadata": {},
   "outputs": [
    {
     "name": "stdout",
     "output_type": "stream",
     "text": [
      "<class 'pandas.core.frame.DataFrame'>\n",
      "Index: 5634 entries, 4030 to 103\n",
      "Data columns (total 20 columns):\n",
      " #   Column            Non-Null Count  Dtype  \n",
      "---  ------            --------------  -----  \n",
      " 0   Gender            5634 non-null   object \n",
      " 1   Seniorcitizen     5634 non-null   int64  \n",
      " 2   Partner           5634 non-null   object \n",
      " 3   Dependents        5416 non-null   object \n",
      " 4   Tenure            5173 non-null   float64\n",
      " 5   Phoneservice      5634 non-null   object \n",
      " 6   Multiplelines     5634 non-null   object \n",
      " 7   Internetservice   5634 non-null   object \n",
      " 8   Onlinesecurity    5634 non-null   object \n",
      " 9   Onlinebackup      5634 non-null   object \n",
      " 10  Deviceprotection  5634 non-null   object \n",
      " 11  Techsupport       5634 non-null   object \n",
      " 12  Streamingtv       5634 non-null   object \n",
      " 13  Streamingmovies   5634 non-null   object \n",
      " 14  Contract          5634 non-null   object \n",
      " 15  Paperlessbilling  5634 non-null   object \n",
      " 16  Paymentmethod     5535 non-null   object \n",
      " 17  Monthlycharges    5634 non-null   float64\n",
      " 18  Totalcharges      5626 non-null   float64\n",
      " 19  Churn             5634 non-null   int64  \n",
      "dtypes: float64(3), int64(2), object(15)\n",
      "memory usage: 1.0+ MB\n"
     ]
    }
   ],
   "source": [
    "# Replacing strings (spaces) found in the TotalCharges columns to transform the column in float\n",
    "# \\s+ means String of whitespaces\n",
    "# \\S+ means String of non-whitespaces\n",
    "\n",
    "df_clients[\"Totalcharges\"] = df_clients[\"Totalcharges\"].replace(r\"\\s+\", \"\", regex=True)\n",
    "df_clients[\"Totalcharges\"] = pd.to_numeric(df_clients[\"Totalcharges\"], errors=\"coerce\")\n",
    "df_clients.info()"
   ]
  },
  {
   "cell_type": "code",
   "execution_count": 11,
   "metadata": {},
   "outputs": [
    {
     "name": "stdout",
     "output_type": "stream",
     "text": [
      "Gender - Gender\n",
      "False    5634\n",
      "Name: count, dtype: int64\n",
      "\n",
      "Seniorcitizen - Seniorcitizen\n",
      "False    5634\n",
      "Name: count, dtype: int64\n",
      "\n",
      "Partner - Partner\n",
      "False    5634\n",
      "Name: count, dtype: int64\n",
      "\n",
      "Dependents - Dependents\n",
      "False    5416\n",
      "True      218\n",
      "Name: count, dtype: int64\n",
      "\n",
      "Tenure - Tenure\n",
      "False    5173\n",
      "True      461\n",
      "Name: count, dtype: int64\n",
      "\n",
      "Phoneservice - Phoneservice\n",
      "False    5634\n",
      "Name: count, dtype: int64\n",
      "\n",
      "Multiplelines - Multiplelines\n",
      "False    5634\n",
      "Name: count, dtype: int64\n",
      "\n",
      "Internetservice - Internetservice\n",
      "False    5634\n",
      "Name: count, dtype: int64\n",
      "\n",
      "Onlinesecurity - Onlinesecurity\n",
      "False    5634\n",
      "Name: count, dtype: int64\n",
      "\n",
      "Onlinebackup - Onlinebackup\n",
      "False    5634\n",
      "Name: count, dtype: int64\n",
      "\n",
      "Deviceprotection - Deviceprotection\n",
      "False    5634\n",
      "Name: count, dtype: int64\n",
      "\n",
      "Techsupport - Techsupport\n",
      "False    5634\n",
      "Name: count, dtype: int64\n",
      "\n",
      "Streamingtv - Streamingtv\n",
      "False    5634\n",
      "Name: count, dtype: int64\n",
      "\n",
      "Streamingmovies - Streamingmovies\n",
      "False    5634\n",
      "Name: count, dtype: int64\n",
      "\n",
      "Contract - Contract\n",
      "False    5634\n",
      "Name: count, dtype: int64\n",
      "\n",
      "Paperlessbilling - Paperlessbilling\n",
      "False    5634\n",
      "Name: count, dtype: int64\n",
      "\n",
      "Paymentmethod - Paymentmethod\n",
      "False    5535\n",
      "True       99\n",
      "Name: count, dtype: int64\n",
      "\n",
      "Monthlycharges - Monthlycharges\n",
      "False    5634\n",
      "Name: count, dtype: int64\n",
      "\n",
      "Totalcharges - Totalcharges\n",
      "False    5626\n",
      "True        8\n",
      "Name: count, dtype: int64\n",
      "\n",
      "Churn - Churn\n",
      "False    5634\n",
      "Name: count, dtype: int64\n",
      "\n"
     ]
    }
   ],
   "source": [
    "# Checking missing values\n",
    "\n",
    "for i in df_clients.columns:\n",
    "    print(f'{i} - {df_clients[i].isna().value_counts()}\\n')"
   ]
  },
  {
   "cell_type": "markdown",
   "metadata": {},
   "source": [
    "<h1 style=\"color:cornflowerblue\">Basic Statistics</h1>"
   ]
  },
  {
   "cell_type": "code",
   "execution_count": 12,
   "metadata": {},
   "outputs": [
    {
     "data": {
      "text/html": [
       "<div>\n",
       "<style scoped>\n",
       "    .dataframe tbody tr th:only-of-type {\n",
       "        vertical-align: middle;\n",
       "    }\n",
       "\n",
       "    .dataframe tbody tr th {\n",
       "        vertical-align: top;\n",
       "    }\n",
       "\n",
       "    .dataframe thead th {\n",
       "        text-align: right;\n",
       "    }\n",
       "</style>\n",
       "<table border=\"1\" class=\"dataframe\">\n",
       "  <thead>\n",
       "    <tr style=\"text-align: right;\">\n",
       "      <th></th>\n",
       "      <th>Seniorcitizen</th>\n",
       "      <th>Tenure</th>\n",
       "      <th>Monthlycharges</th>\n",
       "      <th>Totalcharges</th>\n",
       "      <th>Churn</th>\n",
       "    </tr>\n",
       "  </thead>\n",
       "  <tbody>\n",
       "    <tr>\n",
       "      <th>count</th>\n",
       "      <td>5634.00</td>\n",
       "      <td>5173.00</td>\n",
       "      <td>5634.00</td>\n",
       "      <td>5626.00</td>\n",
       "      <td>5634.00</td>\n",
       "    </tr>\n",
       "    <tr>\n",
       "      <th>mean</th>\n",
       "      <td>0.16</td>\n",
       "      <td>32.33</td>\n",
       "      <td>64.63</td>\n",
       "      <td>2273.51</td>\n",
       "      <td>0.27</td>\n",
       "    </tr>\n",
       "    <tr>\n",
       "      <th>std</th>\n",
       "      <td>0.37</td>\n",
       "      <td>24.46</td>\n",
       "      <td>30.02</td>\n",
       "      <td>2258.38</td>\n",
       "      <td>0.44</td>\n",
       "    </tr>\n",
       "    <tr>\n",
       "      <th>min</th>\n",
       "      <td>0.00</td>\n",
       "      <td>0.00</td>\n",
       "      <td>18.25</td>\n",
       "      <td>18.80</td>\n",
       "      <td>0.00</td>\n",
       "    </tr>\n",
       "    <tr>\n",
       "      <th>25%</th>\n",
       "      <td>0.00</td>\n",
       "      <td>9.00</td>\n",
       "      <td>35.46</td>\n",
       "      <td>401.59</td>\n",
       "      <td>0.00</td>\n",
       "    </tr>\n",
       "    <tr>\n",
       "      <th>50%</th>\n",
       "      <td>0.00</td>\n",
       "      <td>29.00</td>\n",
       "      <td>70.25</td>\n",
       "      <td>1396.12</td>\n",
       "      <td>0.00</td>\n",
       "    </tr>\n",
       "    <tr>\n",
       "      <th>75%</th>\n",
       "      <td>0.00</td>\n",
       "      <td>55.00</td>\n",
       "      <td>89.80</td>\n",
       "      <td>3764.29</td>\n",
       "      <td>1.00</td>\n",
       "    </tr>\n",
       "    <tr>\n",
       "      <th>max</th>\n",
       "      <td>1.00</td>\n",
       "      <td>72.00</td>\n",
       "      <td>118.75</td>\n",
       "      <td>8684.80</td>\n",
       "      <td>1.00</td>\n",
       "    </tr>\n",
       "  </tbody>\n",
       "</table>\n",
       "</div>"
      ],
      "text/plain": [
       "       Seniorcitizen  Tenure  Monthlycharges  Totalcharges   Churn\n",
       "count        5634.00 5173.00         5634.00       5626.00 5634.00\n",
       "mean            0.16   32.33           64.63       2273.51    0.27\n",
       "std             0.37   24.46           30.02       2258.38    0.44\n",
       "min             0.00    0.00           18.25         18.80    0.00\n",
       "25%             0.00    9.00           35.46        401.59    0.00\n",
       "50%             0.00   29.00           70.25       1396.12    0.00\n",
       "75%             0.00   55.00           89.80       3764.29    1.00\n",
       "max             1.00   72.00          118.75       8684.80    1.00"
      ]
     },
     "execution_count": 12,
     "metadata": {},
     "output_type": "execute_result"
    }
   ],
   "source": [
    "# Checking basic statistics of numeric columns\n",
    "\n",
    "df_clients.describe()"
   ]
  },
  {
   "cell_type": "code",
   "execution_count": 13,
   "metadata": {},
   "outputs": [
    {
     "data": {
      "text/html": [
       "<div>\n",
       "<style scoped>\n",
       "    .dataframe tbody tr th:only-of-type {\n",
       "        vertical-align: middle;\n",
       "    }\n",
       "\n",
       "    .dataframe tbody tr th {\n",
       "        vertical-align: top;\n",
       "    }\n",
       "\n",
       "    .dataframe thead th {\n",
       "        text-align: right;\n",
       "    }\n",
       "</style>\n",
       "<table border=\"1\" class=\"dataframe\">\n",
       "  <thead>\n",
       "    <tr style=\"text-align: right;\">\n",
       "      <th></th>\n",
       "      <th>Seniorcitizen</th>\n",
       "      <th>Tenure</th>\n",
       "      <th>Monthlycharges</th>\n",
       "      <th>Totalcharges</th>\n",
       "      <th>Churn</th>\n",
       "    </tr>\n",
       "  </thead>\n",
       "  <tbody>\n",
       "    <tr>\n",
       "      <th>count</th>\n",
       "      <td>5634.00</td>\n",
       "      <td>5173.00</td>\n",
       "      <td>5634.00</td>\n",
       "      <td>5626.00</td>\n",
       "      <td>5634.00</td>\n",
       "    </tr>\n",
       "    <tr>\n",
       "      <th>mean</th>\n",
       "      <td>0.16</td>\n",
       "      <td>32.33</td>\n",
       "      <td>64.63</td>\n",
       "      <td>2273.51</td>\n",
       "      <td>0.27</td>\n",
       "    </tr>\n",
       "    <tr>\n",
       "      <th>std</th>\n",
       "      <td>0.37</td>\n",
       "      <td>24.46</td>\n",
       "      <td>30.02</td>\n",
       "      <td>2258.38</td>\n",
       "      <td>0.44</td>\n",
       "    </tr>\n",
       "    <tr>\n",
       "      <th>min</th>\n",
       "      <td>0.00</td>\n",
       "      <td>0.00</td>\n",
       "      <td>18.25</td>\n",
       "      <td>18.80</td>\n",
       "      <td>0.00</td>\n",
       "    </tr>\n",
       "    <tr>\n",
       "      <th>0%</th>\n",
       "      <td>0.00</td>\n",
       "      <td>0.00</td>\n",
       "      <td>18.25</td>\n",
       "      <td>18.80</td>\n",
       "      <td>0.00</td>\n",
       "    </tr>\n",
       "    <tr>\n",
       "      <th>10%</th>\n",
       "      <td>0.00</td>\n",
       "      <td>2.00</td>\n",
       "      <td>20.05</td>\n",
       "      <td>85.50</td>\n",
       "      <td>0.00</td>\n",
       "    </tr>\n",
       "    <tr>\n",
       "      <th>20%</th>\n",
       "      <td>0.00</td>\n",
       "      <td>6.00</td>\n",
       "      <td>25.10</td>\n",
       "      <td>267.00</td>\n",
       "      <td>0.00</td>\n",
       "    </tr>\n",
       "    <tr>\n",
       "      <th>30%</th>\n",
       "      <td>0.00</td>\n",
       "      <td>12.00</td>\n",
       "      <td>45.80</td>\n",
       "      <td>550.98</td>\n",
       "      <td>0.00</td>\n",
       "    </tr>\n",
       "    <tr>\n",
       "      <th>40%</th>\n",
       "      <td>0.00</td>\n",
       "      <td>20.00</td>\n",
       "      <td>58.60</td>\n",
       "      <td>939.80</td>\n",
       "      <td>0.00</td>\n",
       "    </tr>\n",
       "    <tr>\n",
       "      <th>50%</th>\n",
       "      <td>0.00</td>\n",
       "      <td>29.00</td>\n",
       "      <td>70.25</td>\n",
       "      <td>1396.12</td>\n",
       "      <td>0.00</td>\n",
       "    </tr>\n",
       "    <tr>\n",
       "      <th>60%</th>\n",
       "      <td>0.00</td>\n",
       "      <td>39.00</td>\n",
       "      <td>78.90</td>\n",
       "      <td>2065.40</td>\n",
       "      <td>0.00</td>\n",
       "    </tr>\n",
       "    <tr>\n",
       "      <th>70%</th>\n",
       "      <td>0.00</td>\n",
       "      <td>50.00</td>\n",
       "      <td>85.40</td>\n",
       "      <td>3100.22</td>\n",
       "      <td>0.00</td>\n",
       "    </tr>\n",
       "    <tr>\n",
       "      <th>80%</th>\n",
       "      <td>0.00</td>\n",
       "      <td>60.00</td>\n",
       "      <td>94.10</td>\n",
       "      <td>4445.30</td>\n",
       "      <td>1.00</td>\n",
       "    </tr>\n",
       "    <tr>\n",
       "      <th>90%</th>\n",
       "      <td>1.00</td>\n",
       "      <td>69.00</td>\n",
       "      <td>102.10</td>\n",
       "      <td>5975.60</td>\n",
       "      <td>1.00</td>\n",
       "    </tr>\n",
       "    <tr>\n",
       "      <th>100%</th>\n",
       "      <td>1.00</td>\n",
       "      <td>72.00</td>\n",
       "      <td>118.75</td>\n",
       "      <td>8684.80</td>\n",
       "      <td>1.00</td>\n",
       "    </tr>\n",
       "    <tr>\n",
       "      <th>max</th>\n",
       "      <td>1.00</td>\n",
       "      <td>72.00</td>\n",
       "      <td>118.75</td>\n",
       "      <td>8684.80</td>\n",
       "      <td>1.00</td>\n",
       "    </tr>\n",
       "  </tbody>\n",
       "</table>\n",
       "</div>"
      ],
      "text/plain": [
       "       Seniorcitizen  Tenure  Monthlycharges  Totalcharges   Churn\n",
       "count        5634.00 5173.00         5634.00       5626.00 5634.00\n",
       "mean            0.16   32.33           64.63       2273.51    0.27\n",
       "std             0.37   24.46           30.02       2258.38    0.44\n",
       "min             0.00    0.00           18.25         18.80    0.00\n",
       "0%              0.00    0.00           18.25         18.80    0.00\n",
       "10%             0.00    2.00           20.05         85.50    0.00\n",
       "20%             0.00    6.00           25.10        267.00    0.00\n",
       "30%             0.00   12.00           45.80        550.98    0.00\n",
       "40%             0.00   20.00           58.60        939.80    0.00\n",
       "50%             0.00   29.00           70.25       1396.12    0.00\n",
       "60%             0.00   39.00           78.90       2065.40    0.00\n",
       "70%             0.00   50.00           85.40       3100.22    0.00\n",
       "80%             0.00   60.00           94.10       4445.30    1.00\n",
       "90%             1.00   69.00          102.10       5975.60    1.00\n",
       "100%            1.00   72.00          118.75       8684.80    1.00\n",
       "max             1.00   72.00          118.75       8684.80    1.00"
      ]
     },
     "execution_count": 13,
     "metadata": {},
     "output_type": "execute_result"
    }
   ],
   "source": [
    "# Changing basic statistics to percentile\n",
    "\n",
    "df_clients.describe(percentiles=np.linspace(0, 1, 11))"
   ]
  },
  {
   "cell_type": "markdown",
   "metadata": {},
   "source": [
    "<h2 style=\"color:cornflowerblue\">Information From the Dataframe</h2>\n",
    "<p>Both 'SeniorCitizen' and 'Churn' columns show in the descritive statistics, but they are binary values (0 and 1) so there's no new information on these two columns..</p>\n",
    "<p>The 'Tenure' column show for how long each customer is a client (in months). The highest is 72 and the minimum is 0.</p>\n",
    "<p>The 'MonthlyCharges' shows the monthly income of customers. On average, each customer spends 64.63 (mean), with 70.25 as median. The minimum and maximum values are 18.25 and 118.75.</p>\n",
    "<p>The 'TotalCharges' the total amount paid by each customer.  On average, each customer spent 2273.51 (mean), with 1396.12 as median. The minimum and maximum values are 18.80 and 8684.8.</p>"
   ]
  },
  {
   "cell_type": "markdown",
   "metadata": {},
   "source": [
    "<h2 style=\"color:cornflowerblue\">Analyzing Tenure</h2>"
   ]
  },
  {
   "cell_type": "code",
   "execution_count": 14,
   "metadata": {},
   "outputs": [
    {
     "data": {
      "image/png": "[encoded data removed]",
      "text/plain": [
       "<Figure size 640x480 with 1 Axes>"
      ]
     },
     "metadata": {},
     "output_type": "display_data"
    }
   ],
   "source": [
    "# Columns plot to analyse the distribution of the Tenure information.\n",
    "tenure_plot = sns.histplot(data=df_clients, x=\"Tenure\", kde=True)\n",
    "tenure_plot.set_xlabel(\"Tenure\")\n",
    "tenure_plot.set_ylabel(\"Count\")\n",
    "tenure_plot.set_title(\"Tenure Count Plot\")\n",
    "plt.show()\n"
   ]
  },
  {
   "cell_type": "code",
   "execution_count": 15,
   "metadata": {},
   "outputs": [
    {
     "name": "stdout",
     "output_type": "stream",
     "text": [
      "=0: 8\n",
      "<5: 992\n"
     ]
    }
   ],
   "source": [
    "# Several values near 0. Evaluating them:\n",
    "print(f\"=0: {len(df_clients[df_clients['Tenure'] == 0])}\")\n",
    "print(f\"<5: {len(df_clients[df_clients['Tenure'] <= 5])}\")"
   ]
  },
  {
   "cell_type": "code",
   "execution_count": 16,
   "metadata": {},
   "outputs": [
    {
     "data": {
      "text/plain": [
       "17.607383741569045"
      ]
     },
     "execution_count": 16,
     "metadata": {},
     "output_type": "execute_result"
    }
   ],
   "source": [
    "# % of customers with less than 5 months as clients\n",
    "\n",
    "len(df_clients[df_clients[\"Tenure\"] <= 5]) * 100/df_clients.shape[0]"
   ]
  },
  {
   "cell_type": "markdown",
   "metadata": {},
   "source": [
    "<h3 style=\"color:cornflowerblue\">Tenure Insights</h3>\n",
    "<p>Several values near 0 and higher than 65 (in months).</p>\n",
    "<p>For the values near 0, it can indicate a growing in the company</p>\n",
    "<p>About 17% of the client base is a customer for less than 5 months</p>\n",
    "<p>For the values near 70, it can indicate that clients with more than 70 are grouped so the total amount of clients could be displayed.</p>\n",
    "<p>These are not inferences, just possibilities for the presented numbers<p>"
   ]
  },
  {
   "cell_type": "markdown",
   "metadata": {},
   "source": [
    "<h2 style=\"color:cornflowerblue\">Analyzing Monthly Charges</h2>"
   ]
  },
  {
   "cell_type": "code",
   "execution_count": 17,
   "metadata": {},
   "outputs": [
    {
     "data": {
      "text/plain": [
       "Text(0.5, 1.0, 'Montly Charge Plot')"
      ]
     },
     "execution_count": 17,
     "metadata": {},
     "output_type": "execute_result"
    },
    {
     "data": {
      "image/png": "[encoded data removed]",
      "text/plain": [
       "<Figure size 640x480 with 1 Axes>"
      ]
     },
     "metadata": {},
     "output_type": "display_data"
    }
   ],
   "source": [
    "# Monthly Charge Analysis\n",
    "moncharges_plot = sns.histplot(data=df_clients, x=\"Monthlycharges\", kde=True)\n",
    "moncharges_plot.set_xlabel(\"Montly Charges\")\n",
    "moncharges_plot.set_ylabel(\"Count\")\n",
    "moncharges_plot.set_title(\"Montly Charge Plot\")"
   ]
  },
  {
   "cell_type": "markdown",
   "metadata": {},
   "source": [
    "<h3 style=\"color:cornflowerblue\">Montly Charge Insights</h3>\n",
    "<p>Several values near 20.</p>\n",
    "<p>From 40 to 90, there is a increase in customers.</p>"
   ]
  },
  {
   "cell_type": "markdown",
   "metadata": {},
   "source": [
    "<h2 style=\"color:cornflowerblue\">Analyzing Total Charges</h2>"
   ]
  },
  {
   "cell_type": "code",
   "execution_count": 18,
   "metadata": {},
   "outputs": [
    {
     "data": {
      "text/plain": [
       "Text(0.5, 1.0, 'Total Charges Plot')"
      ]
     },
     "execution_count": 18,
     "metadata": {},
     "output_type": "execute_result"
    },
    {
     "data": {
      "image/png": "[encoded data removed]",
      "text/plain": [
       "<Figure size 640x480 with 1 Axes>"
      ]
     },
     "metadata": {},
     "output_type": "display_data"
    }
   ],
   "source": [
    "# Analysis of TotalCharges\n",
    "totalcharges_plot = sns.histplot(data=df_clients, x=\"Totalcharges\", kde=True)\n",
    "totalcharges_plot.set_xlabel(\"Total Charges\")\n",
    "totalcharges_plot.set_ylabel(\"Count\")\n",
    "totalcharges_plot.set_title(\"Total Charges Plot\")"
   ]
  },
  {
   "cell_type": "markdown",
   "metadata": {},
   "source": [
    "<h3 style=\"color:cornflowerblue\">Total Charge Insights</h3>\n",
    "<p>Expected curve, since it should be normal to less people to be a long term customer.</p>"
   ]
  },
  {
   "cell_type": "markdown",
   "metadata": {},
   "source": [
    "<h2 style=\"color:cornflowerblue\">Analyzing Churn</h2>"
   ]
  },
  {
   "cell_type": "code",
   "execution_count": 19,
   "metadata": {},
   "outputs": [
    {
     "data": {
      "image/png": "[encoded data removed]",
      "text/plain": [
       "<Figure size 640x480 with 1 Axes>"
      ]
     },
     "metadata": {},
     "output_type": "display_data"
    }
   ],
   "source": [
    "# Analysis of Churn\n",
    "totalcharges_plot = sns.countplot(data=df_clients, x=\"Churn\", hue=\"Churn\", legend=None, palette=sns.color_palette()[:2])\n",
    "totalcharges_plot.set_xlabel(\"Total Charges\")\n",
    "totalcharges_plot.set_ylabel(\"Count\")\n",
    "totalcharges_plot.set_title(\"Churn Plot\")\n",
    "plt.show()"
   ]
  },
  {
   "cell_type": "code",
   "execution_count": 20,
   "metadata": {},
   "outputs": [
    {
     "name": "stdout",
     "output_type": "stream",
     "text": [
      "Not Churn:  4139, Churn: 1495\n"
     ]
    }
   ],
   "source": [
    "print(f\"Not Churn:  {len(df_clients[df_clients['Churn'] == 0])}, Churn: {len(df_clients[df_clients['Churn'] == 1])}\")"
   ]
  },
  {
   "cell_type": "code",
   "execution_count": 21,
   "metadata": {},
   "outputs": [
    {
     "data": {
      "text/plain": [
       "73.46467873624424"
      ]
     },
     "execution_count": 21,
     "metadata": {},
     "output_type": "execute_result"
    }
   ],
   "source": [
    "# % of clients that are loyal (Not Churn)\n",
    "\n",
    "100*len(df_clients[df_clients['Churn'] == 0])/df_clients.shape[0]"
   ]
  },
  {
   "cell_type": "markdown",
   "metadata": {},
   "source": [
    "<h3 style=\"color:cornflowerblue\">Churn Insights</h3>\n",
    "<p>Not a balanced base</p>\n",
    "<p>Model metrics must be selected based on these insights</p>\n",
    "<p>If the models only says that the client wont leave the company, it gets right at 73.5% of the times</p>\n",
    "<p>Model accuracy must be higher than 73.5% - Also, since the class is not balanced, the model accuracy is probably not a good metric.</p>"
   ]
  },
  {
   "cell_type": "markdown",
   "metadata": {},
   "source": [
    "<h2 style=\"color:cornflowerblue\">Relations Between Features and the Target Variable</h2>\n",
    "<p>Checking the dispersion of the predictive variables with the target variables</p>"
   ]
  },
  {
   "cell_type": "code",
   "execution_count": 22,
   "metadata": {},
   "outputs": [
    {
     "data": {
      "text/plain": [
       "<seaborn.axisgrid.PairGrid at 0x23051310050>"
      ]
     },
     "execution_count": 22,
     "metadata": {},
     "output_type": "execute_result"
    },
    {
     "data": {
      "image/png": "[encoded data removed]",
      "text/plain": [
       "<Figure size 1250x1250 with 30 Axes>"
      ]
     },
     "metadata": {},
     "output_type": "display_data"
    }
   ],
   "source": [
    "# Analyzing the relation of predictive variables with the target variable\n",
    "\n",
    "sns.pairplot(data=df_clients)"
   ]
  },
  {
   "cell_type": "markdown",
   "metadata": {},
   "source": [
    "<h3 style=\"color:cornflowerblue\">Relation Between Features Insights</h3>\n",
    "<p>There's no clear relation with the target variable. We can see that the tenure and total charges are related, but other than that, no clear relations with the target variable were found.\n"
   ]
  },
  {
   "cell_type": "markdown",
   "metadata": {},
   "source": [
    "<h1 style=\"color:cornflowerblue\">Dealing with Categorical Features</h1>\n",
    "<p>The categorical features must, somehow, be translated to numerical features in order for the model to proper work.</p>"
   ]
  },
  {
   "cell_type": "code",
   "execution_count": 23,
   "metadata": {},
   "outputs": [
    {
     "data": {
      "text/plain": [
       "Gender               object\n",
       "Seniorcitizen         int64\n",
       "Partner              object\n",
       "Dependents           object\n",
       "Tenure              float64\n",
       "Phoneservice         object\n",
       "Multiplelines        object\n",
       "Internetservice      object\n",
       "Onlinesecurity       object\n",
       "Onlinebackup         object\n",
       "Deviceprotection     object\n",
       "Techsupport          object\n",
       "Streamingtv          object\n",
       "Streamingmovies      object\n",
       "Contract             object\n",
       "Paperlessbilling     object\n",
       "Paymentmethod        object\n",
       "Monthlycharges      float64\n",
       "Totalcharges        float64\n",
       "Churn                 int64\n",
       "dtype: object"
      ]
     },
     "execution_count": 23,
     "metadata": {},
     "output_type": "execute_result"
    }
   ],
   "source": [
    "# Checking Dataframe\n",
    "\n",
    "df_clients.dtypes"
   ]
  },
  {
   "cell_type": "code",
   "execution_count": 24,
   "metadata": {},
   "outputs": [
    {
     "data": {
      "text/plain": [
       "['Gender',\n",
       " 'Partner',\n",
       " 'Dependents',\n",
       " 'Phoneservice',\n",
       " 'Multiplelines',\n",
       " 'Internetservice',\n",
       " 'Onlinesecurity',\n",
       " 'Onlinebackup',\n",
       " 'Deviceprotection',\n",
       " 'Techsupport',\n",
       " 'Streamingtv',\n",
       " 'Streamingmovies',\n",
       " 'Contract',\n",
       " 'Paperlessbilling',\n",
       " 'Paymentmethod']"
      ]
     },
     "execution_count": 24,
     "metadata": {},
     "output_type": "execute_result"
    }
   ],
   "source": [
    "# Getting list of categorical values\n",
    "# [objects for objects in df_clients.columns if column not in df_clients._get_numeric_data()]\n",
    "\n",
    "categ_cols = [objects for objects in df_clients.columns[df_clients.dtypes[df_clients.columns.to_list()] == \"object\"]]\n",
    "categ_cols"
   ]
  },
  {
   "cell_type": "code",
   "execution_count": 25,
   "metadata": {},
   "outputs": [
    {
     "name": "stdout",
     "output_type": "stream",
     "text": [
      "Unique Values: Gender\n",
      "Male      2849\n",
      "Female    2785\n",
      "Name: count, dtype: int64\n",
      "\n",
      "Unique Values: Partner\n",
      "No     2902\n",
      "Yes    2732\n",
      "Name: count, dtype: int64\n",
      "\n",
      "Unique Values: Dependents\n",
      "No     3793\n",
      "Yes    1623\n",
      "NaN     218\n",
      "Name: count, dtype: int64\n",
      "\n",
      "Unique Values: Phoneservice\n",
      "Yes    5082\n",
      "No      552\n",
      "Name: count, dtype: int64\n",
      "\n",
      "Unique Values: Multiplelines\n",
      "No                  2692\n",
      "Yes                 2390\n",
      "No phone service     552\n",
      "Name: count, dtype: int64\n",
      "\n",
      "Unique Values: Internetservice\n",
      "Fiber optic    2451\n",
      "DSL            1959\n",
      "No             1224\n",
      "Name: count, dtype: int64\n",
      "\n",
      "Unique Values: Onlinesecurity\n",
      "No                     2763\n",
      "Yes                    1647\n",
      "No internet service    1224\n",
      "Name: count, dtype: int64\n",
      "\n",
      "Unique Values: Onlinebackup\n",
      "No                     2488\n",
      "Yes                    1922\n",
      "No internet service    1224\n",
      "Name: count, dtype: int64\n",
      "\n",
      "Unique Values: Deviceprotection\n",
      "No                     2480\n",
      "Yes                    1930\n",
      "No internet service    1224\n",
      "Name: count, dtype: int64\n",
      "\n",
      "Unique Values: Techsupport\n",
      "No                     2793\n",
      "Yes                    1617\n",
      "No internet service    1224\n",
      "Name: count, dtype: int64\n",
      "\n",
      "Unique Values: Streamingtv\n",
      "No                     2240\n",
      "Yes                    2170\n",
      "No internet service    1224\n",
      "Name: count, dtype: int64\n",
      "\n",
      "Unique Values: Streamingmovies\n",
      "No                     2218\n",
      "Yes                    2192\n",
      "No internet service    1224\n",
      "Name: count, dtype: int64\n",
      "\n",
      "Unique Values: Contract\n",
      "Month-to-month    3084\n",
      "Two year          1358\n",
      "One year          1192\n",
      "Name: count, dtype: int64\n",
      "\n",
      "Unique Values: Paperlessbilling\n",
      "Yes    3312\n",
      "No     2322\n",
      "Name: count, dtype: int64\n",
      "\n",
      "Unique Values: Paymentmethod\n",
      "Electronic check             1887\n",
      "Mailed check                 1272\n",
      "Bank transfer (automatic)    1212\n",
      "Credit card (automatic)      1164\n",
      "NaN                            99\n",
      "Name: count, dtype: int64\n",
      "\n"
     ]
    }
   ],
   "source": [
    "# Checking values of categorical columns\n",
    "\n",
    "for i in categ_cols:\n",
    "    print(f\"Unique Values: {df_clients[i].value_counts(dropna=False)}\\n\")"
   ]
  },
  {
   "cell_type": "markdown",
   "metadata": {},
   "source": [
    "<h2 style=\"color:cornflowerblue\">Gender Column</h2>"
   ]
  },
  {
   "cell_type": "code",
   "execution_count": 26,
   "metadata": {},
   "outputs": [
    {
     "name": "stdout",
     "output_type": "stream",
     "text": [
      "{'Female': 0, 'Male': 1}\n"
     ]
    },
    {
     "data": {
      "text/plain": [
       "Gender\n",
       "1    2849\n",
       "0    2785\n",
       "Name: count, dtype: int64"
      ]
     },
     "execution_count": 26,
     "metadata": {},
     "output_type": "execute_result"
    }
   ],
   "source": [
    "# Dictionary of Gender values\n",
    "\n",
    "gender_dict = {gender:df_clients[\"Gender\"].unique().tolist().index(gender) for gender in df_clients[\"Gender\"].unique().tolist()}\n",
    "print(gender_dict)\n",
    "\n",
    "\n",
    "# Transforming categorical values in numeric values\n",
    "\n",
    "df_clients[\"Gender\"] = df_clients[\"Gender\"].map(gender_dict)\n",
    "df_clients[\"Gender\"].value_counts(dropna=False)"
   ]
  },
  {
   "cell_type": "markdown",
   "metadata": {},
   "source": [
    "<h2 style=\"color:cornflowerblue\">Binary (Yes/No) Column</h2>"
   ]
  },
  {
   "cell_type": "code",
   "execution_count": 27,
   "metadata": {},
   "outputs": [],
   "source": [
    "# For nominal features with binary answers\n",
    "\n",
    "Yes_No_dict = {\"No\":0, \"Yes\":1}\n",
    "Yes_No_columns = [\"Partner\", \"Dependents\", \"Phoneservice\", \"Paperlessbilling\"]"
   ]
  },
  {
   "cell_type": "code",
   "execution_count": 28,
   "metadata": {},
   "outputs": [
    {
     "name": "stdout",
     "output_type": "stream",
     "text": [
      "Partner\n",
      "0    2902\n",
      "1    2732\n",
      "Name: count, dtype: int64\n",
      "\n",
      "Dependents\n",
      "0.00    3793\n",
      "1.00    1623\n",
      "NaN      218\n",
      "Name: count, dtype: int64\n",
      "\n",
      "Phoneservice\n",
      "1    5082\n",
      "0     552\n",
      "Name: count, dtype: int64\n",
      "\n",
      "Paperlessbilling\n",
      "1    3312\n",
      "0    2322\n",
      "Name: count, dtype: int64\n",
      "\n"
     ]
    }
   ],
   "source": [
    "# Transforming categorical values in numeric values, for columns with Yes or No answers only\n",
    "\n",
    "for i in Yes_No_columns:\n",
    "    df_clients[i] = df_clients[i].map(Yes_No_dict)\n",
    "    print(f\"{df_clients[i].value_counts(dropna=False)}\\n\")"
   ]
  },
  {
   "cell_type": "markdown",
   "metadata": {},
   "source": [
    "<h2 style=\"color:cornflowerblue\">Ordinal Features</h2>"
   ]
  },
  {
   "cell_type": "code",
   "execution_count": 29,
   "metadata": {},
   "outputs": [
    {
     "name": "stdout",
     "output_type": "stream",
     "text": [
      "Unique Values: Multiplelines\n",
      "No                  2692\n",
      "Yes                 2390\n",
      "No phone service     552\n",
      "Name: count, dtype: int64\n",
      "\n",
      "Unique Values: Internetservice\n",
      "Fiber optic    2451\n",
      "DSL            1959\n",
      "No             1224\n",
      "Name: count, dtype: int64\n",
      "\n",
      "Unique Values: Onlinesecurity\n",
      "No                     2763\n",
      "Yes                    1647\n",
      "No internet service    1224\n",
      "Name: count, dtype: int64\n",
      "\n",
      "Unique Values: Onlinebackup\n",
      "No                     2488\n",
      "Yes                    1922\n",
      "No internet service    1224\n",
      "Name: count, dtype: int64\n",
      "\n",
      "Unique Values: Deviceprotection\n",
      "No                     2480\n",
      "Yes                    1930\n",
      "No internet service    1224\n",
      "Name: count, dtype: int64\n",
      "\n",
      "Unique Values: Techsupport\n",
      "No                     2793\n",
      "Yes                    1617\n",
      "No internet service    1224\n",
      "Name: count, dtype: int64\n",
      "\n",
      "Unique Values: Streamingtv\n",
      "No                     2240\n",
      "Yes                    2170\n",
      "No internet service    1224\n",
      "Name: count, dtype: int64\n",
      "\n",
      "Unique Values: Streamingmovies\n",
      "No                     2218\n",
      "Yes                    2192\n",
      "No internet service    1224\n",
      "Name: count, dtype: int64\n",
      "\n",
      "Unique Values: Contract\n",
      "Month-to-month    3084\n",
      "Two year          1358\n",
      "One year          1192\n",
      "Name: count, dtype: int64\n",
      "\n",
      "Unique Values: Paymentmethod\n",
      "Electronic check             1887\n",
      "Mailed check                 1272\n",
      "Bank transfer (automatic)    1212\n",
      "Credit card (automatic)      1164\n",
      "NaN                            99\n",
      "Name: count, dtype: int64\n",
      "\n"
     ]
    }
   ],
   "source": [
    "# Checking Categorical columns\n",
    "\n",
    "for i in [columns for columns in categ_cols if columns not in Yes_No_columns and columns != \"Gender\"]:\n",
    "    print(f\"Unique Values: {df_clients[i].value_counts(dropna=False)}\\n\")"
   ]
  },
  {
   "cell_type": "code",
   "execution_count": 30,
   "metadata": {},
   "outputs": [],
   "source": [
    "# Categorical features - Ordinal\n",
    "\n",
    "categ_ordinal = [\"Internetservice\", \"Contract\", \"Paymentmethod\"]"
   ]
  },
  {
   "cell_type": "code",
   "execution_count": 31,
   "metadata": {},
   "outputs": [
    {
     "data": {
      "text/plain": [
       "Internetservice\n",
       "Fiber optic    2451\n",
       "DSL            1959\n",
       "No             1224\n",
       "Name: count, dtype: int64"
      ]
     },
     "execution_count": 31,
     "metadata": {},
     "output_type": "execute_result"
    }
   ],
   "source": [
    "df_clients[\"Internetservice\"].value_counts(dropna=False)"
   ]
  },
  {
   "cell_type": "code",
   "execution_count": 32,
   "metadata": {},
   "outputs": [
    {
     "data": {
      "text/plain": [
       "Internetservice\n",
       "2    2451\n",
       "1    1959\n",
       "0    1224\n",
       "Name: count, dtype: int64"
      ]
     },
     "execution_count": 32,
     "metadata": {},
     "output_type": "execute_result"
    }
   ],
   "source": [
    "# InternetService Feature\n",
    "\n",
    "internetservice_dict = {\"No\":0, \"DSL\":1, \"Fiber optic\":2}\n",
    "# internetservice_dict = {intserv:df_clients[\"Internetservice\"].unique().tolist().index(intserv) for intserv in df_clients[\"Internetservice\"].unique().tolist()}\n",
    "\n",
    "# InternetService column into numeric\n",
    "\n",
    "df_clients[\"Internetservice\"] = df_clients[\"Internetservice\"].map(internetservice_dict)\n",
    "df_clients[\"Internetservice\"].value_counts(dropna=False)"
   ]
  },
  {
   "cell_type": "code",
   "execution_count": 33,
   "metadata": {},
   "outputs": [
    {
     "data": {
      "text/plain": [
       "Contract\n",
       "Month-to-month    3084\n",
       "Two year          1358\n",
       "One year          1192\n",
       "Name: count, dtype: int64"
      ]
     },
     "execution_count": 33,
     "metadata": {},
     "output_type": "execute_result"
    }
   ],
   "source": [
    "df_clients[\"Contract\"].value_counts(dropna=False)"
   ]
  },
  {
   "cell_type": "code",
   "execution_count": 34,
   "metadata": {},
   "outputs": [
    {
     "data": {
      "text/plain": [
       "Contract\n",
       "0    3084\n",
       "2    1358\n",
       "1    1192\n",
       "Name: count, dtype: int64"
      ]
     },
     "execution_count": 34,
     "metadata": {},
     "output_type": "execute_result"
    }
   ],
   "source": [
    "# Contract Feature\n",
    "\n",
    "contract_dict = {\"Month-to-month\":0 , \"One year\":1, \"Two year\":2}\n",
    "# contract_dict = {typecontract:df_clients[\"Contract\"].unique().tolist().index(typecontract) for typecontract in df_clients[\"Contract\"].unique().tolist()}\n",
    "\n",
    "\n",
    "# InternetService column into numeric\n",
    "\n",
    "df_clients[\"Contract\"] = df_clients[\"Contract\"].map(contract_dict)\n",
    "df_clients[\"Contract\"].value_counts(dropna=False)"
   ]
  },
  {
   "cell_type": "code",
   "execution_count": 35,
   "metadata": {},
   "outputs": [
    {
     "data": {
      "text/plain": [
       "Paymentmethod\n",
       "Electronic check             1887\n",
       "Mailed check                 1272\n",
       "Bank transfer (automatic)    1212\n",
       "Credit card (automatic)      1164\n",
       "NaN                            99\n",
       "Name: count, dtype: int64"
      ]
     },
     "execution_count": 35,
     "metadata": {},
     "output_type": "execute_result"
    }
   ],
   "source": [
    "df_clients[\"Paymentmethod\"].value_counts(dropna=False)"
   ]
  },
  {
   "cell_type": "code",
   "execution_count": 36,
   "metadata": {},
   "outputs": [
    {
     "data": {
      "text/plain": [
       "Paymentmethod\n",
       "1.00    1887\n",
       "0.00    1272\n",
       "2.00    1212\n",
       "3.00    1164\n",
       "NaN       99\n",
       "Name: count, dtype: int64"
      ]
     },
     "execution_count": 36,
     "metadata": {},
     "output_type": "execute_result"
    }
   ],
   "source": [
    "# PaymentMethod  Feature\n",
    "\n",
    "paymentmethod_dict = {\"Mailed check\":0, \"Electronic check\":1, \"Bank transfer (automatic)\":2, \"Credit card (automatic)\":3}\n",
    "# paymentmethod_dict = {paymeth:df_clients[\"Paymentmethod\"].dropna().unique().tolist().index(paymeth) for paymeth in df_clients[\"Paymentmethod\"].dropna().unique().tolist()}\n",
    "\n",
    "\n",
    "# PaymentMethod column into numeric\n",
    "\n",
    "df_clients[\"Paymentmethod\"] = df_clients[\"Paymentmethod\"].map(paymentmethod_dict)\n",
    "df_clients[\"Paymentmethod\"].value_counts(dropna=False)"
   ]
  },
  {
   "cell_type": "markdown",
   "metadata": {},
   "source": [
    "<h2 style=\"color:cornflowerblue\">Nominal Features</h2>"
   ]
  },
  {
   "cell_type": "code",
   "execution_count": 37,
   "metadata": {},
   "outputs": [
    {
     "data": {
      "text/plain": [
       "['Multiplelines',\n",
       " 'Onlinesecurity',\n",
       " 'Onlinebackup',\n",
       " 'Deviceprotection',\n",
       " 'Techsupport',\n",
       " 'Streamingtv',\n",
       " 'Streamingmovies']"
      ]
     },
     "execution_count": 37,
     "metadata": {},
     "output_type": "execute_result"
    }
   ],
   "source": [
    "# Checking Categorical columns\n",
    "\n",
    "categ_nominal = [columns for columns in categ_cols if columns not in (Yes_No_columns + categ_ordinal + [\"Gender\"])]\n",
    "categ_nominal"
   ]
  },
  {
   "cell_type": "code",
   "execution_count": 38,
   "metadata": {},
   "outputs": [],
   "source": [
    "# Instancing One Hot Encoder\n",
    "\n",
    "ohe = OneHotEncoder(sparse_output=False, drop=\"first\")\n",
    "\n",
    "\n",
    "# Creating a Dataframe for the encoded variables\n",
    "\n",
    "df_ohe = ohe.fit_transform(df_clients[categ_nominal])"
   ]
  },
  {
   "cell_type": "code",
   "execution_count": 39,
   "metadata": {},
   "outputs": [
    {
     "data": {
      "text/plain": [
       "[array(['No', 'No phone service', 'Yes'], dtype=object),\n",
       " array(['No', 'No internet service', 'Yes'], dtype=object),\n",
       " array(['No', 'No internet service', 'Yes'], dtype=object),\n",
       " array(['No', 'No internet service', 'Yes'], dtype=object),\n",
       " array(['No', 'No internet service', 'Yes'], dtype=object),\n",
       " array(['No', 'No internet service', 'Yes'], dtype=object),\n",
       " array(['No', 'No internet service', 'Yes'], dtype=object)]"
      ]
     },
     "execution_count": 39,
     "metadata": {},
     "output_type": "execute_result"
    }
   ],
   "source": [
    "# Checking OHE categories\n",
    "\n",
    "ohe.categories_"
   ]
  },
  {
   "cell_type": "code",
   "execution_count": 40,
   "metadata": {},
   "outputs": [
    {
     "data": {
      "text/plain": [
       "array(['Multiplelines_No phone service', 'Multiplelines_Yes',\n",
       "       'Onlinesecurity_No internet service', 'Onlinesecurity_Yes',\n",
       "       'Onlinebackup_No internet service', 'Onlinebackup_Yes',\n",
       "       'Deviceprotection_No internet service', 'Deviceprotection_Yes',\n",
       "       'Techsupport_No internet service', 'Techsupport_Yes',\n",
       "       'Streamingtv_No internet service', 'Streamingtv_Yes',\n",
       "       'Streamingmovies_No internet service', 'Streamingmovies_Yes'],\n",
       "      dtype=object)"
      ]
     },
     "execution_count": 40,
     "metadata": {},
     "output_type": "execute_result"
    }
   ],
   "source": [
    "# Checking OHE columns\n",
    "\n",
    "ohe.get_feature_names_out()"
   ]
  },
  {
   "cell_type": "code",
   "execution_count": 41,
   "metadata": {},
   "outputs": [
    {
     "data": {
      "text/plain": [
       "array([[1., 0., 0., ..., 0., 0., 0.],\n",
       "       [0., 0., 1., ..., 0., 1., 0.],\n",
       "       [0., 1., 0., ..., 1., 0., 1.],\n",
       "       ...,\n",
       "       [0., 0., 0., ..., 0., 0., 0.],\n",
       "       [0., 1., 1., ..., 0., 1., 0.],\n",
       "       [0., 1., 0., ..., 1., 0., 0.]])"
      ]
     },
     "execution_count": 41,
     "metadata": {},
     "output_type": "execute_result"
    }
   ],
   "source": [
    "# Checking OHE array\n",
    "\n",
    "df_ohe"
   ]
  },
  {
   "cell_type": "code",
   "execution_count": 42,
   "metadata": {},
   "outputs": [
    {
     "data": {
      "text/html": [
       "<div>\n",
       "<style scoped>\n",
       "    .dataframe tbody tr th:only-of-type {\n",
       "        vertical-align: middle;\n",
       "    }\n",
       "\n",
       "    .dataframe tbody tr th {\n",
       "        vertical-align: top;\n",
       "    }\n",
       "\n",
       "    .dataframe thead th {\n",
       "        text-align: right;\n",
       "    }\n",
       "</style>\n",
       "<table border=\"1\" class=\"dataframe\">\n",
       "  <thead>\n",
       "    <tr style=\"text-align: right;\">\n",
       "      <th></th>\n",
       "      <th>Multiplelines_No phone service</th>\n",
       "      <th>Multiplelines_Yes</th>\n",
       "      <th>Onlinesecurity_No internet service</th>\n",
       "      <th>Onlinesecurity_Yes</th>\n",
       "      <th>Onlinebackup_No internet service</th>\n",
       "      <th>Onlinebackup_Yes</th>\n",
       "      <th>Deviceprotection_No internet service</th>\n",
       "      <th>Deviceprotection_Yes</th>\n",
       "      <th>Techsupport_No internet service</th>\n",
       "      <th>Techsupport_Yes</th>\n",
       "      <th>Streamingtv_No internet service</th>\n",
       "      <th>Streamingtv_Yes</th>\n",
       "      <th>Streamingmovies_No internet service</th>\n",
       "      <th>Streamingmovies_Yes</th>\n",
       "    </tr>\n",
       "    <tr>\n",
       "      <th>id</th>\n",
       "      <th></th>\n",
       "      <th></th>\n",
       "      <th></th>\n",
       "      <th></th>\n",
       "      <th></th>\n",
       "      <th></th>\n",
       "      <th></th>\n",
       "      <th></th>\n",
       "      <th></th>\n",
       "      <th></th>\n",
       "      <th></th>\n",
       "      <th></th>\n",
       "      <th></th>\n",
       "      <th></th>\n",
       "    </tr>\n",
       "  </thead>\n",
       "  <tbody>\n",
       "    <tr>\n",
       "      <th>4030</th>\n",
       "      <td>1.00</td>\n",
       "      <td>0.00</td>\n",
       "      <td>0.00</td>\n",
       "      <td>1.00</td>\n",
       "      <td>0.00</td>\n",
       "      <td>1.00</td>\n",
       "      <td>0.00</td>\n",
       "      <td>1.00</td>\n",
       "      <td>0.00</td>\n",
       "      <td>1.00</td>\n",
       "      <td>0.00</td>\n",
       "      <td>0.00</td>\n",
       "      <td>0.00</td>\n",
       "      <td>0.00</td>\n",
       "    </tr>\n",
       "    <tr>\n",
       "      <th>6731</th>\n",
       "      <td>0.00</td>\n",
       "      <td>0.00</td>\n",
       "      <td>1.00</td>\n",
       "      <td>0.00</td>\n",
       "      <td>1.00</td>\n",
       "      <td>0.00</td>\n",
       "      <td>1.00</td>\n",
       "      <td>0.00</td>\n",
       "      <td>1.00</td>\n",
       "      <td>0.00</td>\n",
       "      <td>1.00</td>\n",
       "      <td>0.00</td>\n",
       "      <td>1.00</td>\n",
       "      <td>0.00</td>\n",
       "    </tr>\n",
       "    <tr>\n",
       "      <th>6479</th>\n",
       "      <td>0.00</td>\n",
       "      <td>1.00</td>\n",
       "      <td>0.00</td>\n",
       "      <td>0.00</td>\n",
       "      <td>0.00</td>\n",
       "      <td>1.00</td>\n",
       "      <td>0.00</td>\n",
       "      <td>1.00</td>\n",
       "      <td>0.00</td>\n",
       "      <td>1.00</td>\n",
       "      <td>0.00</td>\n",
       "      <td>1.00</td>\n",
       "      <td>0.00</td>\n",
       "      <td>1.00</td>\n",
       "    </tr>\n",
       "    <tr>\n",
       "      <th>6861</th>\n",
       "      <td>0.00</td>\n",
       "      <td>1.00</td>\n",
       "      <td>0.00</td>\n",
       "      <td>0.00</td>\n",
       "      <td>0.00</td>\n",
       "      <td>1.00</td>\n",
       "      <td>0.00</td>\n",
       "      <td>1.00</td>\n",
       "      <td>0.00</td>\n",
       "      <td>0.00</td>\n",
       "      <td>0.00</td>\n",
       "      <td>1.00</td>\n",
       "      <td>0.00</td>\n",
       "      <td>1.00</td>\n",
       "    </tr>\n",
       "    <tr>\n",
       "      <th>3266</th>\n",
       "      <td>0.00</td>\n",
       "      <td>0.00</td>\n",
       "      <td>0.00</td>\n",
       "      <td>0.00</td>\n",
       "      <td>0.00</td>\n",
       "      <td>0.00</td>\n",
       "      <td>0.00</td>\n",
       "      <td>0.00</td>\n",
       "      <td>0.00</td>\n",
       "      <td>0.00</td>\n",
       "      <td>0.00</td>\n",
       "      <td>0.00</td>\n",
       "      <td>0.00</td>\n",
       "      <td>0.00</td>\n",
       "    </tr>\n",
       "  </tbody>\n",
       "</table>\n",
       "</div>"
      ],
      "text/plain": [
       "      Multiplelines_No phone service  Multiplelines_Yes  \\\n",
       "id                                                        \n",
       "4030                            1.00               0.00   \n",
       "6731                            0.00               0.00   \n",
       "6479                            0.00               1.00   \n",
       "6861                            0.00               1.00   \n",
       "3266                            0.00               0.00   \n",
       "\n",
       "      Onlinesecurity_No internet service  Onlinesecurity_Yes  \\\n",
       "id                                                             \n",
       "4030                                0.00                1.00   \n",
       "6731                                1.00                0.00   \n",
       "6479                                0.00                0.00   \n",
       "6861                                0.00                0.00   \n",
       "3266                                0.00                0.00   \n",
       "\n",
       "      Onlinebackup_No internet service  Onlinebackup_Yes  \\\n",
       "id                                                         \n",
       "4030                              0.00              1.00   \n",
       "6731                              1.00              0.00   \n",
       "6479                              0.00              1.00   \n",
       "6861                              0.00              1.00   \n",
       "3266                              0.00              0.00   \n",
       "\n",
       "      Deviceprotection_No internet service  Deviceprotection_Yes  \\\n",
       "id                                                                 \n",
       "4030                                  0.00                  1.00   \n",
       "6731                                  1.00                  0.00   \n",
       "6479                                  0.00                  1.00   \n",
       "6861                                  0.00                  1.00   \n",
       "3266                                  0.00                  0.00   \n",
       "\n",
       "      Techsupport_No internet service  Techsupport_Yes  \\\n",
       "id                                                       \n",
       "4030                             0.00             1.00   \n",
       "6731                             1.00             0.00   \n",
       "6479                             0.00             1.00   \n",
       "6861                             0.00             0.00   \n",
       "3266                             0.00             0.00   \n",
       "\n",
       "      Streamingtv_No internet service  Streamingtv_Yes  \\\n",
       "id                                                       \n",
       "4030                             0.00             0.00   \n",
       "6731                             1.00             0.00   \n",
       "6479                             0.00             1.00   \n",
       "6861                             0.00             1.00   \n",
       "3266                             0.00             0.00   \n",
       "\n",
       "      Streamingmovies_No internet service  Streamingmovies_Yes  \n",
       "id                                                              \n",
       "4030                                 0.00                 0.00  \n",
       "6731                                 1.00                 0.00  \n",
       "6479                                 0.00                 1.00  \n",
       "6861                                 0.00                 1.00  \n",
       "3266                                 0.00                 0.00  "
      ]
     },
     "execution_count": 42,
     "metadata": {},
     "output_type": "execute_result"
    }
   ],
   "source": [
    "# Creating a DataFrame of OHE\n",
    "\n",
    "df_ohe = pd.DataFrame(data=df_ohe, columns=ohe.get_feature_names_out(), index=df_clients.index)\n",
    "df_ohe.head()"
   ]
  },
  {
   "cell_type": "code",
   "execution_count": 43,
   "metadata": {},
   "outputs": [
    {
     "data": {
      "text/html": [
       "<div>\n",
       "<style scoped>\n",
       "    .dataframe tbody tr th:only-of-type {\n",
       "        vertical-align: middle;\n",
       "    }\n",
       "\n",
       "    .dataframe tbody tr th {\n",
       "        vertical-align: top;\n",
       "    }\n",
       "\n",
       "    .dataframe thead th {\n",
       "        text-align: right;\n",
       "    }\n",
       "</style>\n",
       "<table border=\"1\" class=\"dataframe\">\n",
       "  <thead>\n",
       "    <tr style=\"text-align: right;\">\n",
       "      <th></th>\n",
       "      <th>Gender</th>\n",
       "      <th>Seniorcitizen</th>\n",
       "      <th>Partner</th>\n",
       "      <th>Dependents</th>\n",
       "      <th>Tenure</th>\n",
       "      <th>Phoneservice</th>\n",
       "      <th>Multiplelines</th>\n",
       "      <th>Internetservice</th>\n",
       "      <th>Onlinesecurity</th>\n",
       "      <th>Onlinebackup</th>\n",
       "      <th>Deviceprotection</th>\n",
       "      <th>Techsupport</th>\n",
       "      <th>Streamingtv</th>\n",
       "      <th>Streamingmovies</th>\n",
       "      <th>Contract</th>\n",
       "      <th>Paperlessbilling</th>\n",
       "      <th>Paymentmethod</th>\n",
       "      <th>Monthlycharges</th>\n",
       "      <th>Totalcharges</th>\n",
       "      <th>Churn</th>\n",
       "      <th>Multiplelines_No phone service</th>\n",
       "      <th>Multiplelines_Yes</th>\n",
       "      <th>Onlinesecurity_No internet service</th>\n",
       "      <th>Onlinesecurity_Yes</th>\n",
       "      <th>Onlinebackup_No internet service</th>\n",
       "      <th>Onlinebackup_Yes</th>\n",
       "      <th>Deviceprotection_No internet service</th>\n",
       "      <th>Deviceprotection_Yes</th>\n",
       "      <th>Techsupport_No internet service</th>\n",
       "      <th>Techsupport_Yes</th>\n",
       "      <th>Streamingtv_No internet service</th>\n",
       "      <th>Streamingtv_Yes</th>\n",
       "      <th>Streamingmovies_No internet service</th>\n",
       "      <th>Streamingmovies_Yes</th>\n",
       "    </tr>\n",
       "    <tr>\n",
       "      <th>id</th>\n",
       "      <th></th>\n",
       "      <th></th>\n",
       "      <th></th>\n",
       "      <th></th>\n",
       "      <th></th>\n",
       "      <th></th>\n",
       "      <th></th>\n",
       "      <th></th>\n",
       "      <th></th>\n",
       "      <th></th>\n",
       "      <th></th>\n",
       "      <th></th>\n",
       "      <th></th>\n",
       "      <th></th>\n",
       "      <th></th>\n",
       "      <th></th>\n",
       "      <th></th>\n",
       "      <th></th>\n",
       "      <th></th>\n",
       "      <th></th>\n",
       "      <th></th>\n",
       "      <th></th>\n",
       "      <th></th>\n",
       "      <th></th>\n",
       "      <th></th>\n",
       "      <th></th>\n",
       "      <th></th>\n",
       "      <th></th>\n",
       "      <th></th>\n",
       "      <th></th>\n",
       "      <th></th>\n",
       "      <th></th>\n",
       "      <th></th>\n",
       "      <th></th>\n",
       "    </tr>\n",
       "  </thead>\n",
       "  <tbody>\n",
       "    <tr>\n",
       "      <th>4030</th>\n",
       "      <td>0</td>\n",
       "      <td>0</td>\n",
       "      <td>0</td>\n",
       "      <td>0.00</td>\n",
       "      <td>56.00</td>\n",
       "      <td>0</td>\n",
       "      <td>No phone service</td>\n",
       "      <td>1</td>\n",
       "      <td>Yes</td>\n",
       "      <td>Yes</td>\n",
       "      <td>Yes</td>\n",
       "      <td>Yes</td>\n",
       "      <td>No</td>\n",
       "      <td>No</td>\n",
       "      <td>2</td>\n",
       "      <td>0</td>\n",
       "      <td>NaN</td>\n",
       "      <td>45.05</td>\n",
       "      <td>2560.10</td>\n",
       "      <td>0</td>\n",
       "      <td>1.00</td>\n",
       "      <td>0.00</td>\n",
       "      <td>0.00</td>\n",
       "      <td>1.00</td>\n",
       "      <td>0.00</td>\n",
       "      <td>1.00</td>\n",
       "      <td>0.00</td>\n",
       "      <td>1.00</td>\n",
       "      <td>0.00</td>\n",
       "      <td>1.00</td>\n",
       "      <td>0.00</td>\n",
       "      <td>0.00</td>\n",
       "      <td>0.00</td>\n",
       "      <td>0.00</td>\n",
       "    </tr>\n",
       "    <tr>\n",
       "      <th>6731</th>\n",
       "      <td>1</td>\n",
       "      <td>0</td>\n",
       "      <td>1</td>\n",
       "      <td>1.00</td>\n",
       "      <td>NaN</td>\n",
       "      <td>1</td>\n",
       "      <td>No</td>\n",
       "      <td>0</td>\n",
       "      <td>No internet service</td>\n",
       "      <td>No internet service</td>\n",
       "      <td>No internet service</td>\n",
       "      <td>No internet service</td>\n",
       "      <td>No internet service</td>\n",
       "      <td>No internet service</td>\n",
       "      <td>1</td>\n",
       "      <td>0</td>\n",
       "      <td>0.00</td>\n",
       "      <td>19.65</td>\n",
       "      <td>332.65</td>\n",
       "      <td>0</td>\n",
       "      <td>0.00</td>\n",
       "      <td>0.00</td>\n",
       "      <td>1.00</td>\n",
       "      <td>0.00</td>\n",
       "      <td>1.00</td>\n",
       "      <td>0.00</td>\n",
       "      <td>1.00</td>\n",
       "      <td>0.00</td>\n",
       "      <td>1.00</td>\n",
       "      <td>0.00</td>\n",
       "      <td>1.00</td>\n",
       "      <td>0.00</td>\n",
       "      <td>1.00</td>\n",
       "      <td>0.00</td>\n",
       "    </tr>\n",
       "    <tr>\n",
       "      <th>6479</th>\n",
       "      <td>0</td>\n",
       "      <td>0</td>\n",
       "      <td>1</td>\n",
       "      <td>0.00</td>\n",
       "      <td>60.00</td>\n",
       "      <td>1</td>\n",
       "      <td>Yes</td>\n",
       "      <td>2</td>\n",
       "      <td>No</td>\n",
       "      <td>Yes</td>\n",
       "      <td>Yes</td>\n",
       "      <td>Yes</td>\n",
       "      <td>Yes</td>\n",
       "      <td>Yes</td>\n",
       "      <td>2</td>\n",
       "      <td>1</td>\n",
       "      <td>3.00</td>\n",
       "      <td>110.80</td>\n",
       "      <td>6640.70</td>\n",
       "      <td>0</td>\n",
       "      <td>0.00</td>\n",
       "      <td>1.00</td>\n",
       "      <td>0.00</td>\n",
       "      <td>0.00</td>\n",
       "      <td>0.00</td>\n",
       "      <td>1.00</td>\n",
       "      <td>0.00</td>\n",
       "      <td>1.00</td>\n",
       "      <td>0.00</td>\n",
       "      <td>1.00</td>\n",
       "      <td>0.00</td>\n",
       "      <td>1.00</td>\n",
       "      <td>0.00</td>\n",
       "      <td>1.00</td>\n",
       "    </tr>\n",
       "    <tr>\n",
       "      <th>6861</th>\n",
       "      <td>0</td>\n",
       "      <td>0</td>\n",
       "      <td>0</td>\n",
       "      <td>0.00</td>\n",
       "      <td>37.00</td>\n",
       "      <td>1</td>\n",
       "      <td>Yes</td>\n",
       "      <td>2</td>\n",
       "      <td>No</td>\n",
       "      <td>Yes</td>\n",
       "      <td>Yes</td>\n",
       "      <td>No</td>\n",
       "      <td>Yes</td>\n",
       "      <td>Yes</td>\n",
       "      <td>0</td>\n",
       "      <td>1</td>\n",
       "      <td>2.00</td>\n",
       "      <td>101.90</td>\n",
       "      <td>3545.35</td>\n",
       "      <td>1</td>\n",
       "      <td>0.00</td>\n",
       "      <td>1.00</td>\n",
       "      <td>0.00</td>\n",
       "      <td>0.00</td>\n",
       "      <td>0.00</td>\n",
       "      <td>1.00</td>\n",
       "      <td>0.00</td>\n",
       "      <td>1.00</td>\n",
       "      <td>0.00</td>\n",
       "      <td>0.00</td>\n",
       "      <td>0.00</td>\n",
       "      <td>1.00</td>\n",
       "      <td>0.00</td>\n",
       "      <td>1.00</td>\n",
       "    </tr>\n",
       "    <tr>\n",
       "      <th>3266</th>\n",
       "      <td>1</td>\n",
       "      <td>0</td>\n",
       "      <td>1</td>\n",
       "      <td>1.00</td>\n",
       "      <td>29.00</td>\n",
       "      <td>1</td>\n",
       "      <td>No</td>\n",
       "      <td>2</td>\n",
       "      <td>No</td>\n",
       "      <td>No</td>\n",
       "      <td>No</td>\n",
       "      <td>No</td>\n",
       "      <td>No</td>\n",
       "      <td>No</td>\n",
       "      <td>0</td>\n",
       "      <td>1</td>\n",
       "      <td>1.00</td>\n",
       "      <td>70.75</td>\n",
       "      <td>1974.80</td>\n",
       "      <td>1</td>\n",
       "      <td>0.00</td>\n",
       "      <td>0.00</td>\n",
       "      <td>0.00</td>\n",
       "      <td>0.00</td>\n",
       "      <td>0.00</td>\n",
       "      <td>0.00</td>\n",
       "      <td>0.00</td>\n",
       "      <td>0.00</td>\n",
       "      <td>0.00</td>\n",
       "      <td>0.00</td>\n",
       "      <td>0.00</td>\n",
       "      <td>0.00</td>\n",
       "      <td>0.00</td>\n",
       "      <td>0.00</td>\n",
       "    </tr>\n",
       "  </tbody>\n",
       "</table>\n",
       "</div>"
      ],
      "text/plain": [
       "      Gender  Seniorcitizen  Partner  Dependents  Tenure  Phoneservice  \\\n",
       "id                                                                       \n",
       "4030       0              0        0        0.00   56.00             0   \n",
       "6731       1              0        1        1.00     NaN             1   \n",
       "6479       0              0        1        0.00   60.00             1   \n",
       "6861       0              0        0        0.00   37.00             1   \n",
       "3266       1              0        1        1.00   29.00             1   \n",
       "\n",
       "         Multiplelines  Internetservice       Onlinesecurity  \\\n",
       "id                                                             \n",
       "4030  No phone service                1                  Yes   \n",
       "6731                No                0  No internet service   \n",
       "6479               Yes                2                   No   \n",
       "6861               Yes                2                   No   \n",
       "3266                No                2                   No   \n",
       "\n",
       "             Onlinebackup     Deviceprotection          Techsupport  \\\n",
       "id                                                                    \n",
       "4030                  Yes                  Yes                  Yes   \n",
       "6731  No internet service  No internet service  No internet service   \n",
       "6479                  Yes                  Yes                  Yes   \n",
       "6861                  Yes                  Yes                   No   \n",
       "3266                   No                   No                   No   \n",
       "\n",
       "              Streamingtv      Streamingmovies  Contract  Paperlessbilling  \\\n",
       "id                                                                           \n",
       "4030                   No                   No         2                 0   \n",
       "6731  No internet service  No internet service         1                 0   \n",
       "6479                  Yes                  Yes         2                 1   \n",
       "6861                  Yes                  Yes         0                 1   \n",
       "3266                   No                   No         0                 1   \n",
       "\n",
       "      Paymentmethod  Monthlycharges  Totalcharges  Churn  \\\n",
       "id                                                         \n",
       "4030            NaN           45.05       2560.10      0   \n",
       "6731           0.00           19.65        332.65      0   \n",
       "6479           3.00          110.80       6640.70      0   \n",
       "6861           2.00          101.90       3545.35      1   \n",
       "3266           1.00           70.75       1974.80      1   \n",
       "\n",
       "      Multiplelines_No phone service  Multiplelines_Yes  \\\n",
       "id                                                        \n",
       "4030                            1.00               0.00   \n",
       "6731                            0.00               0.00   \n",
       "6479                            0.00               1.00   \n",
       "6861                            0.00               1.00   \n",
       "3266                            0.00               0.00   \n",
       "\n",
       "      Onlinesecurity_No internet service  Onlinesecurity_Yes  \\\n",
       "id                                                             \n",
       "4030                                0.00                1.00   \n",
       "6731                                1.00                0.00   \n",
       "6479                                0.00                0.00   \n",
       "6861                                0.00                0.00   \n",
       "3266                                0.00                0.00   \n",
       "\n",
       "      Onlinebackup_No internet service  Onlinebackup_Yes  \\\n",
       "id                                                         \n",
       "4030                              0.00              1.00   \n",
       "6731                              1.00              0.00   \n",
       "6479                              0.00              1.00   \n",
       "6861                              0.00              1.00   \n",
       "3266                              0.00              0.00   \n",
       "\n",
       "      Deviceprotection_No internet service  Deviceprotection_Yes  \\\n",
       "id                                                                 \n",
       "4030                                  0.00                  1.00   \n",
       "6731                                  1.00                  0.00   \n",
       "6479                                  0.00                  1.00   \n",
       "6861                                  0.00                  1.00   \n",
       "3266                                  0.00                  0.00   \n",
       "\n",
       "      Techsupport_No internet service  Techsupport_Yes  \\\n",
       "id                                                       \n",
       "4030                             0.00             1.00   \n",
       "6731                             1.00             0.00   \n",
       "6479                             0.00             1.00   \n",
       "6861                             0.00             0.00   \n",
       "3266                             0.00             0.00   \n",
       "\n",
       "      Streamingtv_No internet service  Streamingtv_Yes  \\\n",
       "id                                                       \n",
       "4030                             0.00             0.00   \n",
       "6731                             1.00             0.00   \n",
       "6479                             0.00             1.00   \n",
       "6861                             0.00             1.00   \n",
       "3266                             0.00             0.00   \n",
       "\n",
       "      Streamingmovies_No internet service  Streamingmovies_Yes  \n",
       "id                                                              \n",
       "4030                                 0.00                 0.00  \n",
       "6731                                 1.00                 0.00  \n",
       "6479                                 0.00                 1.00  \n",
       "6861                                 0.00                 1.00  \n",
       "3266                                 0.00                 0.00  "
      ]
     },
     "execution_count": 43,
     "metadata": {},
     "output_type": "execute_result"
    }
   ],
   "source": [
    "# Merging OHE DataFrame with main DataFrame\n",
    "\n",
    "df_clients = pd.merge(left=df_clients, right=df_ohe, on=\"id\")\n",
    "df_clients.head()"
   ]
  },
  {
   "cell_type": "code",
   "execution_count": 44,
   "metadata": {},
   "outputs": [
    {
     "data": {
      "text/plain": [
       "(5634, 34)"
      ]
     },
     "execution_count": 44,
     "metadata": {},
     "output_type": "execute_result"
    }
   ],
   "source": [
    "# Checking DataFrame structure\n",
    "\n",
    "df_clients.shape"
   ]
  },
  {
   "cell_type": "code",
   "execution_count": 45,
   "metadata": {},
   "outputs": [
    {
     "data": {
      "text/plain": [
       "(5634, 27)"
      ]
     },
     "execution_count": 45,
     "metadata": {},
     "output_type": "execute_result"
    }
   ],
   "source": [
    "# Dropping Nominal Features that are now encoded\n",
    "\n",
    "df_clients = df_clients.drop(categ_nominal, axis=\"columns\")\n",
    "df_clients.shape"
   ]
  },
  {
   "cell_type": "code",
   "execution_count": 46,
   "metadata": {},
   "outputs": [
    {
     "data": {
      "text/plain": [
       "Gender                                    int64\n",
       "Seniorcitizen                             int64\n",
       "Partner                                   int64\n",
       "Dependents                              float64\n",
       "Tenure                                  float64\n",
       "Phoneservice                              int64\n",
       "Internetservice                           int64\n",
       "Contract                                  int64\n",
       "Paperlessbilling                          int64\n",
       "Paymentmethod                           float64\n",
       "Monthlycharges                          float64\n",
       "Totalcharges                            float64\n",
       "Churn                                     int64\n",
       "Multiplelines_No phone service          float64\n",
       "Multiplelines_Yes                       float64\n",
       "Onlinesecurity_No internet service      float64\n",
       "Onlinesecurity_Yes                      float64\n",
       "Onlinebackup_No internet service        float64\n",
       "Onlinebackup_Yes                        float64\n",
       "Deviceprotection_No internet service    float64\n",
       "Deviceprotection_Yes                    float64\n",
       "Techsupport_No internet service         float64\n",
       "Techsupport_Yes                         float64\n",
       "Streamingtv_No internet service         float64\n",
       "Streamingtv_Yes                         float64\n",
       "Streamingmovies_No internet service     float64\n",
       "Streamingmovies_Yes                     float64\n",
       "dtype: object"
      ]
     },
     "execution_count": 46,
     "metadata": {},
     "output_type": "execute_result"
    }
   ],
   "source": [
    "# Checking for the DataFrame data types\n",
    "\n",
    "df_clients.dtypes"
   ]
  },
  {
   "cell_type": "markdown",
   "metadata": {},
   "source": [
    "<h1 style=\"color:cornflowerblue\">Separating Variables</h1>\n",
    "<p>Separating target Feature ( y ) and predictor Features ( X )."
   ]
  },
  {
   "cell_type": "code",
   "execution_count": 47,
   "metadata": {},
   "outputs": [
    {
     "data": {
      "text/html": [
       "<div>\n",
       "<style scoped>\n",
       "    .dataframe tbody tr th:only-of-type {\n",
       "        vertical-align: middle;\n",
       "    }\n",
       "\n",
       "    .dataframe tbody tr th {\n",
       "        vertical-align: top;\n",
       "    }\n",
       "\n",
       "    .dataframe thead th {\n",
       "        text-align: right;\n",
       "    }\n",
       "</style>\n",
       "<table border=\"1\" class=\"dataframe\">\n",
       "  <thead>\n",
       "    <tr style=\"text-align: right;\">\n",
       "      <th></th>\n",
       "      <th>Gender</th>\n",
       "      <th>Seniorcitizen</th>\n",
       "      <th>Partner</th>\n",
       "      <th>Dependents</th>\n",
       "      <th>Tenure</th>\n",
       "      <th>Phoneservice</th>\n",
       "      <th>Internetservice</th>\n",
       "      <th>Contract</th>\n",
       "      <th>Paperlessbilling</th>\n",
       "      <th>Paymentmethod</th>\n",
       "      <th>Monthlycharges</th>\n",
       "      <th>Totalcharges</th>\n",
       "      <th>Multiplelines_No phone service</th>\n",
       "      <th>Multiplelines_Yes</th>\n",
       "      <th>Onlinesecurity_No internet service</th>\n",
       "      <th>Onlinesecurity_Yes</th>\n",
       "      <th>Onlinebackup_No internet service</th>\n",
       "      <th>Onlinebackup_Yes</th>\n",
       "      <th>Deviceprotection_No internet service</th>\n",
       "      <th>Deviceprotection_Yes</th>\n",
       "      <th>Techsupport_No internet service</th>\n",
       "      <th>Techsupport_Yes</th>\n",
       "      <th>Streamingtv_No internet service</th>\n",
       "      <th>Streamingtv_Yes</th>\n",
       "      <th>Streamingmovies_No internet service</th>\n",
       "      <th>Streamingmovies_Yes</th>\n",
       "    </tr>\n",
       "    <tr>\n",
       "      <th>id</th>\n",
       "      <th></th>\n",
       "      <th></th>\n",
       "      <th></th>\n",
       "      <th></th>\n",
       "      <th></th>\n",
       "      <th></th>\n",
       "      <th></th>\n",
       "      <th></th>\n",
       "      <th></th>\n",
       "      <th></th>\n",
       "      <th></th>\n",
       "      <th></th>\n",
       "      <th></th>\n",
       "      <th></th>\n",
       "      <th></th>\n",
       "      <th></th>\n",
       "      <th></th>\n",
       "      <th></th>\n",
       "      <th></th>\n",
       "      <th></th>\n",
       "      <th></th>\n",
       "      <th></th>\n",
       "      <th></th>\n",
       "      <th></th>\n",
       "      <th></th>\n",
       "      <th></th>\n",
       "    </tr>\n",
       "  </thead>\n",
       "  <tbody>\n",
       "    <tr>\n",
       "      <th>4030</th>\n",
       "      <td>0</td>\n",
       "      <td>0</td>\n",
       "      <td>0</td>\n",
       "      <td>0.00</td>\n",
       "      <td>56.00</td>\n",
       "      <td>0</td>\n",
       "      <td>1</td>\n",
       "      <td>2</td>\n",
       "      <td>0</td>\n",
       "      <td>NaN</td>\n",
       "      <td>45.05</td>\n",
       "      <td>2560.10</td>\n",
       "      <td>1.00</td>\n",
       "      <td>0.00</td>\n",
       "      <td>0.00</td>\n",
       "      <td>1.00</td>\n",
       "      <td>0.00</td>\n",
       "      <td>1.00</td>\n",
       "      <td>0.00</td>\n",
       "      <td>1.00</td>\n",
       "      <td>0.00</td>\n",
       "      <td>1.00</td>\n",
       "      <td>0.00</td>\n",
       "      <td>0.00</td>\n",
       "      <td>0.00</td>\n",
       "      <td>0.00</td>\n",
       "    </tr>\n",
       "    <tr>\n",
       "      <th>6731</th>\n",
       "      <td>1</td>\n",
       "      <td>0</td>\n",
       "      <td>1</td>\n",
       "      <td>1.00</td>\n",
       "      <td>NaN</td>\n",
       "      <td>1</td>\n",
       "      <td>0</td>\n",
       "      <td>1</td>\n",
       "      <td>0</td>\n",
       "      <td>0.00</td>\n",
       "      <td>19.65</td>\n",
       "      <td>332.65</td>\n",
       "      <td>0.00</td>\n",
       "      <td>0.00</td>\n",
       "      <td>1.00</td>\n",
       "      <td>0.00</td>\n",
       "      <td>1.00</td>\n",
       "      <td>0.00</td>\n",
       "      <td>1.00</td>\n",
       "      <td>0.00</td>\n",
       "      <td>1.00</td>\n",
       "      <td>0.00</td>\n",
       "      <td>1.00</td>\n",
       "      <td>0.00</td>\n",
       "      <td>1.00</td>\n",
       "      <td>0.00</td>\n",
       "    </tr>\n",
       "    <tr>\n",
       "      <th>6479</th>\n",
       "      <td>0</td>\n",
       "      <td>0</td>\n",
       "      <td>1</td>\n",
       "      <td>0.00</td>\n",
       "      <td>60.00</td>\n",
       "      <td>1</td>\n",
       "      <td>2</td>\n",
       "      <td>2</td>\n",
       "      <td>1</td>\n",
       "      <td>3.00</td>\n",
       "      <td>110.80</td>\n",
       "      <td>6640.70</td>\n",
       "      <td>0.00</td>\n",
       "      <td>1.00</td>\n",
       "      <td>0.00</td>\n",
       "      <td>0.00</td>\n",
       "      <td>0.00</td>\n",
       "      <td>1.00</td>\n",
       "      <td>0.00</td>\n",
       "      <td>1.00</td>\n",
       "      <td>0.00</td>\n",
       "      <td>1.00</td>\n",
       "      <td>0.00</td>\n",
       "      <td>1.00</td>\n",
       "      <td>0.00</td>\n",
       "      <td>1.00</td>\n",
       "    </tr>\n",
       "    <tr>\n",
       "      <th>6861</th>\n",
       "      <td>0</td>\n",
       "      <td>0</td>\n",
       "      <td>0</td>\n",
       "      <td>0.00</td>\n",
       "      <td>37.00</td>\n",
       "      <td>1</td>\n",
       "      <td>2</td>\n",
       "      <td>0</td>\n",
       "      <td>1</td>\n",
       "      <td>2.00</td>\n",
       "      <td>101.90</td>\n",
       "      <td>3545.35</td>\n",
       "      <td>0.00</td>\n",
       "      <td>1.00</td>\n",
       "      <td>0.00</td>\n",
       "      <td>0.00</td>\n",
       "      <td>0.00</td>\n",
       "      <td>1.00</td>\n",
       "      <td>0.00</td>\n",
       "      <td>1.00</td>\n",
       "      <td>0.00</td>\n",
       "      <td>0.00</td>\n",
       "      <td>0.00</td>\n",
       "      <td>1.00</td>\n",
       "      <td>0.00</td>\n",
       "      <td>1.00</td>\n",
       "    </tr>\n",
       "    <tr>\n",
       "      <th>3266</th>\n",
       "      <td>1</td>\n",
       "      <td>0</td>\n",
       "      <td>1</td>\n",
       "      <td>1.00</td>\n",
       "      <td>29.00</td>\n",
       "      <td>1</td>\n",
       "      <td>2</td>\n",
       "      <td>0</td>\n",
       "      <td>1</td>\n",
       "      <td>1.00</td>\n",
       "      <td>70.75</td>\n",
       "      <td>1974.80</td>\n",
       "      <td>0.00</td>\n",
       "      <td>0.00</td>\n",
       "      <td>0.00</td>\n",
       "      <td>0.00</td>\n",
       "      <td>0.00</td>\n",
       "      <td>0.00</td>\n",
       "      <td>0.00</td>\n",
       "      <td>0.00</td>\n",
       "      <td>0.00</td>\n",
       "      <td>0.00</td>\n",
       "      <td>0.00</td>\n",
       "      <td>0.00</td>\n",
       "      <td>0.00</td>\n",
       "      <td>0.00</td>\n",
       "    </tr>\n",
       "  </tbody>\n",
       "</table>\n",
       "</div>"
      ],
      "text/plain": [
       "      Gender  Seniorcitizen  Partner  Dependents  Tenure  Phoneservice  \\\n",
       "id                                                                       \n",
       "4030       0              0        0        0.00   56.00             0   \n",
       "6731       1              0        1        1.00     NaN             1   \n",
       "6479       0              0        1        0.00   60.00             1   \n",
       "6861       0              0        0        0.00   37.00             1   \n",
       "3266       1              0        1        1.00   29.00             1   \n",
       "\n",
       "      Internetservice  Contract  Paperlessbilling  Paymentmethod  \\\n",
       "id                                                                 \n",
       "4030                1         2                 0            NaN   \n",
       "6731                0         1                 0           0.00   \n",
       "6479                2         2                 1           3.00   \n",
       "6861                2         0                 1           2.00   \n",
       "3266                2         0                 1           1.00   \n",
       "\n",
       "      Monthlycharges  Totalcharges  Multiplelines_No phone service  \\\n",
       "id                                                                   \n",
       "4030           45.05       2560.10                            1.00   \n",
       "6731           19.65        332.65                            0.00   \n",
       "6479          110.80       6640.70                            0.00   \n",
       "6861          101.90       3545.35                            0.00   \n",
       "3266           70.75       1974.80                            0.00   \n",
       "\n",
       "      Multiplelines_Yes  Onlinesecurity_No internet service  \\\n",
       "id                                                            \n",
       "4030               0.00                                0.00   \n",
       "6731               0.00                                1.00   \n",
       "6479               1.00                                0.00   \n",
       "6861               1.00                                0.00   \n",
       "3266               0.00                                0.00   \n",
       "\n",
       "      Onlinesecurity_Yes  Onlinebackup_No internet service  Onlinebackup_Yes  \\\n",
       "id                                                                             \n",
       "4030                1.00                              0.00              1.00   \n",
       "6731                0.00                              1.00              0.00   \n",
       "6479                0.00                              0.00              1.00   \n",
       "6861                0.00                              0.00              1.00   \n",
       "3266                0.00                              0.00              0.00   \n",
       "\n",
       "      Deviceprotection_No internet service  Deviceprotection_Yes  \\\n",
       "id                                                                 \n",
       "4030                                  0.00                  1.00   \n",
       "6731                                  1.00                  0.00   \n",
       "6479                                  0.00                  1.00   \n",
       "6861                                  0.00                  1.00   \n",
       "3266                                  0.00                  0.00   \n",
       "\n",
       "      Techsupport_No internet service  Techsupport_Yes  \\\n",
       "id                                                       \n",
       "4030                             0.00             1.00   \n",
       "6731                             1.00             0.00   \n",
       "6479                             0.00             1.00   \n",
       "6861                             0.00             0.00   \n",
       "3266                             0.00             0.00   \n",
       "\n",
       "      Streamingtv_No internet service  Streamingtv_Yes  \\\n",
       "id                                                       \n",
       "4030                             0.00             0.00   \n",
       "6731                             1.00             0.00   \n",
       "6479                             0.00             1.00   \n",
       "6861                             0.00             1.00   \n",
       "3266                             0.00             0.00   \n",
       "\n",
       "      Streamingmovies_No internet service  Streamingmovies_Yes  \n",
       "id                                                              \n",
       "4030                                 0.00                 0.00  \n",
       "6731                                 1.00                 0.00  \n",
       "6479                                 0.00                 1.00  \n",
       "6861                                 0.00                 1.00  \n",
       "3266                                 0.00                 0.00  "
      ]
     },
     "execution_count": 47,
     "metadata": {},
     "output_type": "execute_result"
    }
   ],
   "source": [
    "# Defining Predictor Features ( X )\n",
    "\n",
    "X = df_clients.drop(\"Churn\", axis=\"columns\")\n",
    "X.head()"
   ]
  },
  {
   "cell_type": "code",
   "execution_count": 48,
   "metadata": {},
   "outputs": [
    {
     "data": {
      "text/plain": [
       "(5634, 26)"
      ]
     },
     "execution_count": 48,
     "metadata": {},
     "output_type": "execute_result"
    }
   ],
   "source": [
    "X.shape"
   ]
  },
  {
   "cell_type": "code",
   "execution_count": 49,
   "metadata": {},
   "outputs": [
    {
     "data": {
      "text/html": [
       "<div>\n",
       "<style scoped>\n",
       "    .dataframe tbody tr th:only-of-type {\n",
       "        vertical-align: middle;\n",
       "    }\n",
       "\n",
       "    .dataframe tbody tr th {\n",
       "        vertical-align: top;\n",
       "    }\n",
       "\n",
       "    .dataframe thead th {\n",
       "        text-align: right;\n",
       "    }\n",
       "</style>\n",
       "<table border=\"1\" class=\"dataframe\">\n",
       "  <thead>\n",
       "    <tr style=\"text-align: right;\">\n",
       "      <th></th>\n",
       "      <th>Churn</th>\n",
       "    </tr>\n",
       "    <tr>\n",
       "      <th>id</th>\n",
       "      <th></th>\n",
       "    </tr>\n",
       "  </thead>\n",
       "  <tbody>\n",
       "    <tr>\n",
       "      <th>4030</th>\n",
       "      <td>0</td>\n",
       "    </tr>\n",
       "    <tr>\n",
       "      <th>6731</th>\n",
       "      <td>0</td>\n",
       "    </tr>\n",
       "    <tr>\n",
       "      <th>6479</th>\n",
       "      <td>0</td>\n",
       "    </tr>\n",
       "    <tr>\n",
       "      <th>6861</th>\n",
       "      <td>1</td>\n",
       "    </tr>\n",
       "    <tr>\n",
       "      <th>3266</th>\n",
       "      <td>1</td>\n",
       "    </tr>\n",
       "  </tbody>\n",
       "</table>\n",
       "</div>"
      ],
      "text/plain": [
       "      Churn\n",
       "id         \n",
       "4030      0\n",
       "6731      0\n",
       "6479      0\n",
       "6861      1\n",
       "3266      1"
      ]
     },
     "execution_count": 49,
     "metadata": {},
     "output_type": "execute_result"
    }
   ],
   "source": [
    "# Defining Target Feature ( y )\n",
    "\n",
    "y = df_clients[[\"Churn\"]]\n",
    "y.head()"
   ]
  },
  {
   "cell_type": "code",
   "execution_count": 50,
   "metadata": {},
   "outputs": [
    {
     "data": {
      "text/plain": [
       "(5634, 1)"
      ]
     },
     "execution_count": 50,
     "metadata": {},
     "output_type": "execute_result"
    }
   ],
   "source": [
    "y.shape"
   ]
  },
  {
   "cell_type": "markdown",
   "metadata": {},
   "source": [
    "<h1 style=\"color:cornflowerblue\">Separating Bases</h1>"
   ]
  },
  {
   "cell_type": "code",
   "execution_count": 51,
   "metadata": {},
   "outputs": [],
   "source": [
    "# Creating train and test bases\n",
    "\n",
    "X_train, X_test, y_train, y_test = train_test_split(X, # Predictor Variables\n",
    "                                                    y, # Target Variable\n",
    "                                                    test_size=0.2,\n",
    "                                                    random_state=42)"
   ]
  },
  {
   "cell_type": "code",
   "execution_count": 52,
   "metadata": {},
   "outputs": [
    {
     "name": "stdout",
     "output_type": "stream",
     "text": [
      "X Train: (4507, 26) \n",
      "X Test: (1127, 26) \n",
      "y Train: (4507, 1) \n",
      "y Test: (1127, 26)\n"
     ]
    }
   ],
   "source": [
    "print(f\"X Train: {X_train.shape} \\nX Test: {X_test.shape} \\ny Train: {y_train.shape} \\ny Test: {X_test.shape}\")"
   ]
  },
  {
   "cell_type": "markdown",
   "metadata": {},
   "source": [
    "<h1 style=\"color:cornflowerblue\">Missing Data</h1>"
   ]
  },
  {
   "cell_type": "code",
   "execution_count": 53,
   "metadata": {},
   "outputs": [
    {
     "data": {
      "text/html": [
       "<div>\n",
       "<style scoped>\n",
       "    .dataframe tbody tr th:only-of-type {\n",
       "        vertical-align: middle;\n",
       "    }\n",
       "\n",
       "    .dataframe tbody tr th {\n",
       "        vertical-align: top;\n",
       "    }\n",
       "\n",
       "    .dataframe thead th {\n",
       "        text-align: right;\n",
       "    }\n",
       "</style>\n",
       "<table border=\"1\" class=\"dataframe\">\n",
       "  <thead>\n",
       "    <tr style=\"text-align: right;\">\n",
       "      <th></th>\n",
       "      <th>col_name</th>\n",
       "      <th>count_nulls</th>\n",
       "    </tr>\n",
       "  </thead>\n",
       "  <tbody>\n",
       "    <tr>\n",
       "      <th>3</th>\n",
       "      <td>Dependents</td>\n",
       "      <td>171</td>\n",
       "    </tr>\n",
       "    <tr>\n",
       "      <th>4</th>\n",
       "      <td>Tenure</td>\n",
       "      <td>366</td>\n",
       "    </tr>\n",
       "    <tr>\n",
       "      <th>9</th>\n",
       "      <td>Paymentmethod</td>\n",
       "      <td>78</td>\n",
       "    </tr>\n",
       "    <tr>\n",
       "      <th>11</th>\n",
       "      <td>Totalcharges</td>\n",
       "      <td>6</td>\n",
       "    </tr>\n",
       "  </tbody>\n",
       "</table>\n",
       "</div>"
      ],
      "text/plain": [
       "         col_name  count_nulls\n",
       "3      Dependents          171\n",
       "4          Tenure          366\n",
       "9   Paymentmethod           78\n",
       "11   Totalcharges            6"
      ]
     },
     "execution_count": 53,
     "metadata": {},
     "output_type": "execute_result"
    }
   ],
   "source": [
    "# Checking for missing data - X Train\n",
    "\n",
    "df_nulls_X_train = X_train.isnull().sum().reset_index()\n",
    "df_nulls_X_train.columns = [\"col_name\", \"count_nulls\"]\n",
    "df_nulls_X_train = df_nulls_X_train[df_nulls_X_train[\"count_nulls\"] != 0]\n",
    "df_nulls_X_train"
   ]
  },
  {
   "cell_type": "code",
   "execution_count": 54,
   "metadata": {},
   "outputs": [
    {
     "data": {
      "text/html": [
       "<div>\n",
       "<style scoped>\n",
       "    .dataframe tbody tr th:only-of-type {\n",
       "        vertical-align: middle;\n",
       "    }\n",
       "\n",
       "    .dataframe tbody tr th {\n",
       "        vertical-align: top;\n",
       "    }\n",
       "\n",
       "    .dataframe thead th {\n",
       "        text-align: right;\n",
       "    }\n",
       "</style>\n",
       "<table border=\"1\" class=\"dataframe\">\n",
       "  <thead>\n",
       "    <tr style=\"text-align: right;\">\n",
       "      <th></th>\n",
       "      <th>col_name</th>\n",
       "      <th>count_nulls</th>\n",
       "    </tr>\n",
       "  </thead>\n",
       "  <tbody>\n",
       "    <tr>\n",
       "      <th>3</th>\n",
       "      <td>Dependents</td>\n",
       "      <td>47</td>\n",
       "    </tr>\n",
       "    <tr>\n",
       "      <th>4</th>\n",
       "      <td>Tenure</td>\n",
       "      <td>95</td>\n",
       "    </tr>\n",
       "    <tr>\n",
       "      <th>9</th>\n",
       "      <td>Paymentmethod</td>\n",
       "      <td>21</td>\n",
       "    </tr>\n",
       "    <tr>\n",
       "      <th>11</th>\n",
       "      <td>Totalcharges</td>\n",
       "      <td>2</td>\n",
       "    </tr>\n",
       "  </tbody>\n",
       "</table>\n",
       "</div>"
      ],
      "text/plain": [
       "         col_name  count_nulls\n",
       "3      Dependents           47\n",
       "4          Tenure           95\n",
       "9   Paymentmethod           21\n",
       "11   Totalcharges            2"
      ]
     },
     "execution_count": 54,
     "metadata": {},
     "output_type": "execute_result"
    }
   ],
   "source": [
    "# Checking for missing data - X Test\n",
    "\n",
    "df_nulls_X_test = X_test.isnull().sum().reset_index()\n",
    "df_nulls_X_test.columns = [\"col_name\", \"count_nulls\"]\n",
    "df_nulls_X_test = df_nulls_X_test[df_nulls_X_test[\"count_nulls\"] != 0]\n",
    "df_nulls_X_test"
   ]
  },
  {
   "cell_type": "code",
   "execution_count": 55,
   "metadata": {},
   "outputs": [
    {
     "data": {
      "text/html": [
       "<div>\n",
       "<style scoped>\n",
       "    .dataframe tbody tr th:only-of-type {\n",
       "        vertical-align: middle;\n",
       "    }\n",
       "\n",
       "    .dataframe tbody tr th {\n",
       "        vertical-align: top;\n",
       "    }\n",
       "\n",
       "    .dataframe thead th {\n",
       "        text-align: right;\n",
       "    }\n",
       "</style>\n",
       "<table border=\"1\" class=\"dataframe\">\n",
       "  <thead>\n",
       "    <tr style=\"text-align: right;\">\n",
       "      <th></th>\n",
       "      <th>index</th>\n",
       "      <th>0</th>\n",
       "    </tr>\n",
       "  </thead>\n",
       "  <tbody>\n",
       "    <tr>\n",
       "      <th>0</th>\n",
       "      <td>Churn</td>\n",
       "      <td>0</td>\n",
       "    </tr>\n",
       "  </tbody>\n",
       "</table>\n",
       "</div>"
      ],
      "text/plain": [
       "   index  0\n",
       "0  Churn  0"
      ]
     },
     "execution_count": 55,
     "metadata": {},
     "output_type": "execute_result"
    }
   ],
   "source": [
    "# Checking for missing data - y Train\n",
    "\n",
    "y_train.isnull().sum().reset_index()"
   ]
  },
  {
   "cell_type": "code",
   "execution_count": 56,
   "metadata": {},
   "outputs": [
    {
     "data": {
      "text/html": [
       "<div>\n",
       "<style scoped>\n",
       "    .dataframe tbody tr th:only-of-type {\n",
       "        vertical-align: middle;\n",
       "    }\n",
       "\n",
       "    .dataframe tbody tr th {\n",
       "        vertical-align: top;\n",
       "    }\n",
       "\n",
       "    .dataframe thead th {\n",
       "        text-align: right;\n",
       "    }\n",
       "</style>\n",
       "<table border=\"1\" class=\"dataframe\">\n",
       "  <thead>\n",
       "    <tr style=\"text-align: right;\">\n",
       "      <th></th>\n",
       "      <th>index</th>\n",
       "      <th>0</th>\n",
       "    </tr>\n",
       "  </thead>\n",
       "  <tbody>\n",
       "    <tr>\n",
       "      <th>0</th>\n",
       "      <td>Churn</td>\n",
       "      <td>0</td>\n",
       "    </tr>\n",
       "  </tbody>\n",
       "</table>\n",
       "</div>"
      ],
      "text/plain": [
       "   index  0\n",
       "0  Churn  0"
      ]
     },
     "execution_count": 56,
     "metadata": {},
     "output_type": "execute_result"
    }
   ],
   "source": [
    "# Checking for missing data - y Test\n",
    "\n",
    "y_test.isnull().sum().reset_index()"
   ]
  },
  {
   "cell_type": "code",
   "execution_count": 57,
   "metadata": {},
   "outputs": [],
   "source": [
    "# Storing the train and test DataFrames for testing different models\n",
    "\n",
    "X_train_original = X_train.copy()\n",
    "X_train_best = X_train.copy()\n",
    "\n",
    "X_test_original = X_test.copy()\n",
    "\n",
    "y_train_original = y_train.copy()\n",
    "\n",
    "y_test_original = y_test.copy()"
   ]
  },
  {
   "cell_type": "markdown",
   "metadata": {},
   "source": [
    "<h1 style=\"color:cornflowerblue\">Missing Values Imputation - Measures of Central Tendency</h1>\n",
    "<p>Threating missing data with mean, median and/or mode</p>\n",
    "<p>For numeric values: median</p>\n",
    "<p>For categoric values: mode</p>\n",
    "<p>To avoid Data Leakege, the metrics will be measured only in the training bases</p>\n",
    "<p>Since both Train and Test have the same missing values, the Test Dataframe missing values will be assigned only when the best parameters are chosen.<p>"
   ]
  },
  {
   "cell_type": "code",
   "execution_count": 58,
   "metadata": {},
   "outputs": [
    {
     "data": {
      "text/html": [
       "<div>\n",
       "<style scoped>\n",
       "    .dataframe tbody tr th:only-of-type {\n",
       "        vertical-align: middle;\n",
       "    }\n",
       "\n",
       "    .dataframe tbody tr th {\n",
       "        vertical-align: top;\n",
       "    }\n",
       "\n",
       "    .dataframe thead th {\n",
       "        text-align: right;\n",
       "    }\n",
       "</style>\n",
       "<table border=\"1\" class=\"dataframe\">\n",
       "  <thead>\n",
       "    <tr style=\"text-align: right;\">\n",
       "      <th></th>\n",
       "      <th>col_name</th>\n",
       "      <th>count_nulls</th>\n",
       "    </tr>\n",
       "  </thead>\n",
       "  <tbody>\n",
       "    <tr>\n",
       "      <th>3</th>\n",
       "      <td>Dependents</td>\n",
       "      <td>171</td>\n",
       "    </tr>\n",
       "    <tr>\n",
       "      <th>4</th>\n",
       "      <td>Tenure</td>\n",
       "      <td>366</td>\n",
       "    </tr>\n",
       "    <tr>\n",
       "      <th>9</th>\n",
       "      <td>Paymentmethod</td>\n",
       "      <td>78</td>\n",
       "    </tr>\n",
       "    <tr>\n",
       "      <th>11</th>\n",
       "      <td>Totalcharges</td>\n",
       "      <td>6</td>\n",
       "    </tr>\n",
       "  </tbody>\n",
       "</table>\n",
       "</div>"
      ],
      "text/plain": [
       "         col_name  count_nulls\n",
       "3      Dependents          171\n",
       "4          Tenure          366\n",
       "9   Paymentmethod           78\n",
       "11   Totalcharges            6"
      ]
     },
     "execution_count": 58,
     "metadata": {},
     "output_type": "execute_result"
    }
   ],
   "source": [
    "# Checking nulls on Train Base\n",
    "\n",
    "df_nulls_X_train"
   ]
  },
  {
   "cell_type": "code",
   "execution_count": 59,
   "metadata": {},
   "outputs": [
    {
     "name": "stdout",
     "output_type": "stream",
     "text": [
      "Dependents median: 0.0\n",
      "Tenure median: 29.0\n",
      "Payment Method mode: 1.0\n",
      "Total Charge Median: 1389.6\n"
     ]
    }
   ],
   "source": [
    "# Creating variables for the central tendency metrics\n",
    "\n",
    "dependents_median = X_train[\"Dependents\"].median()\n",
    "tenure_median = X_train[\"Tenure\"].median()\n",
    "paymethod_mode = X_train[\"Paymentmethod\"].mode()[0]\n",
    "totalcharge_median = X_train[\"Totalcharges\"].median()\n",
    "\n",
    "\n",
    "print(f\"Dependents median: {dependents_median}\")\n",
    "print(f\"Tenure median: {tenure_median}\")\n",
    "print(f\"Payment Method mode: {paymethod_mode}\")\n",
    "print(f\"Total Charge Median: {totalcharge_median}\")\n"
   ]
  },
  {
   "cell_type": "code",
   "execution_count": 60,
   "metadata": {},
   "outputs": [
    {
     "data": {
      "text/plain": [
       "Dependents\n",
       "0.00    3219\n",
       "1.00    1288\n",
       "Name: count, dtype: int64"
      ]
     },
     "execution_count": 60,
     "metadata": {},
     "output_type": "execute_result"
    }
   ],
   "source": [
    "# Data imputation - Dependents Column\n",
    "\n",
    "X_train.loc[X_train[\"Dependents\"].isnull(), \"Dependents\"] = dependents_median\n",
    "X_train[\"Dependents\"].value_counts(dropna=False)"
   ]
  },
  {
   "cell_type": "code",
   "execution_count": 61,
   "metadata": {},
   "outputs": [
    {
     "data": {
      "text/plain": [
       "np.int64(0)"
      ]
     },
     "execution_count": 61,
     "metadata": {},
     "output_type": "execute_result"
    }
   ],
   "source": [
    "# Data imputation - Tenure Column\n",
    "\n",
    "X_train.loc[X_train[\"Tenure\"].isnull(), \"Tenure\"] = tenure_median\n",
    "X_train[\"Tenure\"].isnull().sum()"
   ]
  },
  {
   "cell_type": "code",
   "execution_count": 62,
   "metadata": {},
   "outputs": [
    {
     "data": {
      "text/plain": [
       "Paymentmethod\n",
       "1.00    1595\n",
       "0.00    1029\n",
       "2.00     963\n",
       "3.00     920\n",
       "Name: count, dtype: int64"
      ]
     },
     "execution_count": 62,
     "metadata": {},
     "output_type": "execute_result"
    }
   ],
   "source": [
    "# Data imputation - Payment Method Column\n",
    "\n",
    "X_train.loc[X_train[\"Paymentmethod\"].isnull(), \"Paymentmethod\"] = paymethod_mode\n",
    "X_train[\"Paymentmethod\"].value_counts(dropna=False)"
   ]
  },
  {
   "cell_type": "code",
   "execution_count": 63,
   "metadata": {},
   "outputs": [
    {
     "data": {
      "text/plain": [
       "np.int64(0)"
      ]
     },
     "execution_count": 63,
     "metadata": {},
     "output_type": "execute_result"
    }
   ],
   "source": [
    "# Data imputation - Payment Method Column\n",
    "\n",
    "X_train.loc[X_train[\"Totalcharges\"].isnull(), \"Totalcharges\"] = totalcharge_median\n",
    "X_train[\"Totalcharges\"].isnull().sum()"
   ]
  },
  {
   "cell_type": "code",
   "execution_count": 64,
   "metadata": {},
   "outputs": [
    {
     "data": {
      "text/plain": [
       "Gender                                  0\n",
       "Seniorcitizen                           0\n",
       "Partner                                 0\n",
       "Dependents                              0\n",
       "Tenure                                  0\n",
       "Phoneservice                            0\n",
       "Internetservice                         0\n",
       "Contract                                0\n",
       "Paperlessbilling                        0\n",
       "Paymentmethod                           0\n",
       "Monthlycharges                          0\n",
       "Totalcharges                            0\n",
       "Multiplelines_No phone service          0\n",
       "Multiplelines_Yes                       0\n",
       "Onlinesecurity_No internet service      0\n",
       "Onlinesecurity_Yes                      0\n",
       "Onlinebackup_No internet service        0\n",
       "Onlinebackup_Yes                        0\n",
       "Deviceprotection_No internet service    0\n",
       "Deviceprotection_Yes                    0\n",
       "Techsupport_No internet service         0\n",
       "Techsupport_Yes                         0\n",
       "Streamingtv_No internet service         0\n",
       "Streamingtv_Yes                         0\n",
       "Streamingmovies_No internet service     0\n",
       "Streamingmovies_Yes                     0\n",
       "dtype: int64"
      ]
     },
     "execution_count": 64,
     "metadata": {},
     "output_type": "execute_result"
    }
   ],
   "source": [
    "X_train.isnull().sum()"
   ]
  },
  {
   "cell_type": "markdown",
   "metadata": {},
   "source": [
    "<h1 style=\"color:cornflowerblue\">Model Selection</h1>\n",
    "<p>Several metrics can be used for selecting the best model. This study will focus on:\n",
    "    <ul type=\"disc\">\n",
    "    <li>Accuracy: The proportion of correctly predicted instances (both True Positives and True Negatives) out of the total number of instances.\n",
    "    <li>Precision: The proportion of correctly predicted positive instances out of all instances predicted as positive, focusing on the accuracy of positive predictions.\n",
    "    <li>Recall (Sensitivity): The proportion of correctly predicted positive instances out of all actual positive instances, indicating how well the model captures positive cases.\n",
    "    <li>Specificity: The proportion of correctly predicted negative instances out of all actual negative instances, crucial for accurately identifying true negatives.\n",
    "    <li>F1 Score: The harmonic mean of Precision and Recall, offering a balanced measure considering both false positives and false negatives in imbalanced datasets.\n",
    "    </ul></p>\n",
    "<p>Accuracy: As show in \"Analyzing Churn\" 27% of the base will Churn. That level of imbalance in the target variable makes \"Accuracy\" not the best among the measures to evaluate the model;</p>\n",
    "<p>Precision: Might be a good measure: it evaluates the proportion of True Positive predictions (Churn) considering all Positive predictions;</p>\n",
    "<p>Recall (Sensitivity): Might be a good measure: it evaluates the proportion of True Positive predictions (Churn) considering all Real Positive values;</p>\n",
    "<p>Specificity: Probably not a interesting measure to evaluate. The metric is the opposite of Recall, as it shows the proportion of True Negatives considering all Real Negative values.</p>\n",
    "<p>F1 Score: Harmonic Mean of Precision and Recall. Might be a good metric for comparison.</p>\n",
    "<p>For the current study, all metrics are going to be shown, but only Precision, Recall and F1 Score will be considered for choosing the best machine learning model.</p>"
   ]
  },
  {
   "cell_type": "code",
   "execution_count": 65,
   "metadata": {},
   "outputs": [],
   "source": [
    "# List of metrics to consider\n",
    "\n",
    "metrics_evaluate = {\"Accuracy\": make_scorer(accuracy_score), \n",
    "                    \"Precision\": make_scorer(precision_score), \n",
    "                    \"Recall\": make_scorer(recall_score), \n",
    "                    \"Specificity\": make_scorer(recall_score, pos_label=0), \n",
    "                    \"F1 Score\": make_scorer(f1_score)}"
   ]
  },
  {
   "cell_type": "markdown",
   "metadata": {},
   "source": [
    "<h2 style=\"color:cornflowerblue\">Logistic Regression</h2>"
   ]
  },
  {
   "cell_type": "code",
   "execution_count": 66,
   "metadata": {},
   "outputs": [],
   "source": [
    "scaler = StandardScaler()\n",
    "X_train_scaled = scaler.fit_transform(X_train)"
   ]
  },
  {
   "cell_type": "code",
   "execution_count": 67,
   "metadata": {},
   "outputs": [
    {
     "name": "stdout",
     "output_type": "stream",
     "text": [
      "Cross Validation - Accuracy: 80.72\n",
      "Cross Validation - Precision: 66.63\n",
      "Cross Validation - Recall: 56.00\n",
      "Cross Validation - Specificity: 89.76\n",
      "Cross Validation - F1 Score: 60.75\n"
     ]
    }
   ],
   "source": [
    "# Instancing the Model\n",
    "\n",
    "log_reg_1 = LogisticRegression(max_iter=500, random_state=42)\n",
    "\n",
    "\n",
    "# Training using Cross Validation\n",
    "\n",
    "for i in metrics_evaluate:\n",
    "    log_reg_1_values = cross_val_score(estimator=log_reg_1,\n",
    "                                      X = X_train_scaled,\n",
    "                                      y = y_train.values.flatten(),\n",
    "                                      cv = 10, # 10 fold Cross Validation\n",
    "                                      scoring = metrics_evaluate[i] # different scoring types\n",
    "                                      )\n",
    "    \n",
    "    mean_score = log_reg_1_values.mean()\n",
    "    print(f\"Cross Validation - {i}: {(mean_score*100):.2f}\")"
   ]
  },
  {
   "cell_type": "markdown",
   "metadata": {},
   "source": [
    "<h2 style=\"color:cornflowerblue\">Random Forest</h2>"
   ]
  },
  {
   "cell_type": "code",
   "execution_count": 68,
   "metadata": {},
   "outputs": [
    {
     "name": "stdout",
     "output_type": "stream",
     "text": [
      "Cross Validation - Accuracy: 79.21\n",
      "Cross Validation - Precision: 64.28\n",
      "Cross Validation - Recall: 50.45\n",
      "Cross Validation - Specificity: 89.73\n",
      "Cross Validation - F1 Score: 56.42\n"
     ]
    }
   ],
   "source": [
    "# Instancing the Model\n",
    "\n",
    "ran_for_1 = RandomForestClassifier(random_state=42)\n",
    "\n",
    "\n",
    "# Training using Cross Validation\n",
    "\n",
    "for i in metrics_evaluate:\n",
    "    ran_for_1_values = cross_val_score(estimator=ran_for_1,\n",
    "                                      X = X_train,\n",
    "                                      y = y_train.values.flatten(),\n",
    "                                      cv = 10, # 10 fold Cross Validation\n",
    "                                      scoring = metrics_evaluate[i] # different scoring types\n",
    "                                      )\n",
    "    \n",
    "    mean_score = ran_for_1_values.mean()\n",
    "    print(f\"Cross Validation - {i}: {(mean_score*100):.2f}\")"
   ]
  },
  {
   "cell_type": "markdown",
   "metadata": {},
   "source": [
    "<h2 style=\"color:cornflowerblue\">XGBoost</h2>"
   ]
  },
  {
   "cell_type": "code",
   "execution_count": 69,
   "metadata": {},
   "outputs": [
    {
     "name": "stdout",
     "output_type": "stream",
     "text": [
      "Cross Validation - Accuracy: 78.65\n",
      "Cross Validation - Precision: 61.37\n",
      "Cross Validation - Recall: 54.68\n",
      "Cross Validation - Specificity: 87.42\n",
      "Cross Validation - F1 Score: 57.77\n"
     ]
    }
   ],
   "source": [
    "# Instancing the Model\n",
    "\n",
    "xgb_1 = xgb.XGBClassifier(random_state = 42, \n",
    "                          objective=\"binary:logistic\", \n",
    "                          eval_metric=\"error\")\n",
    "\n",
    "\n",
    "# Training using Cross Validation\n",
    "\n",
    "for i in metrics_evaluate:\n",
    "    xgb_1_values = cross_val_score(estimator=xgb_1,\n",
    "                                   X = X_train,\n",
    "                                   y = y_train.values.flatten(),\n",
    "                                   cv = 10, # 10 fold Cross Validation\n",
    "                                   scoring = metrics_evaluate[i] # different scoring types\n",
    "                                   )\n",
    "    \n",
    "    mean_score = xgb_1_values.mean()\n",
    "    print(f\"Cross Validation - {i}: {(mean_score*100):.2f}\")"
   ]
  },
  {
   "cell_type": "markdown",
   "metadata": {},
   "source": [
    "<h2 style=\"color:cornflowerblue\">LightGBM</h2>"
   ]
  },
  {
   "cell_type": "code",
   "execution_count": 70,
   "metadata": {},
   "outputs": [
    {
     "name": "stdout",
     "output_type": "stream",
     "text": [
      "Cross Validation - Accuracy: 79.30\n",
      "Cross Validation - Precision: 63.29\n",
      "Cross Validation - Recall: 53.68\n",
      "Cross Validation - Specificity: 88.67\n",
      "Cross Validation - F1 Score: 58.05\n"
     ]
    }
   ],
   "source": [
    "# Instancing the Model\n",
    "\n",
    "lgbm_1 = lgbm.LGBMClassifier(random_state=42,\n",
    "                             verbose = -1\n",
    "                             )\n",
    "\n",
    "for i in metrics_evaluate:\n",
    "    lgbm_1_values = cross_val_score(estimator=lgbm_1,\n",
    "                                   X = X_train,\n",
    "                                   y = y_train.values.flatten(),\n",
    "                                   cv = 10, # 10 fold Cross Validation\n",
    "                                   scoring = metrics_evaluate[i] # different scoring types\n",
    "                                   )\n",
    "    \n",
    "    mean_score = lgbm_1_values.mean()\n",
    "    print(f\"Cross Validation - {i}: {(mean_score*100):.2f}\")"
   ]
  },
  {
   "cell_type": "markdown",
   "metadata": {},
   "source": [
    "<h2 style=\"color:cornflowerblue\">Histogram Gradient Boosting Classifier</h2>"
   ]
  },
  {
   "cell_type": "code",
   "execution_count": 71,
   "metadata": {},
   "outputs": [
    {
     "name": "stdout",
     "output_type": "stream",
     "text": [
      "Cross Validation - Accuracy: 79.54\n",
      "Cross Validation - Precision: 63.87\n",
      "Cross Validation - Recall: 54.02\n",
      "Cross Validation - Specificity: 88.88\n",
      "Cross Validation - F1 Score: 58.48\n"
     ]
    }
   ],
   "source": [
    "# Instancing the Model\n",
    "\n",
    "hgbc_1 = hgbc(random_state=42\n",
    "              )\n",
    "\n",
    "for i in metrics_evaluate:\n",
    "    hgbc_1_values = cross_val_score(estimator=hgbc_1,\n",
    "                                   X = X_train,\n",
    "                                   y = y_train.values.flatten(),\n",
    "                                   cv = 10, # 10 fold Cross Validation\n",
    "                                   scoring = metrics_evaluate[i] # different scoring types\n",
    "                                   )\n",
    "    \n",
    "    mean_score = hgbc_1_values.mean()\n",
    "    print(f\"Cross Validation - {i}: {(mean_score*100):.2f}\")"
   ]
  },
  {
   "cell_type": "markdown",
   "metadata": {},
   "source": [
    "<h2 style=\"color:cornflowerblue\">Model Selection</h2>\n",
    "<p>The choosen metrics to evaluate the model are Precision, Recall and F1 Score. Considering it, the models have the following scores:\n",
    "    <ul type=\"disc\">\n",
    "    <li>Logistic Regression:\n",
    "        <ul type=\"circle\">\n",
    "        <li>Precision: 66.63\n",
    "        <li>Recall: 56.00\n",
    "        <li>F1: 60.75\n",
    "        </ul>\n",
    "        <br>\n",
    "    <li>Random Forest:\n",
    "        <ul type=\"circle\">\n",
    "        <li>Precision: 64.28\n",
    "        <li>Recall: 50.45\n",
    "        <li>F1: 56.42\n",
    "        </ul>\n",
    "        <br>\n",
    "    <li>XGBoost:\n",
    "        <ul type=\"circle\">\n",
    "        <li>Precision: 61.37\n",
    "        <li>Recall: 54.68\n",
    "        <li>F1: 57.77\n",
    "        </ul>\n",
    "        <br>\n",
    "    <li>LightGBM:\n",
    "        <ul type=\"circle\">\n",
    "        <li>Precision: 63.29\n",
    "        <li>Recall: 53.68\n",
    "        <li>F1: 58.05\n",
    "        </ul>\n",
    "        <br>\n",
    "    <li>Histogram Gradient Boosting Classifier:\n",
    "        <ul type=\"circle\">\n",
    "        <li>Precision: 63.87\n",
    "        <li>Recall: 54.02\n",
    "        <li>F1: 58.48\n",
    "        </ul>\n",
    "        <br>\n",
    "    </ul>\n",
    "</p>\n",
    "<p>For the choosen metrics, the Logistic Regression is the model that gave the best results.</p>"
   ]
  },
  {
   "cell_type": "markdown",
   "metadata": {},
   "source": [
    "<h1 style=\"color:cornflowerblue\">Feature Engineering</h1>\n",
    "<p>Checking missing data again for insights on features to improve the model.<p>"
   ]
  },
  {
   "cell_type": "code",
   "execution_count": 72,
   "metadata": {},
   "outputs": [
    {
     "data": {
      "text/html": [
       "<div>\n",
       "<style scoped>\n",
       "    .dataframe tbody tr th:only-of-type {\n",
       "        vertical-align: middle;\n",
       "    }\n",
       "\n",
       "    .dataframe tbody tr th {\n",
       "        vertical-align: top;\n",
       "    }\n",
       "\n",
       "    .dataframe thead th {\n",
       "        text-align: right;\n",
       "    }\n",
       "</style>\n",
       "<table border=\"1\" class=\"dataframe\">\n",
       "  <thead>\n",
       "    <tr style=\"text-align: right;\">\n",
       "      <th></th>\n",
       "      <th>col_name</th>\n",
       "      <th>count_nulls</th>\n",
       "    </tr>\n",
       "  </thead>\n",
       "  <tbody>\n",
       "    <tr>\n",
       "      <th>3</th>\n",
       "      <td>Dependents</td>\n",
       "      <td>171</td>\n",
       "    </tr>\n",
       "    <tr>\n",
       "      <th>4</th>\n",
       "      <td>Tenure</td>\n",
       "      <td>366</td>\n",
       "    </tr>\n",
       "    <tr>\n",
       "      <th>9</th>\n",
       "      <td>Paymentmethod</td>\n",
       "      <td>78</td>\n",
       "    </tr>\n",
       "    <tr>\n",
       "      <th>11</th>\n",
       "      <td>Totalcharges</td>\n",
       "      <td>6</td>\n",
       "    </tr>\n",
       "  </tbody>\n",
       "</table>\n",
       "</div>"
      ],
      "text/plain": [
       "         col_name  count_nulls\n",
       "3      Dependents          171\n",
       "4          Tenure          366\n",
       "9   Paymentmethod           78\n",
       "11   Totalcharges            6"
      ]
     },
     "execution_count": 72,
     "metadata": {},
     "output_type": "execute_result"
    }
   ],
   "source": [
    "# Checking nulls of the Train features\n",
    "\n",
    "df_nulls_X_train"
   ]
  },
  {
   "cell_type": "code",
   "execution_count": 73,
   "metadata": {},
   "outputs": [
    {
     "data": {
      "text/html": [
       "<div>\n",
       "<style scoped>\n",
       "    .dataframe tbody tr th:only-of-type {\n",
       "        vertical-align: middle;\n",
       "    }\n",
       "\n",
       "    .dataframe tbody tr th {\n",
       "        vertical-align: top;\n",
       "    }\n",
       "\n",
       "    .dataframe thead th {\n",
       "        text-align: right;\n",
       "    }\n",
       "</style>\n",
       "<table border=\"1\" class=\"dataframe\">\n",
       "  <thead>\n",
       "    <tr style=\"text-align: right;\">\n",
       "      <th></th>\n",
       "      <th>col_name</th>\n",
       "      <th>count_nulls</th>\n",
       "    </tr>\n",
       "  </thead>\n",
       "  <tbody>\n",
       "    <tr>\n",
       "      <th>3</th>\n",
       "      <td>Dependents</td>\n",
       "      <td>47</td>\n",
       "    </tr>\n",
       "    <tr>\n",
       "      <th>4</th>\n",
       "      <td>Tenure</td>\n",
       "      <td>95</td>\n",
       "    </tr>\n",
       "    <tr>\n",
       "      <th>9</th>\n",
       "      <td>Paymentmethod</td>\n",
       "      <td>21</td>\n",
       "    </tr>\n",
       "    <tr>\n",
       "      <th>11</th>\n",
       "      <td>Totalcharges</td>\n",
       "      <td>2</td>\n",
       "    </tr>\n",
       "  </tbody>\n",
       "</table>\n",
       "</div>"
      ],
      "text/plain": [
       "         col_name  count_nulls\n",
       "3      Dependents           47\n",
       "4          Tenure           95\n",
       "9   Paymentmethod           21\n",
       "11   Totalcharges            2"
      ]
     },
     "execution_count": 73,
     "metadata": {},
     "output_type": "execute_result"
    }
   ],
   "source": [
    "# Checking nulls of the Train features\n",
    "\n",
    "df_nulls_X_test"
   ]
  },
  {
   "cell_type": "code",
   "execution_count": 74,
   "metadata": {},
   "outputs": [
    {
     "data": {
      "text/plain": [
       "3     218\n",
       "4     461\n",
       "9      99\n",
       "11      8\n",
       "Name: count_nulls, dtype: int64"
      ]
     },
     "execution_count": 74,
     "metadata": {},
     "output_type": "execute_result"
    }
   ],
   "source": [
    "# Sum of nulls in the train and test bases\n",
    "\n",
    "df_nulls_X_train[\"count_nulls\"] + df_nulls_X_test[\"count_nulls\"]"
   ]
  },
  {
   "cell_type": "markdown",
   "metadata": {},
   "source": [
    "<h2 style=\"color:cornflowerblue\">Insights</h2>\n",
    "<p>On a previous note, the missing data was replaced with measures of central tendency. What other possibilities can be used to deal with missing data?<p>\n",
    "<p>At first, the following columns will be tested to see if there's any improvement in the model:\n",
    "    <ul type=\"disc\">\n",
    "    <li>Dependents: instead of using median (Yes=1, No=0), input data with the KNN algorithm to see if the metrics improve.\n",
    "    <li>Tenure: instead of using median, calculate tenure as TotalCharges / MonthlyCharges to see if the metrics improve.\n",
    "    <li>PaymentMethod: Will keep the previously inputed data.\n",
    "    <li>TotalCharges: Will keep the previously inputed data.\n",
    "    </ul>\n",
    "    </p>\n",
    "<p>New Feature to be created such as:\n",
    "    <ul type=\"disc\">\n",
    "    <li>Hasinternet: clients with internet services (nominal).\n",
    "    <li>Loncontract: clients with long contract (nominal).\n",
    "    <li>Servcount: Amount of services that each client has.\n",
    "    <li>Averagepayment: average payment for each service -> MonthlyCharges / Serv_Number.\n",
    "    </ul>\n",
    "    </p>"
   ]
  },
  {
   "cell_type": "markdown",
   "metadata": {},
   "source": [
    "<h2 style=\"color:cornflowerblue\">Tenure Feature</h2>"
   ]
  },
  {
   "cell_type": "code",
   "execution_count": 75,
   "metadata": {},
   "outputs": [
    {
     "data": {
      "text/plain": [
       "np.int64(366)"
      ]
     },
     "execution_count": 75,
     "metadata": {},
     "output_type": "execute_result"
    }
   ],
   "source": [
    "# Setting the original values to the Tenure column\n",
    "\n",
    "X_train[\"Tenure\"] = X_train_original[\"Tenure\"]\n",
    "X_train[\"Tenure\"].isnull().sum()"
   ]
  },
  {
   "cell_type": "code",
   "execution_count": 76,
   "metadata": {},
   "outputs": [
    {
     "data": {
      "text/html": [
       "<div>\n",
       "<style scoped>\n",
       "    .dataframe tbody tr th:only-of-type {\n",
       "        vertical-align: middle;\n",
       "    }\n",
       "\n",
       "    .dataframe tbody tr th {\n",
       "        vertical-align: top;\n",
       "    }\n",
       "\n",
       "    .dataframe thead th {\n",
       "        text-align: right;\n",
       "    }\n",
       "</style>\n",
       "<table border=\"1\" class=\"dataframe\">\n",
       "  <thead>\n",
       "    <tr style=\"text-align: right;\">\n",
       "      <th></th>\n",
       "      <th>Tenure_Original</th>\n",
       "      <th>Tenure_Calculated</th>\n",
       "    </tr>\n",
       "    <tr>\n",
       "      <th>id</th>\n",
       "      <th></th>\n",
       "      <th></th>\n",
       "    </tr>\n",
       "  </thead>\n",
       "  <tbody>\n",
       "    <tr>\n",
       "      <th>3559</th>\n",
       "      <td>28.00</td>\n",
       "      <td>28.00</td>\n",
       "    </tr>\n",
       "    <tr>\n",
       "      <th>896</th>\n",
       "      <td>30.00</td>\n",
       "      <td>30.00</td>\n",
       "    </tr>\n",
       "    <tr>\n",
       "      <th>3600</th>\n",
       "      <td>45.00</td>\n",
       "      <td>45.00</td>\n",
       "    </tr>\n",
       "    <tr>\n",
       "      <th>6991</th>\n",
       "      <td>36.00</td>\n",
       "      <td>36.00</td>\n",
       "    </tr>\n",
       "    <tr>\n",
       "      <th>5455</th>\n",
       "      <td>1.00</td>\n",
       "      <td>1.00</td>\n",
       "    </tr>\n",
       "  </tbody>\n",
       "</table>\n",
       "</div>"
      ],
      "text/plain": [
       "      Tenure_Original  Tenure_Calculated\n",
       "id                                      \n",
       "3559            28.00              28.00\n",
       "896             30.00              30.00\n",
       "3600            45.00              45.00\n",
       "6991            36.00              36.00\n",
       "5455             1.00               1.00"
      ]
     },
     "execution_count": 76,
     "metadata": {},
     "output_type": "execute_result"
    }
   ],
   "source": [
    "# Creating a dataframe for compariston\n",
    "\n",
    "df_tenure_comparison = pd.DataFrame(data=X_train[\"Tenure\"], index=X_train.index)\n",
    "\n",
    "\n",
    "# Starting with the original metrics\n",
    "\n",
    "df_tenure_comparison.columns = [\"Tenure_Original\"]\n",
    "df_tenure_comparison.loc[df_tenure_comparison[\"Tenure_Original\"].isna(), \"Tenure_Original\"] = tenure_median\n",
    "\n",
    "# Adding calculated tenure\n",
    "\n",
    "df_tenure_comparison[\"Tenure_Calculated\"] = X_train[\"Tenure\"]\n",
    "df_tenure_comparison.loc[df_tenure_comparison[\"Tenure_Calculated\"].isna(), \"Tenure_Calculated\"] = X_train.loc[X_train[\"Tenure\"].isna(), \"Totalcharges\"] / X_train.loc[X_train[\"Tenure\"].isna(), \"Monthlycharges\"]\n",
    "\n",
    "df_tenure_comparison.head()"
   ]
  },
  {
   "cell_type": "code",
   "execution_count": 77,
   "metadata": {},
   "outputs": [
    {
     "name": "stdout",
     "output_type": "stream",
     "text": [
      "Tenure_Original\n",
      "Cross Validation - Accuracy: 80.72\n",
      "Cross Validation - Precision: 66.63\n",
      "Cross Validation - Recall: 56.00\n",
      "Cross Validation - Specificity: 89.76\n",
      "Cross Validation - F1 Score: 60.75\n",
      "\n",
      "\n",
      "Tenure_Calculated\n",
      "Cross Validation - Accuracy: 80.87\n",
      "Cross Validation - Precision: 66.76\n",
      "Cross Validation - Recall: 57.08\n",
      "Cross Validation - Specificity: 89.58\n",
      "Cross Validation - F1 Score: 61.42\n",
      "\n",
      "\n"
     ]
    }
   ],
   "source": [
    "# Training using Cross Validation and comparing metrics\n",
    "\n",
    "for i in df_tenure_comparison.columns:\n",
    "    X_train[\"Tenure\"] = df_tenure_comparison[i]\n",
    "    print(f\"{i}\")\n",
    "\n",
    "    X_train_scaled = scaler.fit_transform(X_train)\n",
    "\n",
    "    for metrics_scores in metrics_evaluate:\n",
    "        log_reg_1_values = cross_val_score(estimator = log_reg_1,\n",
    "                                        X = X_train_scaled,\n",
    "                                        y = y_train.values.flatten(),\n",
    "                                        cv = 10, # 10 fold Cross Validation \n",
    "                                        scoring = metrics_evaluate[metrics_scores] # different scoring types\n",
    "                                        )\n",
    "        mean_score = log_reg_1_values.mean()\n",
    "        print(f\"Cross Validation - {metrics_scores}: {(mean_score*100):.2f}\")\n",
    "    print(\"\\n\")\n"
   ]
  },
  {
   "cell_type": "markdown",
   "metadata": {},
   "source": [
    "<h3 style=\"color:cornflowerblue\">Tenure Feature - Result</h3>\n",
    "<p>The model slightly increased its prediction metrics. The missing values of the tenure feature will be calculated.<p>"
   ]
  },
  {
   "cell_type": "code",
   "execution_count": 78,
   "metadata": {},
   "outputs": [],
   "source": [
    "# Replacing Train split tenure columns with the tenure column with the best metrics\n",
    "\n",
    "X_train[\"Tenure\"] = df_tenure_comparison[\"Tenure_Calculated\"]\n",
    "X_train_best = X_train.copy()"
   ]
  },
  {
   "cell_type": "markdown",
   "metadata": {},
   "source": [
    "<h2 style=\"color:cornflowerblue\">Dependents Feature</h2>"
   ]
  },
  {
   "cell_type": "code",
   "execution_count": 79,
   "metadata": {},
   "outputs": [
    {
     "data": {
      "text/plain": [
       "np.int64(171)"
      ]
     },
     "execution_count": 79,
     "metadata": {},
     "output_type": "execute_result"
    }
   ],
   "source": [
    "# Setting the original values to the Dependents column\n",
    "\n",
    "X_train[\"Dependents\"] = X_train_original[\"Dependents\"]\n",
    "X_train[\"Dependents\"].isnull().sum()"
   ]
  },
  {
   "cell_type": "code",
   "execution_count": 80,
   "metadata": {},
   "outputs": [],
   "source": [
    "# Instancing KNN\n",
    "\n",
    "knn_model = KNNImputer(n_neighbors=2)"
   ]
  },
  {
   "cell_type": "code",
   "execution_count": 81,
   "metadata": {},
   "outputs": [
    {
     "data": {
      "text/plain": [
       "array([[1., 0., 1., ..., 1., 0., 1.],\n",
       "       [1., 0., 0., ..., 0., 0., 1.],\n",
       "       [0., 0., 1., ..., 1., 0., 0.],\n",
       "       ...,\n",
       "       [0., 0., 1., ..., 0., 1., 0.],\n",
       "       [0., 0., 1., ..., 0., 0., 0.],\n",
       "       [1., 0., 1., ..., 0., 1., 0.]])"
      ]
     },
     "execution_count": 81,
     "metadata": {},
     "output_type": "execute_result"
    }
   ],
   "source": [
    "# Using X_Train DataFrame to fit the model in a dataframe\n",
    "\n",
    "imputed_model = knn_model.fit_transform(X_train)\n",
    "imputed_model"
   ]
  },
  {
   "cell_type": "code",
   "execution_count": 82,
   "metadata": {},
   "outputs": [
    {
     "data": {
      "text/plain": [
       "array(['Gender', 'Seniorcitizen', 'Partner', 'Dependents', 'Tenure',\n",
       "       'Phoneservice', 'Internetservice', 'Contract', 'Paperlessbilling',\n",
       "       'Paymentmethod', 'Monthlycharges', 'Totalcharges',\n",
       "       'Multiplelines_No phone service', 'Multiplelines_Yes',\n",
       "       'Onlinesecurity_No internet service', 'Onlinesecurity_Yes',\n",
       "       'Onlinebackup_No internet service', 'Onlinebackup_Yes',\n",
       "       'Deviceprotection_No internet service', 'Deviceprotection_Yes',\n",
       "       'Techsupport_No internet service', 'Techsupport_Yes',\n",
       "       'Streamingtv_No internet service', 'Streamingtv_Yes',\n",
       "       'Streamingmovies_No internet service', 'Streamingmovies_Yes'],\n",
       "      dtype=object)"
      ]
     },
     "execution_count": 82,
     "metadata": {},
     "output_type": "execute_result"
    }
   ],
   "source": [
    "knn_model.feature_names_in_"
   ]
  },
  {
   "cell_type": "code",
   "execution_count": 83,
   "metadata": {},
   "outputs": [
    {
     "data": {
      "text/plain": [
       "array([[0.29704797],\n",
       "       [0.        ],\n",
       "       [1.        ],\n",
       "       ...,\n",
       "       [0.29704797],\n",
       "       [1.        ],\n",
       "       [1.        ]])"
      ]
     },
     "execution_count": 83,
     "metadata": {},
     "output_type": "execute_result"
    }
   ],
   "source": [
    "# Using only the Dependents feature to fit the model in a dataframe\n",
    "\n",
    "imputed_model_2 = knn_model.fit_transform(X_train[[\"Dependents\"]])\n",
    "imputed_model_2"
   ]
  },
  {
   "cell_type": "code",
   "execution_count": 84,
   "metadata": {},
   "outputs": [
    {
     "data": {
      "text/plain": [
       "array(['Dependents'], dtype=object)"
      ]
     },
     "execution_count": 84,
     "metadata": {},
     "output_type": "execute_result"
    }
   ],
   "source": [
    "knn_model.feature_names_in_"
   ]
  },
  {
   "cell_type": "code",
   "execution_count": 85,
   "metadata": {},
   "outputs": [
    {
     "data": {
      "text/plain": [
       "array([[1. , 1. , 0.5],\n",
       "       [1. , 0. , 0. ],\n",
       "       [0. , 1. , 1. ],\n",
       "       ...,\n",
       "       [0. , 1. , 1. ],\n",
       "       [0. , 1. , 1. ],\n",
       "       [1. , 1. , 1. ]])"
      ]
     },
     "execution_count": 85,
     "metadata": {},
     "output_type": "execute_result"
    }
   ],
   "source": [
    "imputed_model_3 = knn_model.fit_transform(X_train[[\"Gender\",\"Partner\", \"Dependents\"]])\n",
    "imputed_model_3"
   ]
  },
  {
   "cell_type": "code",
   "execution_count": 86,
   "metadata": {},
   "outputs": [
    {
     "data": {
      "text/plain": [
       "array(['Gender', 'Partner', 'Dependents'], dtype=object)"
      ]
     },
     "execution_count": 86,
     "metadata": {},
     "output_type": "execute_result"
    }
   ],
   "source": [
    "knn_model.feature_names_in_"
   ]
  },
  {
   "cell_type": "code",
   "execution_count": 87,
   "metadata": {},
   "outputs": [
    {
     "data": {
      "text/plain": [
       "np.float64(1329.0)"
      ]
     },
     "execution_count": 87,
     "metadata": {},
     "output_type": "execute_result"
    }
   ],
   "source": [
    "imputed_model[:,3].sum()"
   ]
  },
  {
   "cell_type": "code",
   "execution_count": 88,
   "metadata": {},
   "outputs": [
    {
     "data": {
      "text/plain": [
       "np.float64(1338.7952029520295)"
      ]
     },
     "execution_count": 88,
     "metadata": {},
     "output_type": "execute_result"
    }
   ],
   "source": [
    "imputed_model_2[:,0].sum()"
   ]
  },
  {
   "cell_type": "code",
   "execution_count": 89,
   "metadata": {},
   "outputs": [
    {
     "data": {
      "text/plain": [
       "np.float64(1366.5)"
      ]
     },
     "execution_count": 89,
     "metadata": {},
     "output_type": "execute_result"
    }
   ],
   "source": [
    "imputed_model_3[:,2].sum()"
   ]
  },
  {
   "cell_type": "code",
   "execution_count": 90,
   "metadata": {},
   "outputs": [
    {
     "data": {
      "text/html": [
       "<div>\n",
       "<style scoped>\n",
       "    .dataframe tbody tr th:only-of-type {\n",
       "        vertical-align: middle;\n",
       "    }\n",
       "\n",
       "    .dataframe tbody tr th {\n",
       "        vertical-align: top;\n",
       "    }\n",
       "\n",
       "    .dataframe thead th {\n",
       "        text-align: right;\n",
       "    }\n",
       "</style>\n",
       "<table border=\"1\" class=\"dataframe\">\n",
       "  <thead>\n",
       "    <tr style=\"text-align: right;\">\n",
       "      <th></th>\n",
       "      <th>Dependents_Median</th>\n",
       "      <th>KNN_DF</th>\n",
       "      <th>KNN_Series</th>\n",
       "      <th>KNN_Family</th>\n",
       "    </tr>\n",
       "    <tr>\n",
       "      <th>id</th>\n",
       "      <th></th>\n",
       "      <th></th>\n",
       "      <th></th>\n",
       "      <th></th>\n",
       "    </tr>\n",
       "  </thead>\n",
       "  <tbody>\n",
       "    <tr>\n",
       "      <th>3559</th>\n",
       "      <td>0.00</td>\n",
       "      <td>0.50</td>\n",
       "      <td>0.30</td>\n",
       "      <td>0.50</td>\n",
       "    </tr>\n",
       "    <tr>\n",
       "      <th>896</th>\n",
       "      <td>0.00</td>\n",
       "      <td>0.00</td>\n",
       "      <td>0.00</td>\n",
       "      <td>0.00</td>\n",
       "    </tr>\n",
       "    <tr>\n",
       "      <th>3600</th>\n",
       "      <td>1.00</td>\n",
       "      <td>1.00</td>\n",
       "      <td>1.00</td>\n",
       "      <td>1.00</td>\n",
       "    </tr>\n",
       "    <tr>\n",
       "      <th>6991</th>\n",
       "      <td>0.00</td>\n",
       "      <td>0.00</td>\n",
       "      <td>0.00</td>\n",
       "      <td>0.00</td>\n",
       "    </tr>\n",
       "    <tr>\n",
       "      <th>5455</th>\n",
       "      <td>0.00</td>\n",
       "      <td>0.00</td>\n",
       "      <td>0.00</td>\n",
       "      <td>0.00</td>\n",
       "    </tr>\n",
       "  </tbody>\n",
       "</table>\n",
       "</div>"
      ],
      "text/plain": [
       "      Dependents_Median  KNN_DF  KNN_Series  KNN_Family\n",
       "id                                                     \n",
       "3559               0.00    0.50        0.30        0.50\n",
       "896                0.00    0.00        0.00        0.00\n",
       "3600               1.00    1.00        1.00        1.00\n",
       "6991               0.00    0.00        0.00        0.00\n",
       "5455               0.00    0.00        0.00        0.00"
      ]
     },
     "execution_count": 90,
     "metadata": {},
     "output_type": "execute_result"
    }
   ],
   "source": [
    "# Dataframe to compare metrics\n",
    "\n",
    "# Starting with the original metrics\n",
    "df_knn_comparison = pd.DataFrame(data=X_train[\"Dependents\"], index=X_train.index)\n",
    "df_knn_comparison.columns = [\"Dependents_Median\"]\n",
    "df_knn_comparison.loc[df_knn_comparison[\"Dependents_Median\"].isnull(), \"Dependents_Median\"] = dependents_median\n",
    "\n",
    "# Adding KNN values considering the whole Datafame\n",
    "df_knn_comparison[\"KNN_DF\"] = imputed_model[:,3]\n",
    "\n",
    "# Adding KNN values considering the only the Dependents Column of the original Dataframe\n",
    "df_knn_comparison[\"KNN_Series\"] = imputed_model_2[:,0]\n",
    "\n",
    "# Adding KNN values considering the only the Dependents Column of the original Dataframe\n",
    "df_knn_comparison[\"KNN_Family\"] = imputed_model_3[:,2]\n",
    "\n",
    "\n",
    "df_knn_comparison.head()"
   ]
  },
  {
   "cell_type": "code",
   "execution_count": 91,
   "metadata": {},
   "outputs": [
    {
     "name": "stdout",
     "output_type": "stream",
     "text": [
      "Dependents_Median\n",
      "Cross Validation - Accuracy: 80.87\n",
      "Cross Validation - Precision: 66.76\n",
      "Cross Validation - Recall: 57.08\n",
      "Cross Validation - Specificity: 89.58\n",
      "Cross Validation - F1 Score: 61.42\n",
      "\n",
      "\n",
      "KNN_DF\n",
      "Cross Validation - Accuracy: 80.83\n",
      "Cross Validation - Precision: 66.71\n",
      "Cross Validation - Recall: 56.91\n",
      "Cross Validation - Specificity: 89.58\n",
      "Cross Validation - F1 Score: 61.31\n",
      "\n",
      "\n",
      "KNN_Series\n",
      "Cross Validation - Accuracy: 80.85\n",
      "Cross Validation - Precision: 66.75\n",
      "Cross Validation - Recall: 56.99\n",
      "Cross Validation - Specificity: 89.58\n",
      "Cross Validation - F1 Score: 61.37\n",
      "\n",
      "\n",
      "KNN_Family\n",
      "Cross Validation - Accuracy: 80.81\n",
      "Cross Validation - Precision: 66.60\n",
      "Cross Validation - Recall: 57.08\n",
      "Cross Validation - Specificity: 89.48\n",
      "Cross Validation - F1 Score: 61.36\n",
      "\n",
      "\n"
     ]
    }
   ],
   "source": [
    "# Training using Cross Validation and comparing metrics\n",
    "\n",
    "for i in df_knn_comparison.columns:\n",
    "    X_train[\"Dependents\"] = df_knn_comparison[i]\n",
    "    print(f\"{i}\")\n",
    "\n",
    "    X_train_scaled = scaler.fit_transform(X_train)\n",
    "\n",
    "    for metrics_scores in metrics_evaluate:\n",
    "        log_reg_1_values = cross_val_score(estimator=log_reg_1, \n",
    "                                           X = X_train_scaled, \n",
    "                                           y = y_train.values.flatten(), \n",
    "                                           cv = 10, # 10 fold Cross Validation \n",
    "                                           scoring = metrics_evaluate[metrics_scores] # different scoring types\n",
    "                                           )\n",
    "        mean_score = log_reg_1_values.mean()\n",
    "        print(f\"Cross Validation - {metrics_scores}: {(mean_score*100):.2f}\")\n",
    "    print(\"\\n\")"
   ]
  },
  {
   "cell_type": "markdown",
   "metadata": {},
   "source": [
    "<h3 style=\"color:cornflowerblue\">Dependents Feature - Result</h3>\n",
    "<p>The model did not show significant increase in the metrics. The Median will be used for the missing data values.<p>"
   ]
  },
  {
   "cell_type": "code",
   "execution_count": 92,
   "metadata": {},
   "outputs": [],
   "source": [
    "# Setting values to the best calculated metric.\n",
    "\n",
    "X_train = X_train_best.copy()"
   ]
  },
  {
   "cell_type": "markdown",
   "metadata": {},
   "source": [
    "<h2 style=\"color:cornflowerblue\">New Features</h2>"
   ]
  },
  {
   "cell_type": "code",
   "execution_count": 93,
   "metadata": {},
   "outputs": [
    {
     "data": {
      "text/plain": [
       "Index(['Gender', 'Seniorcitizen', 'Partner', 'Dependents', 'Tenure',\n",
       "       'Phoneservice', 'Internetservice', 'Contract', 'Paperlessbilling',\n",
       "       'Paymentmethod', 'Monthlycharges', 'Totalcharges',\n",
       "       'Multiplelines_No phone service', 'Multiplelines_Yes',\n",
       "       'Onlinesecurity_No internet service', 'Onlinesecurity_Yes',\n",
       "       'Onlinebackup_No internet service', 'Onlinebackup_Yes',\n",
       "       'Deviceprotection_No internet service', 'Deviceprotection_Yes',\n",
       "       'Techsupport_No internet service', 'Techsupport_Yes',\n",
       "       'Streamingtv_No internet service', 'Streamingtv_Yes',\n",
       "       'Streamingmovies_No internet service', 'Streamingmovies_Yes'],\n",
       "      dtype='object')"
      ]
     },
     "execution_count": 93,
     "metadata": {},
     "output_type": "execute_result"
    }
   ],
   "source": [
    "# Checking for columns\n",
    "\n",
    "X_train.columns"
   ]
  },
  {
   "cell_type": "markdown",
   "metadata": {},
   "source": [
    "<h3 style=\"color:cornflowerblue\">Has Internet Feature</h3>\n",
    "<p>Hasinternet: clients with internet services (nominal)</p>"
   ]
  },
  {
   "cell_type": "code",
   "execution_count": 94,
   "metadata": {},
   "outputs": [
    {
     "data": {
      "text/plain": [
       "Internetservice\n",
       "2    1978\n",
       "1    1565\n",
       "0     964\n",
       "Name: count, dtype: int64"
      ]
     },
     "execution_count": 94,
     "metadata": {},
     "output_type": "execute_result"
    }
   ],
   "source": [
    "# Cheking values\n",
    "\n",
    "X_train[\"Internetservice\"].value_counts()"
   ]
  },
  {
   "cell_type": "code",
   "execution_count": 95,
   "metadata": {},
   "outputs": [
    {
     "data": {
      "text/plain": [
       "Hasinternet\n",
       "1    3543\n",
       "0     964\n",
       "Name: count, dtype: int64"
      ]
     },
     "execution_count": 95,
     "metadata": {},
     "output_type": "execute_result"
    }
   ],
   "source": [
    "# Creating column and assigning values \n",
    "\n",
    "X_train[\"Hasinternet\"] = X_train[\"Internetservice\"].isin([1,2]).astype(int)\n",
    "X_train[\"Hasinternet\"].value_counts()"
   ]
  },
  {
   "cell_type": "markdown",
   "metadata": {},
   "source": [
    "<h3 style=\"color:cornflowerblue\">Long Contract Feature</h3>\n",
    "<p>Loncontract: clients with long contract (nominal).</p>"
   ]
  },
  {
   "cell_type": "code",
   "execution_count": 96,
   "metadata": {},
   "outputs": [
    {
     "data": {
      "text/plain": [
       "Contract\n",
       "0    2481\n",
       "2    1089\n",
       "1     937\n",
       "Name: count, dtype: int64"
      ]
     },
     "execution_count": 96,
     "metadata": {},
     "output_type": "execute_result"
    }
   ],
   "source": [
    "# Checking values\n",
    "\n",
    "X_train[\"Contract\"].value_counts()"
   ]
  },
  {
   "cell_type": "code",
   "execution_count": 97,
   "metadata": {},
   "outputs": [
    {
     "data": {
      "text/plain": [
       "Loncontract\n",
       "0    2481\n",
       "1    2026\n",
       "Name: count, dtype: int64"
      ]
     },
     "execution_count": 97,
     "metadata": {},
     "output_type": "execute_result"
    }
   ],
   "source": [
    "# Creating column and assigning values \n",
    "\n",
    "X_train[\"Loncontract\"] = X_train[\"Contract\"].isin([1,2]).astype(int)\n",
    "X_train[\"Loncontract\"].value_counts()"
   ]
  },
  {
   "cell_type": "markdown",
   "metadata": {},
   "source": [
    "<h3 style=\"color:cornflowerblue\">Services Count Feature</h3>\n",
    "<p>Servcount: Amount of services that each client has.</p>"
   ]
  },
  {
   "cell_type": "code",
   "execution_count": 98,
   "metadata": {},
   "outputs": [
    {
     "data": {
      "text/plain": [
       "Servcount\n",
       "1.00    1012\n",
       "5.00     686\n",
       "4.00     659\n",
       "3.00     645\n",
       "6.00     523\n",
       "2.00     477\n",
       "7.00     331\n",
       "8.00     174\n",
       "Name: count, dtype: int64"
      ]
     },
     "execution_count": 98,
     "metadata": {},
     "output_type": "execute_result"
    }
   ],
   "source": [
    "# Creating column and assigning values \n",
    "\n",
    "X_train[\"Servcount\"] = (X_train[\"Hasinternet\"] + \n",
    "                        X_train[\"Phoneservice\"] +\n",
    "                        X_train[\"Onlinesecurity_Yes\"] +\n",
    "                        X_train[\"Onlinebackup_Yes\"] +\n",
    "                        X_train[\"Deviceprotection_Yes\"] +\n",
    "                        X_train[\"Techsupport_Yes\"] +\n",
    "                        X_train[\"Streamingtv_Yes\"] +\n",
    "                        X_train[\"Streamingmovies_Yes\"])\n",
    "\n",
    "X_train[\"Servcount\"].value_counts()"
   ]
  },
  {
   "cell_type": "markdown",
   "metadata": {},
   "source": [
    "<h3 style=\"color:cornflowerblue\">Average Payment Feature</h3>\n",
    "<p>Averagepayment: average payment for each service -> Monthlycharges / Servcount.</p>"
   ]
  },
  {
   "cell_type": "code",
   "execution_count": 99,
   "metadata": {},
   "outputs": [
    {
     "data": {
      "text/plain": [
       "id\n",
       "3559   23.05\n",
       "896    18.86\n",
       "3600   11.61\n",
       "6991   18.72\n",
       "5455   34.77\n",
       "Name: Averagepayment, dtype: float64"
      ]
     },
     "execution_count": 99,
     "metadata": {},
     "output_type": "execute_result"
    }
   ],
   "source": [
    "X_train[\"Averagepayment\"] = X_train[\"Monthlycharges\"] / X_train[\"Servcount\"]\n",
    "X_train[\"Averagepayment\"].head()"
   ]
  },
  {
   "cell_type": "code",
   "execution_count": 100,
   "metadata": {},
   "outputs": [
    {
     "data": {
      "text/html": [
       "<div>\n",
       "<style scoped>\n",
       "    .dataframe tbody tr th:only-of-type {\n",
       "        vertical-align: middle;\n",
       "    }\n",
       "\n",
       "    .dataframe tbody tr th {\n",
       "        vertical-align: top;\n",
       "    }\n",
       "\n",
       "    .dataframe thead th {\n",
       "        text-align: right;\n",
       "    }\n",
       "</style>\n",
       "<table border=\"1\" class=\"dataframe\">\n",
       "  <thead>\n",
       "    <tr style=\"text-align: right;\">\n",
       "      <th></th>\n",
       "      <th>Gender</th>\n",
       "      <th>Seniorcitizen</th>\n",
       "      <th>Partner</th>\n",
       "      <th>Dependents</th>\n",
       "      <th>Tenure</th>\n",
       "      <th>Phoneservice</th>\n",
       "      <th>Internetservice</th>\n",
       "      <th>Contract</th>\n",
       "      <th>Paperlessbilling</th>\n",
       "      <th>Paymentmethod</th>\n",
       "      <th>Monthlycharges</th>\n",
       "      <th>Totalcharges</th>\n",
       "      <th>Multiplelines_No phone service</th>\n",
       "      <th>Multiplelines_Yes</th>\n",
       "      <th>Onlinesecurity_No internet service</th>\n",
       "      <th>Onlinesecurity_Yes</th>\n",
       "      <th>Onlinebackup_No internet service</th>\n",
       "      <th>Onlinebackup_Yes</th>\n",
       "      <th>Deviceprotection_No internet service</th>\n",
       "      <th>Deviceprotection_Yes</th>\n",
       "      <th>Techsupport_No internet service</th>\n",
       "      <th>Techsupport_Yes</th>\n",
       "      <th>Streamingtv_No internet service</th>\n",
       "      <th>Streamingtv_Yes</th>\n",
       "      <th>Streamingmovies_No internet service</th>\n",
       "      <th>Streamingmovies_Yes</th>\n",
       "      <th>Hasinternet</th>\n",
       "      <th>Loncontract</th>\n",
       "      <th>Servcount</th>\n",
       "      <th>Averagepayment</th>\n",
       "    </tr>\n",
       "    <tr>\n",
       "      <th>id</th>\n",
       "      <th></th>\n",
       "      <th></th>\n",
       "      <th></th>\n",
       "      <th></th>\n",
       "      <th></th>\n",
       "      <th></th>\n",
       "      <th></th>\n",
       "      <th></th>\n",
       "      <th></th>\n",
       "      <th></th>\n",
       "      <th></th>\n",
       "      <th></th>\n",
       "      <th></th>\n",
       "      <th></th>\n",
       "      <th></th>\n",
       "      <th></th>\n",
       "      <th></th>\n",
       "      <th></th>\n",
       "      <th></th>\n",
       "      <th></th>\n",
       "      <th></th>\n",
       "      <th></th>\n",
       "      <th></th>\n",
       "      <th></th>\n",
       "      <th></th>\n",
       "      <th></th>\n",
       "      <th></th>\n",
       "      <th></th>\n",
       "      <th></th>\n",
       "      <th></th>\n",
       "    </tr>\n",
       "  </thead>\n",
       "  <tbody>\n",
       "    <tr>\n",
       "      <th>3559</th>\n",
       "      <td>1</td>\n",
       "      <td>0</td>\n",
       "      <td>1</td>\n",
       "      <td>0.00</td>\n",
       "      <td>28.00</td>\n",
       "      <td>1</td>\n",
       "      <td>2</td>\n",
       "      <td>1</td>\n",
       "      <td>0</td>\n",
       "      <td>2.00</td>\n",
       "      <td>92.20</td>\n",
       "      <td>2568.15</td>\n",
       "      <td>0.00</td>\n",
       "      <td>1.00</td>\n",
       "      <td>0.00</td>\n",
       "      <td>0.00</td>\n",
       "      <td>0.00</td>\n",
       "      <td>0.00</td>\n",
       "      <td>0.00</td>\n",
       "      <td>0.00</td>\n",
       "      <td>0.00</td>\n",
       "      <td>0.00</td>\n",
       "      <td>0.00</td>\n",
       "      <td>1.00</td>\n",
       "      <td>0.00</td>\n",
       "      <td>1.00</td>\n",
       "      <td>1</td>\n",
       "      <td>1</td>\n",
       "      <td>4.00</td>\n",
       "      <td>23.05</td>\n",
       "    </tr>\n",
       "    <tr>\n",
       "      <th>896</th>\n",
       "      <td>1</td>\n",
       "      <td>0</td>\n",
       "      <td>0</td>\n",
       "      <td>0.00</td>\n",
       "      <td>30.00</td>\n",
       "      <td>1</td>\n",
       "      <td>2</td>\n",
       "      <td>0</td>\n",
       "      <td>1</td>\n",
       "      <td>1.00</td>\n",
       "      <td>94.30</td>\n",
       "      <td>2679.70</td>\n",
       "      <td>0.00</td>\n",
       "      <td>1.00</td>\n",
       "      <td>0.00</td>\n",
       "      <td>1.00</td>\n",
       "      <td>0.00</td>\n",
       "      <td>1.00</td>\n",
       "      <td>0.00</td>\n",
       "      <td>0.00</td>\n",
       "      <td>0.00</td>\n",
       "      <td>0.00</td>\n",
       "      <td>0.00</td>\n",
       "      <td>0.00</td>\n",
       "      <td>0.00</td>\n",
       "      <td>1.00</td>\n",
       "      <td>1</td>\n",
       "      <td>0</td>\n",
       "      <td>5.00</td>\n",
       "      <td>18.86</td>\n",
       "    </tr>\n",
       "    <tr>\n",
       "      <th>3600</th>\n",
       "      <td>0</td>\n",
       "      <td>0</td>\n",
       "      <td>1</td>\n",
       "      <td>1.00</td>\n",
       "      <td>45.00</td>\n",
       "      <td>1</td>\n",
       "      <td>1</td>\n",
       "      <td>0</td>\n",
       "      <td>0</td>\n",
       "      <td>0.00</td>\n",
       "      <td>81.30</td>\n",
       "      <td>3541.10</td>\n",
       "      <td>0.00</td>\n",
       "      <td>1.00</td>\n",
       "      <td>0.00</td>\n",
       "      <td>1.00</td>\n",
       "      <td>0.00</td>\n",
       "      <td>1.00</td>\n",
       "      <td>0.00</td>\n",
       "      <td>1.00</td>\n",
       "      <td>0.00</td>\n",
       "      <td>1.00</td>\n",
       "      <td>0.00</td>\n",
       "      <td>1.00</td>\n",
       "      <td>0.00</td>\n",
       "      <td>0.00</td>\n",
       "      <td>1</td>\n",
       "      <td>0</td>\n",
       "      <td>7.00</td>\n",
       "      <td>11.61</td>\n",
       "    </tr>\n",
       "    <tr>\n",
       "      <th>6991</th>\n",
       "      <td>1</td>\n",
       "      <td>0</td>\n",
       "      <td>1</td>\n",
       "      <td>0.00</td>\n",
       "      <td>36.00</td>\n",
       "      <td>1</td>\n",
       "      <td>2</td>\n",
       "      <td>0</td>\n",
       "      <td>1</td>\n",
       "      <td>1.00</td>\n",
       "      <td>93.60</td>\n",
       "      <td>3366.05</td>\n",
       "      <td>0.00</td>\n",
       "      <td>0.00</td>\n",
       "      <td>0.00</td>\n",
       "      <td>1.00</td>\n",
       "      <td>0.00</td>\n",
       "      <td>0.00</td>\n",
       "      <td>0.00</td>\n",
       "      <td>0.00</td>\n",
       "      <td>0.00</td>\n",
       "      <td>0.00</td>\n",
       "      <td>0.00</td>\n",
       "      <td>1.00</td>\n",
       "      <td>0.00</td>\n",
       "      <td>1.00</td>\n",
       "      <td>1</td>\n",
       "      <td>0</td>\n",
       "      <td>5.00</td>\n",
       "      <td>18.72</td>\n",
       "    </tr>\n",
       "    <tr>\n",
       "      <th>5455</th>\n",
       "      <td>0</td>\n",
       "      <td>1</td>\n",
       "      <td>1</td>\n",
       "      <td>0.00</td>\n",
       "      <td>1.00</td>\n",
       "      <td>1</td>\n",
       "      <td>2</td>\n",
       "      <td>0</td>\n",
       "      <td>1</td>\n",
       "      <td>1.00</td>\n",
       "      <td>69.55</td>\n",
       "      <td>69.55</td>\n",
       "      <td>0.00</td>\n",
       "      <td>0.00</td>\n",
       "      <td>0.00</td>\n",
       "      <td>0.00</td>\n",
       "      <td>0.00</td>\n",
       "      <td>0.00</td>\n",
       "      <td>0.00</td>\n",
       "      <td>0.00</td>\n",
       "      <td>0.00</td>\n",
       "      <td>0.00</td>\n",
       "      <td>0.00</td>\n",
       "      <td>0.00</td>\n",
       "      <td>0.00</td>\n",
       "      <td>0.00</td>\n",
       "      <td>1</td>\n",
       "      <td>0</td>\n",
       "      <td>2.00</td>\n",
       "      <td>34.77</td>\n",
       "    </tr>\n",
       "  </tbody>\n",
       "</table>\n",
       "</div>"
      ],
      "text/plain": [
       "      Gender  Seniorcitizen  Partner  Dependents  Tenure  Phoneservice  \\\n",
       "id                                                                       \n",
       "3559       1              0        1        0.00   28.00             1   \n",
       "896        1              0        0        0.00   30.00             1   \n",
       "3600       0              0        1        1.00   45.00             1   \n",
       "6991       1              0        1        0.00   36.00             1   \n",
       "5455       0              1        1        0.00    1.00             1   \n",
       "\n",
       "      Internetservice  Contract  Paperlessbilling  Paymentmethod  \\\n",
       "id                                                                 \n",
       "3559                2         1                 0           2.00   \n",
       "896                 2         0                 1           1.00   \n",
       "3600                1         0                 0           0.00   \n",
       "6991                2         0                 1           1.00   \n",
       "5455                2         0                 1           1.00   \n",
       "\n",
       "      Monthlycharges  Totalcharges  Multiplelines_No phone service  \\\n",
       "id                                                                   \n",
       "3559           92.20       2568.15                            0.00   \n",
       "896            94.30       2679.70                            0.00   \n",
       "3600           81.30       3541.10                            0.00   \n",
       "6991           93.60       3366.05                            0.00   \n",
       "5455           69.55         69.55                            0.00   \n",
       "\n",
       "      Multiplelines_Yes  Onlinesecurity_No internet service  \\\n",
       "id                                                            \n",
       "3559               1.00                                0.00   \n",
       "896                1.00                                0.00   \n",
       "3600               1.00                                0.00   \n",
       "6991               0.00                                0.00   \n",
       "5455               0.00                                0.00   \n",
       "\n",
       "      Onlinesecurity_Yes  Onlinebackup_No internet service  Onlinebackup_Yes  \\\n",
       "id                                                                             \n",
       "3559                0.00                              0.00              0.00   \n",
       "896                 1.00                              0.00              1.00   \n",
       "3600                1.00                              0.00              1.00   \n",
       "6991                1.00                              0.00              0.00   \n",
       "5455                0.00                              0.00              0.00   \n",
       "\n",
       "      Deviceprotection_No internet service  Deviceprotection_Yes  \\\n",
       "id                                                                 \n",
       "3559                                  0.00                  0.00   \n",
       "896                                   0.00                  0.00   \n",
       "3600                                  0.00                  1.00   \n",
       "6991                                  0.00                  0.00   \n",
       "5455                                  0.00                  0.00   \n",
       "\n",
       "      Techsupport_No internet service  Techsupport_Yes  \\\n",
       "id                                                       \n",
       "3559                             0.00             0.00   \n",
       "896                              0.00             0.00   \n",
       "3600                             0.00             1.00   \n",
       "6991                             0.00             0.00   \n",
       "5455                             0.00             0.00   \n",
       "\n",
       "      Streamingtv_No internet service  Streamingtv_Yes  \\\n",
       "id                                                       \n",
       "3559                             0.00             1.00   \n",
       "896                              0.00             0.00   \n",
       "3600                             0.00             1.00   \n",
       "6991                             0.00             1.00   \n",
       "5455                             0.00             0.00   \n",
       "\n",
       "      Streamingmovies_No internet service  Streamingmovies_Yes  Hasinternet  \\\n",
       "id                                                                            \n",
       "3559                                 0.00                 1.00            1   \n",
       "896                                  0.00                 1.00            1   \n",
       "3600                                 0.00                 0.00            1   \n",
       "6991                                 0.00                 1.00            1   \n",
       "5455                                 0.00                 0.00            1   \n",
       "\n",
       "      Loncontract  Servcount  Averagepayment  \n",
       "id                                            \n",
       "3559            1       4.00           23.05  \n",
       "896             0       5.00           18.86  \n",
       "3600            0       7.00           11.61  \n",
       "6991            0       5.00           18.72  \n",
       "5455            0       2.00           34.77  "
      ]
     },
     "execution_count": 100,
     "metadata": {},
     "output_type": "execute_result"
    }
   ],
   "source": [
    "X_train.head()"
   ]
  },
  {
   "cell_type": "markdown",
   "metadata": {},
   "source": [
    "<h3 style=\"color:cornflowerblue\">New Features - Predictions</h3>"
   ]
  },
  {
   "cell_type": "code",
   "execution_count": 101,
   "metadata": {},
   "outputs": [
    {
     "name": "stdout",
     "output_type": "stream",
     "text": [
      "Cross Validation - Accuracy: 80.87\n",
      "Cross Validation - Precision: 66.80\n",
      "Cross Validation - Recall: 56.91\n",
      "Cross Validation - Specificity: 89.64\n",
      "Cross Validation - F1 Score: 61.35\n"
     ]
    }
   ],
   "source": [
    "log_reg_1 = LogisticRegression(max_iter=500, random_state=42)\n",
    "\n",
    "# Training using Cross Validation\n",
    "\n",
    "X_train_scaled = scaler.fit_transform(X_train)\n",
    "\n",
    "for i in metrics_evaluate:\n",
    "    log_reg_1_values = cross_val_score(estimator=log_reg_1,\n",
    "                                      X = X_train_scaled,\n",
    "                                      y = y_train.values.flatten(),\n",
    "                                      cv = 10, # 10 fold Cross Validation\n",
    "                                      scoring = metrics_evaluate[i] # different scoring types\n",
    "                                      )\n",
    "    \n",
    "    mean_score = log_reg_1_values.mean()\n",
    "    print(f\"Cross Validation - {i}: {(mean_score*100):.2f}\")"
   ]
  },
  {
   "cell_type": "markdown",
   "metadata": {},
   "source": [
    "<h3 style=\"color:cornflowerblue\">New Features - Results</h3>\n",
    "<p>The adiction of the new features decreased the model predictions. They will be dropped from the model.</p>"
   ]
  },
  {
   "cell_type": "code",
   "execution_count": 102,
   "metadata": {},
   "outputs": [],
   "source": [
    "# Setting the Train split to it's best parameters\n",
    "\n",
    "X_train = X_train_best.copy()"
   ]
  },
  {
   "cell_type": "markdown",
   "metadata": {},
   "source": [
    "<h1 style=\"color:cornflowerblue\">Best Model and Features</h1>\n",
    "<p>The Train split is assigned with the best features.<p>\n",
    "<p>The model that best fits the current problem is Logistic Regression</p>"
   ]
  },
  {
   "cell_type": "code",
   "execution_count": 103,
   "metadata": {},
   "outputs": [
    {
     "data": {
      "text/html": [
       "<div>\n",
       "<style scoped>\n",
       "    .dataframe tbody tr th:only-of-type {\n",
       "        vertical-align: middle;\n",
       "    }\n",
       "\n",
       "    .dataframe tbody tr th {\n",
       "        vertical-align: top;\n",
       "    }\n",
       "\n",
       "    .dataframe thead th {\n",
       "        text-align: right;\n",
       "    }\n",
       "</style>\n",
       "<table border=\"1\" class=\"dataframe\">\n",
       "  <thead>\n",
       "    <tr style=\"text-align: right;\">\n",
       "      <th></th>\n",
       "      <th>Gender</th>\n",
       "      <th>Seniorcitizen</th>\n",
       "      <th>Partner</th>\n",
       "      <th>Dependents</th>\n",
       "      <th>Tenure</th>\n",
       "      <th>Phoneservice</th>\n",
       "      <th>Internetservice</th>\n",
       "      <th>Contract</th>\n",
       "      <th>Paperlessbilling</th>\n",
       "      <th>Paymentmethod</th>\n",
       "      <th>Monthlycharges</th>\n",
       "      <th>Totalcharges</th>\n",
       "      <th>Multiplelines_No phone service</th>\n",
       "      <th>Multiplelines_Yes</th>\n",
       "      <th>Onlinesecurity_No internet service</th>\n",
       "      <th>Onlinesecurity_Yes</th>\n",
       "      <th>Onlinebackup_No internet service</th>\n",
       "      <th>Onlinebackup_Yes</th>\n",
       "      <th>Deviceprotection_No internet service</th>\n",
       "      <th>Deviceprotection_Yes</th>\n",
       "      <th>Techsupport_No internet service</th>\n",
       "      <th>Techsupport_Yes</th>\n",
       "      <th>Streamingtv_No internet service</th>\n",
       "      <th>Streamingtv_Yes</th>\n",
       "      <th>Streamingmovies_No internet service</th>\n",
       "      <th>Streamingmovies_Yes</th>\n",
       "    </tr>\n",
       "    <tr>\n",
       "      <th>id</th>\n",
       "      <th></th>\n",
       "      <th></th>\n",
       "      <th></th>\n",
       "      <th></th>\n",
       "      <th></th>\n",
       "      <th></th>\n",
       "      <th></th>\n",
       "      <th></th>\n",
       "      <th></th>\n",
       "      <th></th>\n",
       "      <th></th>\n",
       "      <th></th>\n",
       "      <th></th>\n",
       "      <th></th>\n",
       "      <th></th>\n",
       "      <th></th>\n",
       "      <th></th>\n",
       "      <th></th>\n",
       "      <th></th>\n",
       "      <th></th>\n",
       "      <th></th>\n",
       "      <th></th>\n",
       "      <th></th>\n",
       "      <th></th>\n",
       "      <th></th>\n",
       "      <th></th>\n",
       "    </tr>\n",
       "  </thead>\n",
       "  <tbody>\n",
       "    <tr>\n",
       "      <th>3559</th>\n",
       "      <td>1</td>\n",
       "      <td>0</td>\n",
       "      <td>1</td>\n",
       "      <td>0.00</td>\n",
       "      <td>28.00</td>\n",
       "      <td>1</td>\n",
       "      <td>2</td>\n",
       "      <td>1</td>\n",
       "      <td>0</td>\n",
       "      <td>2.00</td>\n",
       "      <td>92.20</td>\n",
       "      <td>2568.15</td>\n",
       "      <td>0.00</td>\n",
       "      <td>1.00</td>\n",
       "      <td>0.00</td>\n",
       "      <td>0.00</td>\n",
       "      <td>0.00</td>\n",
       "      <td>0.00</td>\n",
       "      <td>0.00</td>\n",
       "      <td>0.00</td>\n",
       "      <td>0.00</td>\n",
       "      <td>0.00</td>\n",
       "      <td>0.00</td>\n",
       "      <td>1.00</td>\n",
       "      <td>0.00</td>\n",
       "      <td>1.00</td>\n",
       "    </tr>\n",
       "    <tr>\n",
       "      <th>896</th>\n",
       "      <td>1</td>\n",
       "      <td>0</td>\n",
       "      <td>0</td>\n",
       "      <td>0.00</td>\n",
       "      <td>30.00</td>\n",
       "      <td>1</td>\n",
       "      <td>2</td>\n",
       "      <td>0</td>\n",
       "      <td>1</td>\n",
       "      <td>1.00</td>\n",
       "      <td>94.30</td>\n",
       "      <td>2679.70</td>\n",
       "      <td>0.00</td>\n",
       "      <td>1.00</td>\n",
       "      <td>0.00</td>\n",
       "      <td>1.00</td>\n",
       "      <td>0.00</td>\n",
       "      <td>1.00</td>\n",
       "      <td>0.00</td>\n",
       "      <td>0.00</td>\n",
       "      <td>0.00</td>\n",
       "      <td>0.00</td>\n",
       "      <td>0.00</td>\n",
       "      <td>0.00</td>\n",
       "      <td>0.00</td>\n",
       "      <td>1.00</td>\n",
       "    </tr>\n",
       "    <tr>\n",
       "      <th>3600</th>\n",
       "      <td>0</td>\n",
       "      <td>0</td>\n",
       "      <td>1</td>\n",
       "      <td>1.00</td>\n",
       "      <td>45.00</td>\n",
       "      <td>1</td>\n",
       "      <td>1</td>\n",
       "      <td>0</td>\n",
       "      <td>0</td>\n",
       "      <td>0.00</td>\n",
       "      <td>81.30</td>\n",
       "      <td>3541.10</td>\n",
       "      <td>0.00</td>\n",
       "      <td>1.00</td>\n",
       "      <td>0.00</td>\n",
       "      <td>1.00</td>\n",
       "      <td>0.00</td>\n",
       "      <td>1.00</td>\n",
       "      <td>0.00</td>\n",
       "      <td>1.00</td>\n",
       "      <td>0.00</td>\n",
       "      <td>1.00</td>\n",
       "      <td>0.00</td>\n",
       "      <td>1.00</td>\n",
       "      <td>0.00</td>\n",
       "      <td>0.00</td>\n",
       "    </tr>\n",
       "    <tr>\n",
       "      <th>6991</th>\n",
       "      <td>1</td>\n",
       "      <td>0</td>\n",
       "      <td>1</td>\n",
       "      <td>0.00</td>\n",
       "      <td>36.00</td>\n",
       "      <td>1</td>\n",
       "      <td>2</td>\n",
       "      <td>0</td>\n",
       "      <td>1</td>\n",
       "      <td>1.00</td>\n",
       "      <td>93.60</td>\n",
       "      <td>3366.05</td>\n",
       "      <td>0.00</td>\n",
       "      <td>0.00</td>\n",
       "      <td>0.00</td>\n",
       "      <td>1.00</td>\n",
       "      <td>0.00</td>\n",
       "      <td>0.00</td>\n",
       "      <td>0.00</td>\n",
       "      <td>0.00</td>\n",
       "      <td>0.00</td>\n",
       "      <td>0.00</td>\n",
       "      <td>0.00</td>\n",
       "      <td>1.00</td>\n",
       "      <td>0.00</td>\n",
       "      <td>1.00</td>\n",
       "    </tr>\n",
       "    <tr>\n",
       "      <th>5455</th>\n",
       "      <td>0</td>\n",
       "      <td>1</td>\n",
       "      <td>1</td>\n",
       "      <td>0.00</td>\n",
       "      <td>1.00</td>\n",
       "      <td>1</td>\n",
       "      <td>2</td>\n",
       "      <td>0</td>\n",
       "      <td>1</td>\n",
       "      <td>1.00</td>\n",
       "      <td>69.55</td>\n",
       "      <td>69.55</td>\n",
       "      <td>0.00</td>\n",
       "      <td>0.00</td>\n",
       "      <td>0.00</td>\n",
       "      <td>0.00</td>\n",
       "      <td>0.00</td>\n",
       "      <td>0.00</td>\n",
       "      <td>0.00</td>\n",
       "      <td>0.00</td>\n",
       "      <td>0.00</td>\n",
       "      <td>0.00</td>\n",
       "      <td>0.00</td>\n",
       "      <td>0.00</td>\n",
       "      <td>0.00</td>\n",
       "      <td>0.00</td>\n",
       "    </tr>\n",
       "  </tbody>\n",
       "</table>\n",
       "</div>"
      ],
      "text/plain": [
       "      Gender  Seniorcitizen  Partner  Dependents  Tenure  Phoneservice  \\\n",
       "id                                                                       \n",
       "3559       1              0        1        0.00   28.00             1   \n",
       "896        1              0        0        0.00   30.00             1   \n",
       "3600       0              0        1        1.00   45.00             1   \n",
       "6991       1              0        1        0.00   36.00             1   \n",
       "5455       0              1        1        0.00    1.00             1   \n",
       "\n",
       "      Internetservice  Contract  Paperlessbilling  Paymentmethod  \\\n",
       "id                                                                 \n",
       "3559                2         1                 0           2.00   \n",
       "896                 2         0                 1           1.00   \n",
       "3600                1         0                 0           0.00   \n",
       "6991                2         0                 1           1.00   \n",
       "5455                2         0                 1           1.00   \n",
       "\n",
       "      Monthlycharges  Totalcharges  Multiplelines_No phone service  \\\n",
       "id                                                                   \n",
       "3559           92.20       2568.15                            0.00   \n",
       "896            94.30       2679.70                            0.00   \n",
       "3600           81.30       3541.10                            0.00   \n",
       "6991           93.60       3366.05                            0.00   \n",
       "5455           69.55         69.55                            0.00   \n",
       "\n",
       "      Multiplelines_Yes  Onlinesecurity_No internet service  \\\n",
       "id                                                            \n",
       "3559               1.00                                0.00   \n",
       "896                1.00                                0.00   \n",
       "3600               1.00                                0.00   \n",
       "6991               0.00                                0.00   \n",
       "5455               0.00                                0.00   \n",
       "\n",
       "      Onlinesecurity_Yes  Onlinebackup_No internet service  Onlinebackup_Yes  \\\n",
       "id                                                                             \n",
       "3559                0.00                              0.00              0.00   \n",
       "896                 1.00                              0.00              1.00   \n",
       "3600                1.00                              0.00              1.00   \n",
       "6991                1.00                              0.00              0.00   \n",
       "5455                0.00                              0.00              0.00   \n",
       "\n",
       "      Deviceprotection_No internet service  Deviceprotection_Yes  \\\n",
       "id                                                                 \n",
       "3559                                  0.00                  0.00   \n",
       "896                                   0.00                  0.00   \n",
       "3600                                  0.00                  1.00   \n",
       "6991                                  0.00                  0.00   \n",
       "5455                                  0.00                  0.00   \n",
       "\n",
       "      Techsupport_No internet service  Techsupport_Yes  \\\n",
       "id                                                       \n",
       "3559                             0.00             0.00   \n",
       "896                              0.00             0.00   \n",
       "3600                             0.00             1.00   \n",
       "6991                             0.00             0.00   \n",
       "5455                             0.00             0.00   \n",
       "\n",
       "      Streamingtv_No internet service  Streamingtv_Yes  \\\n",
       "id                                                       \n",
       "3559                             0.00             1.00   \n",
       "896                              0.00             0.00   \n",
       "3600                             0.00             1.00   \n",
       "6991                             0.00             1.00   \n",
       "5455                             0.00             0.00   \n",
       "\n",
       "      Streamingmovies_No internet service  Streamingmovies_Yes  \n",
       "id                                                              \n",
       "3559                                 0.00                 1.00  \n",
       "896                                  0.00                 1.00  \n",
       "3600                                 0.00                 0.00  \n",
       "6991                                 0.00                 1.00  \n",
       "5455                                 0.00                 0.00  "
      ]
     },
     "execution_count": 103,
     "metadata": {},
     "output_type": "execute_result"
    }
   ],
   "source": [
    "# Checking the Train split\n",
    "\n",
    "X_train.head()"
   ]
  },
  {
   "cell_type": "code",
   "execution_count": 104,
   "metadata": {},
   "outputs": [
    {
     "data": {
      "text/html": [
       "<div>\n",
       "<style scoped>\n",
       "    .dataframe tbody tr th:only-of-type {\n",
       "        vertical-align: middle;\n",
       "    }\n",
       "\n",
       "    .dataframe tbody tr th {\n",
       "        vertical-align: top;\n",
       "    }\n",
       "\n",
       "    .dataframe thead th {\n",
       "        text-align: right;\n",
       "    }\n",
       "</style>\n",
       "<table border=\"1\" class=\"dataframe\">\n",
       "  <thead>\n",
       "    <tr style=\"text-align: right;\">\n",
       "      <th></th>\n",
       "      <th>Gender</th>\n",
       "      <th>Seniorcitizen</th>\n",
       "      <th>Partner</th>\n",
       "      <th>Dependents</th>\n",
       "      <th>Tenure</th>\n",
       "      <th>Phoneservice</th>\n",
       "      <th>Internetservice</th>\n",
       "      <th>Contract</th>\n",
       "      <th>Paperlessbilling</th>\n",
       "      <th>Paymentmethod</th>\n",
       "      <th>Monthlycharges</th>\n",
       "      <th>Totalcharges</th>\n",
       "      <th>Multiplelines_No phone service</th>\n",
       "      <th>Multiplelines_Yes</th>\n",
       "      <th>Onlinesecurity_No internet service</th>\n",
       "      <th>Onlinesecurity_Yes</th>\n",
       "      <th>Onlinebackup_No internet service</th>\n",
       "      <th>Onlinebackup_Yes</th>\n",
       "      <th>Deviceprotection_No internet service</th>\n",
       "      <th>Deviceprotection_Yes</th>\n",
       "      <th>Techsupport_No internet service</th>\n",
       "      <th>Techsupport_Yes</th>\n",
       "      <th>Streamingtv_No internet service</th>\n",
       "      <th>Streamingtv_Yes</th>\n",
       "      <th>Streamingmovies_No internet service</th>\n",
       "      <th>Streamingmovies_Yes</th>\n",
       "    </tr>\n",
       "    <tr>\n",
       "      <th>id</th>\n",
       "      <th></th>\n",
       "      <th></th>\n",
       "      <th></th>\n",
       "      <th></th>\n",
       "      <th></th>\n",
       "      <th></th>\n",
       "      <th></th>\n",
       "      <th></th>\n",
       "      <th></th>\n",
       "      <th></th>\n",
       "      <th></th>\n",
       "      <th></th>\n",
       "      <th></th>\n",
       "      <th></th>\n",
       "      <th></th>\n",
       "      <th></th>\n",
       "      <th></th>\n",
       "      <th></th>\n",
       "      <th></th>\n",
       "      <th></th>\n",
       "      <th></th>\n",
       "      <th></th>\n",
       "      <th></th>\n",
       "      <th></th>\n",
       "      <th></th>\n",
       "      <th></th>\n",
       "    </tr>\n",
       "  </thead>\n",
       "  <tbody>\n",
       "    <tr>\n",
       "      <th>1998</th>\n",
       "      <td>0</td>\n",
       "      <td>0</td>\n",
       "      <td>1</td>\n",
       "      <td>1.00</td>\n",
       "      <td>67.00</td>\n",
       "      <td>1</td>\n",
       "      <td>2</td>\n",
       "      <td>2</td>\n",
       "      <td>1</td>\n",
       "      <td>2.00</td>\n",
       "      <td>105.65</td>\n",
       "      <td>6717.90</td>\n",
       "      <td>0.00</td>\n",
       "      <td>1.00</td>\n",
       "      <td>0.00</td>\n",
       "      <td>0.00</td>\n",
       "      <td>0.00</td>\n",
       "      <td>0.00</td>\n",
       "      <td>0.00</td>\n",
       "      <td>1.00</td>\n",
       "      <td>0.00</td>\n",
       "      <td>1.00</td>\n",
       "      <td>0.00</td>\n",
       "      <td>1.00</td>\n",
       "      <td>0.00</td>\n",
       "      <td>1.00</td>\n",
       "    </tr>\n",
       "    <tr>\n",
       "      <th>6996</th>\n",
       "      <td>1</td>\n",
       "      <td>0</td>\n",
       "      <td>0</td>\n",
       "      <td>1.00</td>\n",
       "      <td>57.00</td>\n",
       "      <td>1</td>\n",
       "      <td>1</td>\n",
       "      <td>2</td>\n",
       "      <td>0</td>\n",
       "      <td>0.00</td>\n",
       "      <td>89.55</td>\n",
       "      <td>5012.35</td>\n",
       "      <td>0.00</td>\n",
       "      <td>1.00</td>\n",
       "      <td>0.00</td>\n",
       "      <td>1.00</td>\n",
       "      <td>0.00</td>\n",
       "      <td>1.00</td>\n",
       "      <td>0.00</td>\n",
       "      <td>1.00</td>\n",
       "      <td>0.00</td>\n",
       "      <td>1.00</td>\n",
       "      <td>0.00</td>\n",
       "      <td>1.00</td>\n",
       "      <td>0.00</td>\n",
       "      <td>1.00</td>\n",
       "    </tr>\n",
       "    <tr>\n",
       "      <th>4668</th>\n",
       "      <td>0</td>\n",
       "      <td>0</td>\n",
       "      <td>1</td>\n",
       "      <td>0.00</td>\n",
       "      <td>20.00</td>\n",
       "      <td>1</td>\n",
       "      <td>0</td>\n",
       "      <td>0</td>\n",
       "      <td>0</td>\n",
       "      <td>2.00</td>\n",
       "      <td>19.25</td>\n",
       "      <td>375.25</td>\n",
       "      <td>0.00</td>\n",
       "      <td>0.00</td>\n",
       "      <td>1.00</td>\n",
       "      <td>0.00</td>\n",
       "      <td>1.00</td>\n",
       "      <td>0.00</td>\n",
       "      <td>1.00</td>\n",
       "      <td>0.00</td>\n",
       "      <td>1.00</td>\n",
       "      <td>0.00</td>\n",
       "      <td>1.00</td>\n",
       "      <td>0.00</td>\n",
       "      <td>1.00</td>\n",
       "      <td>0.00</td>\n",
       "    </tr>\n",
       "    <tr>\n",
       "      <th>2799</th>\n",
       "      <td>1</td>\n",
       "      <td>0</td>\n",
       "      <td>0</td>\n",
       "      <td>0.00</td>\n",
       "      <td>NaN</td>\n",
       "      <td>1</td>\n",
       "      <td>2</td>\n",
       "      <td>0</td>\n",
       "      <td>1</td>\n",
       "      <td>1.00</td>\n",
       "      <td>94.90</td>\n",
       "      <td>1048.85</td>\n",
       "      <td>0.00</td>\n",
       "      <td>0.00</td>\n",
       "      <td>0.00</td>\n",
       "      <td>0.00</td>\n",
       "      <td>0.00</td>\n",
       "      <td>0.00</td>\n",
       "      <td>0.00</td>\n",
       "      <td>1.00</td>\n",
       "      <td>0.00</td>\n",
       "      <td>0.00</td>\n",
       "      <td>0.00</td>\n",
       "      <td>1.00</td>\n",
       "      <td>0.00</td>\n",
       "      <td>1.00</td>\n",
       "    </tr>\n",
       "    <tr>\n",
       "      <th>5110</th>\n",
       "      <td>1</td>\n",
       "      <td>0</td>\n",
       "      <td>1</td>\n",
       "      <td>1.00</td>\n",
       "      <td>66.00</td>\n",
       "      <td>1</td>\n",
       "      <td>1</td>\n",
       "      <td>2</td>\n",
       "      <td>0</td>\n",
       "      <td>0.00</td>\n",
       "      <td>65.85</td>\n",
       "      <td>4097.05</td>\n",
       "      <td>0.00</td>\n",
       "      <td>0.00</td>\n",
       "      <td>0.00</td>\n",
       "      <td>1.00</td>\n",
       "      <td>0.00</td>\n",
       "      <td>1.00</td>\n",
       "      <td>0.00</td>\n",
       "      <td>1.00</td>\n",
       "      <td>0.00</td>\n",
       "      <td>1.00</td>\n",
       "      <td>0.00</td>\n",
       "      <td>0.00</td>\n",
       "      <td>0.00</td>\n",
       "      <td>0.00</td>\n",
       "    </tr>\n",
       "  </tbody>\n",
       "</table>\n",
       "</div>"
      ],
      "text/plain": [
       "      Gender  Seniorcitizen  Partner  Dependents  Tenure  Phoneservice  \\\n",
       "id                                                                       \n",
       "1998       0              0        1        1.00   67.00             1   \n",
       "6996       1              0        0        1.00   57.00             1   \n",
       "4668       0              0        1        0.00   20.00             1   \n",
       "2799       1              0        0        0.00     NaN             1   \n",
       "5110       1              0        1        1.00   66.00             1   \n",
       "\n",
       "      Internetservice  Contract  Paperlessbilling  Paymentmethod  \\\n",
       "id                                                                 \n",
       "1998                2         2                 1           2.00   \n",
       "6996                1         2                 0           0.00   \n",
       "4668                0         0                 0           2.00   \n",
       "2799                2         0                 1           1.00   \n",
       "5110                1         2                 0           0.00   \n",
       "\n",
       "      Monthlycharges  Totalcharges  Multiplelines_No phone service  \\\n",
       "id                                                                   \n",
       "1998          105.65       6717.90                            0.00   \n",
       "6996           89.55       5012.35                            0.00   \n",
       "4668           19.25        375.25                            0.00   \n",
       "2799           94.90       1048.85                            0.00   \n",
       "5110           65.85       4097.05                            0.00   \n",
       "\n",
       "      Multiplelines_Yes  Onlinesecurity_No internet service  \\\n",
       "id                                                            \n",
       "1998               1.00                                0.00   \n",
       "6996               1.00                                0.00   \n",
       "4668               0.00                                1.00   \n",
       "2799               0.00                                0.00   \n",
       "5110               0.00                                0.00   \n",
       "\n",
       "      Onlinesecurity_Yes  Onlinebackup_No internet service  Onlinebackup_Yes  \\\n",
       "id                                                                             \n",
       "1998                0.00                              0.00              0.00   \n",
       "6996                1.00                              0.00              1.00   \n",
       "4668                0.00                              1.00              0.00   \n",
       "2799                0.00                              0.00              0.00   \n",
       "5110                1.00                              0.00              1.00   \n",
       "\n",
       "      Deviceprotection_No internet service  Deviceprotection_Yes  \\\n",
       "id                                                                 \n",
       "1998                                  0.00                  1.00   \n",
       "6996                                  0.00                  1.00   \n",
       "4668                                  1.00                  0.00   \n",
       "2799                                  0.00                  1.00   \n",
       "5110                                  0.00                  1.00   \n",
       "\n",
       "      Techsupport_No internet service  Techsupport_Yes  \\\n",
       "id                                                       \n",
       "1998                             0.00             1.00   \n",
       "6996                             0.00             1.00   \n",
       "4668                             1.00             0.00   \n",
       "2799                             0.00             0.00   \n",
       "5110                             0.00             1.00   \n",
       "\n",
       "      Streamingtv_No internet service  Streamingtv_Yes  \\\n",
       "id                                                       \n",
       "1998                             0.00             1.00   \n",
       "6996                             0.00             1.00   \n",
       "4668                             1.00             0.00   \n",
       "2799                             0.00             1.00   \n",
       "5110                             0.00             0.00   \n",
       "\n",
       "      Streamingmovies_No internet service  Streamingmovies_Yes  \n",
       "id                                                              \n",
       "1998                                 0.00                 1.00  \n",
       "6996                                 0.00                 1.00  \n",
       "4668                                 1.00                 0.00  \n",
       "2799                                 0.00                 1.00  \n",
       "5110                                 0.00                 0.00  "
      ]
     },
     "execution_count": 104,
     "metadata": {},
     "output_type": "execute_result"
    }
   ],
   "source": [
    "# Checking the Test split\n",
    "\n",
    "X_test.head()"
   ]
  },
  {
   "cell_type": "code",
   "execution_count": 105,
   "metadata": {},
   "outputs": [
    {
     "data": {
      "text/html": [
       "<div>\n",
       "<style scoped>\n",
       "    .dataframe tbody tr th:only-of-type {\n",
       "        vertical-align: middle;\n",
       "    }\n",
       "\n",
       "    .dataframe tbody tr th {\n",
       "        vertical-align: top;\n",
       "    }\n",
       "\n",
       "    .dataframe thead th {\n",
       "        text-align: right;\n",
       "    }\n",
       "</style>\n",
       "<table border=\"1\" class=\"dataframe\">\n",
       "  <thead>\n",
       "    <tr style=\"text-align: right;\">\n",
       "      <th></th>\n",
       "      <th>col_name</th>\n",
       "      <th>count_nulls</th>\n",
       "    </tr>\n",
       "  </thead>\n",
       "  <tbody>\n",
       "    <tr>\n",
       "      <th>3</th>\n",
       "      <td>Dependents</td>\n",
       "      <td>47</td>\n",
       "    </tr>\n",
       "    <tr>\n",
       "      <th>4</th>\n",
       "      <td>Tenure</td>\n",
       "      <td>95</td>\n",
       "    </tr>\n",
       "    <tr>\n",
       "      <th>9</th>\n",
       "      <td>Paymentmethod</td>\n",
       "      <td>21</td>\n",
       "    </tr>\n",
       "    <tr>\n",
       "      <th>11</th>\n",
       "      <td>Totalcharges</td>\n",
       "      <td>2</td>\n",
       "    </tr>\n",
       "  </tbody>\n",
       "</table>\n",
       "</div>"
      ],
      "text/plain": [
       "         col_name  count_nulls\n",
       "3      Dependents           47\n",
       "4          Tenure           95\n",
       "9   Paymentmethod           21\n",
       "11   Totalcharges            2"
      ]
     },
     "execution_count": 105,
     "metadata": {},
     "output_type": "execute_result"
    }
   ],
   "source": [
    "# Original missing values from the Test Split\n",
    "\n",
    "df_nulls_X_test"
   ]
  },
  {
   "cell_type": "code",
   "execution_count": 106,
   "metadata": {},
   "outputs": [
    {
     "data": {
      "text/plain": [
       "Gender                                   0\n",
       "Seniorcitizen                            0\n",
       "Partner                                  0\n",
       "Dependents                              47\n",
       "Tenure                                  95\n",
       "Phoneservice                             0\n",
       "Internetservice                          0\n",
       "Contract                                 0\n",
       "Paperlessbilling                         0\n",
       "Paymentmethod                           21\n",
       "Monthlycharges                           0\n",
       "Totalcharges                             2\n",
       "Multiplelines_No phone service           0\n",
       "Multiplelines_Yes                        0\n",
       "Onlinesecurity_No internet service       0\n",
       "Onlinesecurity_Yes                       0\n",
       "Onlinebackup_No internet service         0\n",
       "Onlinebackup_Yes                         0\n",
       "Deviceprotection_No internet service     0\n",
       "Deviceprotection_Yes                     0\n",
       "Techsupport_No internet service          0\n",
       "Techsupport_Yes                          0\n",
       "Streamingtv_No internet service          0\n",
       "Streamingtv_Yes                          0\n",
       "Streamingmovies_No internet service      0\n",
       "Streamingmovies_Yes                      0\n",
       "dtype: int64"
      ]
     },
     "execution_count": 106,
     "metadata": {},
     "output_type": "execute_result"
    }
   ],
   "source": [
    "# Original missing values from the Test Split\n",
    "\n",
    "X_test.isna().sum()"
   ]
  },
  {
   "cell_type": "code",
   "execution_count": 107,
   "metadata": {},
   "outputs": [],
   "source": [
    "# Dependents Feature - median will replace missing values\n",
    "X_test.loc[X_test[\"Dependents\"].isna(), \"Dependents\"] = dependents_median\n",
    "\n",
    "\n",
    "# Tenure Feature - Calculated as Totalcharges / Monthlycharges\n",
    "X_test.loc[X_test[\"Tenure\"].isna(), \"Tenure\"] = X_test.loc[X_test[\"Tenure\"].isna(), \"Totalcharges\"] / X_test.loc[X_test[\"Tenure\"].isna(), \"Monthlycharges\"]\n",
    "\n",
    "\n",
    "# Paymentmethod Feature - Mode\n",
    "X_test.loc[X_test[\"Paymentmethod\"].isna(), \"Paymentmethod\"] = paymethod_mode\n",
    "\n",
    "\n",
    "# Totalcharges Feature - Median\n",
    "X_test.loc[X_test[\"Totalcharges\"].isna(), \"Totalcharges\"] = totalcharge_median"
   ]
  },
  {
   "cell_type": "code",
   "execution_count": 108,
   "metadata": {},
   "outputs": [
    {
     "data": {
      "text/plain": [
       "Gender                                  0\n",
       "Seniorcitizen                           0\n",
       "Partner                                 0\n",
       "Dependents                              0\n",
       "Tenure                                  0\n",
       "Phoneservice                            0\n",
       "Internetservice                         0\n",
       "Contract                                0\n",
       "Paperlessbilling                        0\n",
       "Paymentmethod                           0\n",
       "Monthlycharges                          0\n",
       "Totalcharges                            0\n",
       "Multiplelines_No phone service          0\n",
       "Multiplelines_Yes                       0\n",
       "Onlinesecurity_No internet service      0\n",
       "Onlinesecurity_Yes                      0\n",
       "Onlinebackup_No internet service        0\n",
       "Onlinebackup_Yes                        0\n",
       "Deviceprotection_No internet service    0\n",
       "Deviceprotection_Yes                    0\n",
       "Techsupport_No internet service         0\n",
       "Techsupport_Yes                         0\n",
       "Streamingtv_No internet service         0\n",
       "Streamingtv_Yes                         0\n",
       "Streamingmovies_No internet service     0\n",
       "Streamingmovies_Yes                     0\n",
       "dtype: int64"
      ]
     },
     "execution_count": 108,
     "metadata": {},
     "output_type": "execute_result"
    }
   ],
   "source": [
    "# Checking missing values\n",
    "\n",
    "X_test.isna().sum()"
   ]
  },
  {
   "cell_type": "code",
   "execution_count": 109,
   "metadata": {},
   "outputs": [],
   "source": [
    "# Creating final model\n",
    "\n",
    "final_lr_model = LogisticRegression(random_state=42, max_iter=500)\n",
    "\n",
    "X_train_scaled = scaler.fit_transform(X_train)\n",
    "\n",
    "final_model = final_lr_model.fit(X_train_scaled, y_train.values.flatten())"
   ]
  },
  {
   "cell_type": "code",
   "execution_count": 110,
   "metadata": {},
   "outputs": [
    {
     "data": {
      "text/plain": [
       "array([[-8.27111508e-03,  1.22819163e-01, -2.79330073e-02,\n",
       "        -5.70786257e-02, -1.52735980e+00, -7.37416532e-02,\n",
       "         8.00650701e-01, -5.81573872e-01,  2.24634977e-01,\n",
       "        -1.27131297e-04, -1.89660348e-01,  7.84910930e-01,\n",
       "         7.37416532e-02,  1.35335036e-01, -6.86138764e-03,\n",
       "        -2.16074119e-01, -6.86138764e-03, -7.86288608e-02,\n",
       "        -6.86138764e-03, -5.41934235e-02, -6.86138764e-03,\n",
       "        -1.55327349e-01, -6.86138764e-03,  1.56649070e-01,\n",
       "        -6.86138764e-03,  1.13249858e-01]])"
      ]
     },
     "execution_count": 110,
     "metadata": {},
     "output_type": "execute_result"
    }
   ],
   "source": [
    "# Checking model coeficients\n",
    "\n",
    "final_model.coef_"
   ]
  },
  {
   "cell_type": "code",
   "execution_count": 111,
   "metadata": {},
   "outputs": [
    {
     "data": {
      "text/html": [
       "<div>\n",
       "<style scoped>\n",
       "    .dataframe tbody tr th:only-of-type {\n",
       "        vertical-align: middle;\n",
       "    }\n",
       "\n",
       "    .dataframe tbody tr th {\n",
       "        vertical-align: top;\n",
       "    }\n",
       "\n",
       "    .dataframe thead th {\n",
       "        text-align: right;\n",
       "    }\n",
       "</style>\n",
       "<table border=\"1\" class=\"dataframe\">\n",
       "  <thead>\n",
       "    <tr style=\"text-align: right;\">\n",
       "      <th></th>\n",
       "      <th>Gender</th>\n",
       "      <th>Seniorcitizen</th>\n",
       "      <th>Partner</th>\n",
       "      <th>Dependents</th>\n",
       "      <th>Tenure</th>\n",
       "      <th>Phoneservice</th>\n",
       "      <th>Internetservice</th>\n",
       "      <th>Contract</th>\n",
       "      <th>Paperlessbilling</th>\n",
       "      <th>Paymentmethod</th>\n",
       "      <th>Monthlycharges</th>\n",
       "      <th>Totalcharges</th>\n",
       "      <th>Multiplelines_No phone service</th>\n",
       "      <th>Multiplelines_Yes</th>\n",
       "      <th>Onlinesecurity_No internet service</th>\n",
       "      <th>Onlinesecurity_Yes</th>\n",
       "      <th>Onlinebackup_No internet service</th>\n",
       "      <th>Onlinebackup_Yes</th>\n",
       "      <th>Deviceprotection_No internet service</th>\n",
       "      <th>Deviceprotection_Yes</th>\n",
       "      <th>Techsupport_No internet service</th>\n",
       "      <th>Techsupport_Yes</th>\n",
       "      <th>Streamingtv_No internet service</th>\n",
       "      <th>Streamingtv_Yes</th>\n",
       "      <th>Streamingmovies_No internet service</th>\n",
       "      <th>Streamingmovies_Yes</th>\n",
       "    </tr>\n",
       "  </thead>\n",
       "  <tbody>\n",
       "    <tr>\n",
       "      <th>0</th>\n",
       "      <td>-0.01</td>\n",
       "      <td>0.12</td>\n",
       "      <td>-0.03</td>\n",
       "      <td>-0.06</td>\n",
       "      <td>-1.53</td>\n",
       "      <td>-0.07</td>\n",
       "      <td>0.80</td>\n",
       "      <td>-0.58</td>\n",
       "      <td>0.22</td>\n",
       "      <td>-0.00</td>\n",
       "      <td>-0.19</td>\n",
       "      <td>0.78</td>\n",
       "      <td>0.07</td>\n",
       "      <td>0.14</td>\n",
       "      <td>-0.01</td>\n",
       "      <td>-0.22</td>\n",
       "      <td>-0.01</td>\n",
       "      <td>-0.08</td>\n",
       "      <td>-0.01</td>\n",
       "      <td>-0.05</td>\n",
       "      <td>-0.01</td>\n",
       "      <td>-0.16</td>\n",
       "      <td>-0.01</td>\n",
       "      <td>0.16</td>\n",
       "      <td>-0.01</td>\n",
       "      <td>0.11</td>\n",
       "    </tr>\n",
       "  </tbody>\n",
       "</table>\n",
       "</div>"
      ],
      "text/plain": [
       "   Gender  Seniorcitizen  Partner  Dependents  Tenure  Phoneservice  \\\n",
       "0   -0.01           0.12    -0.03       -0.06   -1.53         -0.07   \n",
       "\n",
       "   Internetservice  Contract  Paperlessbilling  Paymentmethod  Monthlycharges  \\\n",
       "0             0.80     -0.58              0.22          -0.00           -0.19   \n",
       "\n",
       "   Totalcharges  Multiplelines_No phone service  Multiplelines_Yes  \\\n",
       "0          0.78                            0.07               0.14   \n",
       "\n",
       "   Onlinesecurity_No internet service  Onlinesecurity_Yes  \\\n",
       "0                               -0.01               -0.22   \n",
       "\n",
       "   Onlinebackup_No internet service  Onlinebackup_Yes  \\\n",
       "0                             -0.01             -0.08   \n",
       "\n",
       "   Deviceprotection_No internet service  Deviceprotection_Yes  \\\n",
       "0                                 -0.01                 -0.05   \n",
       "\n",
       "   Techsupport_No internet service  Techsupport_Yes  \\\n",
       "0                            -0.01            -0.16   \n",
       "\n",
       "   Streamingtv_No internet service  Streamingtv_Yes  \\\n",
       "0                            -0.01             0.16   \n",
       "\n",
       "   Streamingmovies_No internet service  Streamingmovies_Yes  \n",
       "0                                -0.01                 0.11  "
      ]
     },
     "execution_count": 111,
     "metadata": {},
     "output_type": "execute_result"
    }
   ],
   "source": [
    "# Adding model coeficients to a dataframe with its original columns\n",
    "df_coef = pd.DataFrame(data=final_model.coef_)\n",
    "df_coef.columns = X_train.columns.tolist()\n",
    "df_coef\n"
   ]
  },
  {
   "cell_type": "markdown",
   "metadata": {},
   "source": [
    "<h1 style=\"color:cornflowerblue\">Testing Final Model</h1>"
   ]
  },
  {
   "cell_type": "code",
   "execution_count": 112,
   "metadata": {},
   "outputs": [
    {
     "data": {
      "text/plain": [
       "array([0, 0, 0, 1, 0])"
      ]
     },
     "execution_count": 112,
     "metadata": {},
     "output_type": "execute_result"
    }
   ],
   "source": [
    "# Checking predictions\n",
    "\n",
    "X_test_scaled = scaler.fit_transform(X_test)\n",
    "\n",
    "churn_predictions = final_model.predict(X_test_scaled)\n",
    "churn_predictions[:5]"
   ]
  },
  {
   "cell_type": "code",
   "execution_count": 113,
   "metadata": {},
   "outputs": [
    {
     "data": {
      "text/html": [
       "<div>\n",
       "<style scoped>\n",
       "    .dataframe tbody tr th:only-of-type {\n",
       "        vertical-align: middle;\n",
       "    }\n",
       "\n",
       "    .dataframe tbody tr th {\n",
       "        vertical-align: top;\n",
       "    }\n",
       "\n",
       "    .dataframe thead th {\n",
       "        text-align: right;\n",
       "    }\n",
       "</style>\n",
       "<table border=\"1\" class=\"dataframe\">\n",
       "  <thead>\n",
       "    <tr style=\"text-align: right;\">\n",
       "      <th></th>\n",
       "      <th>real</th>\n",
       "      <th>prediction</th>\n",
       "    </tr>\n",
       "  </thead>\n",
       "  <tbody>\n",
       "    <tr>\n",
       "      <th>0</th>\n",
       "      <td>0</td>\n",
       "      <td>0</td>\n",
       "    </tr>\n",
       "    <tr>\n",
       "      <th>1</th>\n",
       "      <td>0</td>\n",
       "      <td>0</td>\n",
       "    </tr>\n",
       "    <tr>\n",
       "      <th>2</th>\n",
       "      <td>0</td>\n",
       "      <td>0</td>\n",
       "    </tr>\n",
       "    <tr>\n",
       "      <th>3</th>\n",
       "      <td>1</td>\n",
       "      <td>1</td>\n",
       "    </tr>\n",
       "    <tr>\n",
       "      <th>4</th>\n",
       "      <td>0</td>\n",
       "      <td>0</td>\n",
       "    </tr>\n",
       "    <tr>\n",
       "      <th>5</th>\n",
       "      <td>0</td>\n",
       "      <td>0</td>\n",
       "    </tr>\n",
       "    <tr>\n",
       "      <th>6</th>\n",
       "      <td>1</td>\n",
       "      <td>1</td>\n",
       "    </tr>\n",
       "    <tr>\n",
       "      <th>7</th>\n",
       "      <td>0</td>\n",
       "      <td>0</td>\n",
       "    </tr>\n",
       "    <tr>\n",
       "      <th>8</th>\n",
       "      <td>0</td>\n",
       "      <td>0</td>\n",
       "    </tr>\n",
       "    <tr>\n",
       "      <th>9</th>\n",
       "      <td>0</td>\n",
       "      <td>0</td>\n",
       "    </tr>\n",
       "    <tr>\n",
       "      <th>10</th>\n",
       "      <td>0</td>\n",
       "      <td>1</td>\n",
       "    </tr>\n",
       "    <tr>\n",
       "      <th>11</th>\n",
       "      <td>1</td>\n",
       "      <td>0</td>\n",
       "    </tr>\n",
       "    <tr>\n",
       "      <th>12</th>\n",
       "      <td>0</td>\n",
       "      <td>0</td>\n",
       "    </tr>\n",
       "    <tr>\n",
       "      <th>13</th>\n",
       "      <td>0</td>\n",
       "      <td>0</td>\n",
       "    </tr>\n",
       "    <tr>\n",
       "      <th>14</th>\n",
       "      <td>0</td>\n",
       "      <td>0</td>\n",
       "    </tr>\n",
       "    <tr>\n",
       "      <th>15</th>\n",
       "      <td>1</td>\n",
       "      <td>0</td>\n",
       "    </tr>\n",
       "    <tr>\n",
       "      <th>16</th>\n",
       "      <td>0</td>\n",
       "      <td>0</td>\n",
       "    </tr>\n",
       "    <tr>\n",
       "      <th>17</th>\n",
       "      <td>0</td>\n",
       "      <td>0</td>\n",
       "    </tr>\n",
       "    <tr>\n",
       "      <th>18</th>\n",
       "      <td>0</td>\n",
       "      <td>0</td>\n",
       "    </tr>\n",
       "    <tr>\n",
       "      <th>19</th>\n",
       "      <td>0</td>\n",
       "      <td>0</td>\n",
       "    </tr>\n",
       "  </tbody>\n",
       "</table>\n",
       "</div>"
      ],
      "text/plain": [
       "    real  prediction\n",
       "0      0           0\n",
       "1      0           0\n",
       "2      0           0\n",
       "3      1           1\n",
       "4      0           0\n",
       "5      0           0\n",
       "6      1           1\n",
       "7      0           0\n",
       "8      0           0\n",
       "9      0           0\n",
       "10     0           1\n",
       "11     1           0\n",
       "12     0           0\n",
       "13     0           0\n",
       "14     0           0\n",
       "15     1           0\n",
       "16     0           0\n",
       "17     0           0\n",
       "18     0           0\n",
       "19     0           0"
      ]
     },
     "execution_count": 113,
     "metadata": {},
     "output_type": "execute_result"
    }
   ],
   "source": [
    "# Creating dataframe to compare prediction and real values\n",
    "\n",
    "df_prediction = pd.DataFrame({\"real\": y_test.values.flatten(), \"prediction\":churn_predictions.flatten()})\n",
    "df_prediction.head(20)"
   ]
  },
  {
   "cell_type": "code",
   "execution_count": 114,
   "metadata": {},
   "outputs": [
    {
     "name": "stdout",
     "output_type": "stream",
     "text": [
      "Model Accuracy: 79.50\n",
      "Model Precision: 60.44\n",
      "Model Recall: 57.29\n",
      "Model F1 Score: 58.82\n"
     ]
    }
   ],
   "source": [
    "# Evaluating Predictions\n",
    "\n",
    "final_acc = accuracy_score(y_true=df_prediction[\"real\"], y_pred=df_prediction[\"prediction\"])*100\n",
    "print(f\"Model Accuracy: {final_acc:.2f}\")\n",
    "\n",
    "final_precision = precision_score(y_true=df_prediction[\"real\"], y_pred=df_prediction[\"prediction\"])*100\n",
    "print(f\"Model Precision: {final_precision:.2f}\")\n",
    "\n",
    "final_recall = recall_score(y_true=df_prediction[\"real\"], y_pred=df_prediction[\"prediction\"])*100\n",
    "print(f\"Model Recall: {final_recall:.2f}\")\n",
    "\n",
    "final_f1 = f1_score(y_true=df_prediction[\"real\"], y_pred=df_prediction[\"prediction\"])*100\n",
    "print(f\"Model F1 Score: {final_f1:.2f}\")"
   ]
  },
  {
   "cell_type": "markdown",
   "metadata": {},
   "source": [
    "<h1 style=\"color:cornflowerblue\">Conclusions</h1>\n",
    "<p>The precision decreased about 6% in comparison to the train split, whule the F1 Score decreased about 3%. Other metrics decreased in a smaller rate. The models seems to be generic enough for it's purpose.</p>"
   ]
  }
 ],
 "metadata": {
  "kernelspec": {
   "display_name": "Python 3",
   "language": "python",
   "name": "python3"
  },
  "language_info": {
   "codemirror_mode": {
    "name": "ipython",
    "version": 3
   },
   "file_extension": ".py",
   "mimetype": "text/x-python",
   "name": "python",
   "nbconvert_exporter": "python",
   "pygments_lexer": "ipython3",
   "version": "3.12.5"
  }
 },
 "nbformat": 4,
 "nbformat_minor": 2
}
